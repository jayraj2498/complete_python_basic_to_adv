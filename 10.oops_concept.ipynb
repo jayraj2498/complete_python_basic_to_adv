{
 "cells": [
  {
   "cell_type": "markdown",
   "metadata": {},
   "source": [
    " (OOP) is a programming paradigm that uses objects — which are instances of classes — for structuring code. \n",
    "Python is an object-oriented programming language, and it follows the principles of OOP"
   ]
  },
  {
   "cell_type": "markdown",
   "metadata": {},
   "source": [
    "OOP in Python revolves around classes and objects.\n",
    "\n",
    "Inheritance allows for code reuse and extensibility.\n",
    "\n",
    "Encapsulation enhances security and abstraction.\n",
    "\n",
    "Polymorphism enables the use of a single interface for different types.\n",
    "\n",
    "Abstraction simplifies the complexity of code by hiding unnecessary details."
   ]
  },
  {
   "cell_type": "markdown",
   "metadata": {},
   "source": [
    "# 1. Classes and Objects:"
   ]
  },
  {
   "cell_type": "code",
   "execution_count": null,
   "metadata": {},
   "outputs": [],
   "source": [
    "# 1. Classes and Objects:\n",
    "# Class: A class is a blueprint for creating objects. \n",
    "# It defines a data structure that contains attributes (data members) and methods (functions).\n",
    "\n",
    "# Object: An object is an instance of a class. \n",
    "# It represents a real-world entity and has a state (attributes) and behavior (methods)."
   ]
  },
  {
   "cell_type": "code",
   "execution_count": null,
   "metadata": {},
   "outputs": [],
   "source": [
    "class Dog:   # class \n",
    "    def __init__(self, name, age):\n",
    "        self.name = name\n",
    "        self.age = age\n",
    "\n",
    "    def bark(self):\n",
    "        print(\"Woof!\")\n",
    "\n",
    "# Creating instances of the Dog class\n",
    "dog1 = Dog(\"Buddy\", 3)     # object \n",
    "dog2 = Dog(\"Max\", 5)\n"
   ]
  },
  {
   "cell_type": "code",
   "execution_count": 7,
   "metadata": {},
   "outputs": [
    {
     "name": "stdout",
     "output_type": "stream",
     "text": [
      "tesla\n",
      "tesla\n",
      "TATA\n",
      "TATA\n"
     ]
    }
   ],
   "source": [
    "# class attribuet \n",
    "# changing the class attribute \n",
    "# a attribute that belongs to class rahter than particular object / whatever thing tht directly link with class  \n",
    "\n",
    "class emp :\n",
    "    company=\"tesla\"\n",
    "    \n",
    "e1=emp()\n",
    "t1=emp()\n",
    "print(e1.company)\n",
    "print(t1.company) \n",
    "\n",
    "\n",
    "emp.company=\"TATA\"\n",
    "print(e1.company)\n",
    "print(t1.company) \n"
   ]
  },
  {
   "cell_type": "code",
   "execution_count": 9,
   "metadata": {},
   "outputs": [
    {
     "name": "stdout",
     "output_type": "stream",
     "text": [
      "300\n",
      "100\n"
     ]
    }
   ],
   "source": [
    "# instance attribute\n",
    "\n",
    "class emp :\n",
    "    company=\"tesla\" \n",
    "    salary=100               # class atribute \n",
    "    \n",
    "e1=emp()\n",
    "t1=emp()\n",
    "\n",
    "e1.salary= 300              # instances attribute  \n",
    "\n",
    "print(e1.salary)             # it will print instance attribute \n",
    "print(t1.salary)             # it will print class attribute   \n",
    "\n",
    "\n",
    "\n",
    "# first it will check instances attribute then it will check class atrribute "
   ]
  },
  {
   "cell_type": "code",
   "execution_count": null,
   "metadata": {},
   "outputs": [],
   "source": [
    "# notes \n",
    "\n",
    "# function and method are same their meanings are same \n",
    "\n",
    "# variable , Attrbute , property  are they are also same  in oops programing   \n",
    "\n",
    "# emp.name = \"narendra\"  <-- here name is attribute or properties or name is instances variable "
   ]
  },
  {
   "cell_type": "markdown",
   "metadata": {},
   "source": [
    "### self"
   ]
  },
  {
   "cell_type": "code",
   "execution_count": null,
   "metadata": {},
   "outputs": [],
   "source": [
    "# selsf is a parameter which passs automatically , when you call an object  \n",
    "\n",
    "# use of self ==> u can use it for class attribute and instances attribute "
   ]
  },
  {
   "cell_type": "code",
   "execution_count": 2,
   "metadata": {},
   "outputs": [
    {
     "name": "stdout",
     "output_type": "stream",
     "text": [
      "salary is 100000 \n"
     ]
    }
   ],
   "source": [
    "class employe :\n",
    "    company =\"tesla \"\n",
    "    def getsalary(self):\n",
    "        print(f\"salary is { self.salary} \")\n",
    "        \n",
    "        \n",
    "jay=employe()\n",
    "jay.salary=100000 \n",
    "jay.getsalary()      # thess is equal to  = employe.getsalary(jay)  "
   ]
  },
  {
   "cell_type": "code",
   "execution_count": 12,
   "metadata": {},
   "outputs": [
    {
     "name": "stdout",
     "output_type": "stream",
     "text": [
      "salary is 100000\n"
     ]
    }
   ],
   "source": [
    "employe.getsalary(jay) "
   ]
  },
  {
   "cell_type": "code",
   "execution_count": 1,
   "metadata": {},
   "outputs": [
    {
     "name": "stdout",
     "output_type": "stream",
     "text": [
      "salary is 100000 in the tesla  company \n"
     ]
    }
   ],
   "source": [
    "class employe :\n",
    "    company =\"tesla \"\n",
    "    def getsalary(self):\n",
    "        print(f\"salary is { self.salary} in the {self.company} company \")\n",
    "        \n",
    "        \n",
    "jay=employe()\n",
    "jay.salary=100000 \n",
    "jay.getsalary() "
   ]
  },
  {
   "cell_type": "markdown",
   "metadata": {},
   "source": [
    "### static method "
   ]
  },
  {
   "cell_type": "markdown",
   "metadata": {},
   "source": [
    "# without using self in method we cn can run the method by using static method ( @staticmethod ) \n",
    "# sometime their is condition that we dosent need a self parameter that time we use static method \n",
    "# you can create as much static method you want "
   ]
  },
  {
   "cell_type": "code",
   "execution_count": 3,
   "metadata": {},
   "outputs": [
    {
     "name": "stdout",
     "output_type": "stream",
     "text": [
      "hi everyone to all of you here  my company name is \n"
     ]
    }
   ],
   "source": [
    "class employe :\n",
    "    company =\"tesla \"\n",
    "    def getsalary(self):\n",
    "        print(f\"salary is { self.salary}\") \n",
    "     \n",
    "    @staticmethod   \n",
    "    def hello_everyone():\n",
    "        print(f\"hi everyone to all of you here  my company name is \")\n",
    "        \n",
    "        \n",
    "jay=employe()\n",
    "jay.hello_everyone()"
   ]
  },
  {
   "cell_type": "code",
   "execution_count": 10,
   "metadata": {},
   "outputs": [
    {
     "name": "stdout",
     "output_type": "stream",
     "text": [
      "hi everyone to all of you here  my company name is \n"
     ]
    }
   ],
   "source": [
    "jay.hello_everyone()"
   ]
  },
  {
   "cell_type": "code",
   "execution_count": 9,
   "metadata": {},
   "outputs": [
    {
     "name": "stdout",
     "output_type": "stream",
     "text": [
      "we are working in company tesla  and salary is 10000, \n",
      "thankU \n",
      "hi everyone to all of you here  my company name is \n"
     ]
    }
   ],
   "source": [
    "class employe :\n",
    "    company =\"tesla \"\n",
    "    def getsalary(self,greet):\n",
    "        print(f\"we are working in company {self.company} and salary is { self.salary}, \\n{greet} \") \n",
    "     \n",
    "    @staticmethod   \n",
    "    def hello_everyone():\n",
    "        print(f\"hi everyone to all of you here  my company name is \")\n",
    "        \n",
    "        \n",
    "jay=employe()\n",
    "jay.salary=10000 \n",
    "jay.getsalary(\"thankU\")\n",
    "\n",
    "jay.hello_everyone()"
   ]
  },
  {
   "cell_type": "code",
   "execution_count": 37,
   "metadata": {},
   "outputs": [
    {
     "name": "stdout",
     "output_type": "stream",
     "text": [
      "Sum: 8\n",
      "Product: 24\n"
     ]
    }
   ],
   "source": [
    "class MathOperations:\n",
    "    @staticmethod\n",
    "    def add(x, y):\n",
    "        return x + y\n",
    "\n",
    "    @staticmethod\n",
    "    def multiply(x, y):\n",
    "        return x * y\n",
    "\n",
    "# Using the static methods without creating an instance of the class\n",
    "sum_result = MathOperations.add(5, 3)\n",
    "product_result = MathOperations.multiply(4, 6)\n",
    "\n",
    "print(\"Sum:\", sum_result)\n",
    "print(\"Product:\", product_result)\n"
   ]
  },
  {
   "cell_type": "code",
   "execution_count": null,
   "metadata": {},
   "outputs": [],
   "source": []
  },
  {
   "cell_type": "markdown",
   "metadata": {},
   "source": [
    "### Constructer  \n",
    "\n",
    "#### __init__()  is a constucter "
   ]
  },
  {
   "cell_type": "code",
   "execution_count": null,
   "metadata": {},
   "outputs": [],
   "source": [
    "#    __init__ is a special method which is first run as soon as object is creted  \n",
    "#    it is know as constructer \n",
    "#    it take self  Argument and aslo take further argument "
   ]
  },
  {
   "cell_type": "code",
   "execution_count": null,
   "metadata": {},
   "outputs": [],
   "source": [
    "#  __init__ is a special method which is first run as soon as object is creted  "
   ]
  },
  {
   "cell_type": "code",
   "execution_count": 10,
   "metadata": {},
   "outputs": [
    {
     "name": "stdout",
     "output_type": "stream",
     "text": [
      "__init__ is created automatically as you created object \n"
     ]
    }
   ],
   "source": [
    "class employe :\n",
    "    company =\"tesla \"\n",
    "    \n",
    "    def __init__(self) :\n",
    "        print(\"__init__ is created automatically as you created object \")   # look \n",
    "        \n",
    "        \n",
    "    \n",
    "    def getsalary(self,greet):\n",
    "        print(f\"we are working in company {self.company} and salary is { self.salary}, \\n{greet} \") \n",
    "     \n",
    "    @staticmethod   \n",
    "    def hello_everyone():\n",
    "        print(f\"hi everyone to all of you here  my company name is \")\n",
    "        \n",
    "        \n",
    "jay=employe()\n"
   ]
  },
  {
   "cell_type": "code",
   "execution_count": 17,
   "metadata": {},
   "outputs": [
    {
     "name": "stdout",
     "output_type": "stream",
     "text": [
      "__init__ is created automatically as you created object \n",
      "name of employe is narendra \n",
      " age is :58 city is surat  and salary of employee is 100000\n"
     ]
    }
   ],
   "source": [
    "class employe :\n",
    "    company =\"tesla \"\n",
    "    \n",
    "    def __init__(self,name,age,city,salary) :\n",
    "        self.name=name\n",
    "        self.age=age\n",
    "        self.city=city \n",
    "        self.salary=salary \n",
    "        print(\"__init__ is created automatically as you created object \")   # look  \n",
    "        \n",
    "    \n",
    "    def seeAll(self):\n",
    "        print(f'''name of employe is {self.name} \\n age is :{self.age} city is {self.city}  and salary of employee is {self.salary}''')\n",
    "        \n",
    "    \n",
    "    def getsalary(self,greet):\n",
    "        print(f\"we are working in company {self.company} and salary is { self.salary}, \\n{greet} \") \n",
    "     \n",
    "    @staticmethod   \n",
    "    def hello_everyone():\n",
    "        print(f\"hi everyone to all of you here  my company name is \")\n",
    "        \n",
    "        \n",
    "jay=employe('narendra','58','surat','100000') \n",
    "jay.seeAll()"
   ]
  },
  {
   "cell_type": "code",
   "execution_count": 21,
   "metadata": {},
   "outputs": [
    {
     "name": "stdout",
     "output_type": "stream",
     "text": [
      "your number is 9 and its sqauare is 81\n",
      "your number is 9 and its cube is 729\n",
      "your number is 9 and its sqauare_root  is 3.0\n"
     ]
    }
   ],
   "source": [
    "# Q create a class calculater which has the method foe squre , cube , and squareroot \n",
    "\n",
    "class calculater:\n",
    "    \n",
    "    def __init__(self,num):\n",
    "        self.number=num \n",
    "        \n",
    "    def squre(self):\n",
    "        print(f\"your number is {self.number} and its sqauare is {self.number **2}\")\n",
    "        \n",
    "    \n",
    "    def cube(self):\n",
    "        print(f\"your number is {self.number} and its cube is {self.number **3}\")\n",
    "        \n",
    "    \n",
    "    def square_root(self):\n",
    "        print(f\"your number is {self.number} and its sqauare_root  is {self.number ** 0.5}\") \n",
    "        \n",
    "        \n",
    "        \n",
    "no=int(input(\"enter the number \"))\n",
    "\n",
    "c1=calculater(no)\n",
    "\n",
    "c1.squre()\n",
    "c1.cube()\n",
    "c1.square_root()"
   ]
  },
  {
   "cell_type": "code",
   "execution_count": 29,
   "metadata": {},
   "outputs": [
    {
     "name": "stdout",
     "output_type": "stream",
     "text": [
      "name of train is varanasi_express and sets available in train seats is 20 only\n",
      "the price of train is  200Rs\n"
     ]
    }
   ],
   "source": [
    "class trian :\n",
    "    def __init__(self,name,fare,seats) :\n",
    "        self.name=name\n",
    "        self.fare=fare\n",
    "        self.seats=seats \n",
    "        \n",
    "    def get_status(self):\n",
    "        print(f\"name of train is {self.name} and sets available in train seats is {self.seats} only\")\n",
    "        \n",
    "    def fare_info(self):\n",
    "        print(f\"the price of train is  {self.fare}Rs\")\n",
    "        \n",
    "    def book_tickets(self):\n",
    "        if(self.seats>0):\n",
    "            print(f\"your tickets is get book and your seats no is :{self.seats}\")\n",
    "            self.seats=self.seats-1 \n",
    "        else:\n",
    "            print(f\"sry these train is full kindly try for another train with these root \")\n",
    "    \n",
    "    \n",
    "t1=trian('varanasi_express' ,200 ,20)\n",
    "\n",
    "t1.get_status() \n",
    "t1.fare_info()\n"
   ]
  },
  {
   "cell_type": "code",
   "execution_count": 30,
   "metadata": {},
   "outputs": [
    {
     "name": "stdout",
     "output_type": "stream",
     "text": [
      "your tickets is get book and your seats no is :20\n"
     ]
    }
   ],
   "source": [
    "t1.book_tickets()  # look "
   ]
  },
  {
   "cell_type": "code",
   "execution_count": 31,
   "metadata": {},
   "outputs": [
    {
     "name": "stdout",
     "output_type": "stream",
     "text": [
      "your tickets is get book and your seats no is :19\n"
     ]
    }
   ],
   "source": [
    "t1.book_tickets() # look "
   ]
  },
  {
   "cell_type": "code",
   "execution_count": 39,
   "metadata": {},
   "outputs": [],
   "source": [
    "class trian :\n",
    "    def __init__(self,name,fare,seats) :\n",
    "        self.name=name\n",
    "        self.fare=fare\n",
    "        self.seats=seats \n",
    "        \n",
    "    def get_status(self):\n",
    "        print(f\"name of train is {self.name} and sets available in train seats is {self.seats} only\")\n",
    "        \n",
    "    def fare_info(self):\n",
    "        print(f\"the price of train is  {self.fare}Rs\")\n",
    "        \n",
    "    def book_tickets(self):\n",
    "        if(self.seats>0):\n",
    "            print(f\"your tickets is get book and your seats no is :{self.seats}\")\n",
    "            self.seats=self.seats-1 \n",
    "        else:\n",
    "            print(f\" seats left is :{self.seats} sry these train is full kindly try for another train with these root  \") \n",
    "            \n",
    " \n",
    "    \n",
    "    \n",
    "    \n",
    "t1=trian('varanasi_express' ,200 ,1)"
   ]
  },
  {
   "cell_type": "code",
   "execution_count": 36,
   "metadata": {},
   "outputs": [
    {
     "name": "stdout",
     "output_type": "stream",
     "text": [
      "your tickets is get book and your seats no is :1\n"
     ]
    }
   ],
   "source": [
    "t1.book_tickets() "
   ]
  },
  {
   "cell_type": "code",
   "execution_count": 41,
   "metadata": {},
   "outputs": [
    {
     "name": "stdout",
     "output_type": "stream",
     "text": [
      " seats left is :0 sry these train is full kindly try for another train with these root  \n"
     ]
    }
   ],
   "source": [
    "t1.book_tickets() "
   ]
  },
  {
   "cell_type": "code",
   "execution_count": null,
   "metadata": {},
   "outputs": [],
   "source": []
  },
  {
   "cell_type": "code",
   "execution_count": null,
   "metadata": {},
   "outputs": [],
   "source": []
  },
  {
   "cell_type": "markdown",
   "metadata": {},
   "source": [
    "### 2. Inheritance:\n",
    "\n",
    "Inheritance is a mechanism where a new class inherits properties and behaviors from an existing class (base or parent class)."
   ]
  },
  {
   "cell_type": "code",
   "execution_count": 1,
   "metadata": {},
   "outputs": [],
   "source": [
    "class Animal:  # parent class \n",
    "    def __init__(self, species):\n",
    "        self.species = species\n",
    "\n",
    "class Dog(Animal):     # child class \n",
    "    def bark(self):\n",
    "        print(\"Woof!\")"
   ]
  },
  {
   "cell_type": "code",
   "execution_count": null,
   "metadata": {},
   "outputs": [],
   "source": [
    "# object of given class can invoke the method available to it without reviling the implementation details to \n",
    "# user Is called (abstraction and encapsulation) "
   ]
  },
  {
   "cell_type": "markdown",
   "metadata": {},
   "source": [
    "## types of inheritances "
   ]
  },
  {
   "cell_type": "markdown",
   "metadata": {},
   "source": [
    "### single inheritances \n",
    "- single inheritances is occurs when child class inherites only one parent classs \n",
    "\n",
    "### multiple inheritances \n",
    "- multiple inheritances occurs when child class inherits more than one parent class \n",
    "\n",
    "### multilevel inheritnaces \n",
    "- multilevel inheritances occcurs , when a child class become parent for another child class"
   ]
  },
  {
   "cell_type": "code",
   "execution_count": 52,
   "metadata": {},
   "outputs": [
    {
     "name": "stdout",
     "output_type": "stream",
     "text": [
      " you are in employes paernt class\n",
      "openAI\n",
      "python\n"
     ]
    }
   ],
   "source": [
    "# single inheritances\n",
    "\n",
    "class employes :\n",
    "    company ='openAI'\n",
    "    \n",
    "    def show_details(self):\n",
    "        print(\" you are in employes paernt class\")\n",
    "        \n",
    "\n",
    "class programer(employes):\n",
    "    lang='python'   \n",
    "    \n",
    "    def getLanguage(self):\n",
    "        print(f\"your prgraming language is {self.lang}\") \n",
    "        \n",
    " \n",
    "   \n",
    "        \n",
    "p1=programer()\n",
    "\n",
    "p1.show_details() \n",
    "\n",
    "print(p1.company )\n",
    "\n",
    "print(p1.lang)"
   ]
  },
  {
   "cell_type": "code",
   "execution_count": 54,
   "metadata": {},
   "outputs": [
    {
     "name": "stdout",
     "output_type": "stream",
     "text": [
      " you are in programer  child class\n",
      "TATA\n"
     ]
    }
   ],
   "source": [
    "# single inheritances   overcomes/overwrite same class \n",
    "\n",
    "class employes :\n",
    "    company ='openAI'\n",
    "    \n",
    "    def show_details(self):\n",
    "        print(\" you are in employes paernt class\")\n",
    "        \n",
    "\n",
    "class programer(employes):\n",
    "    lang='python'   \n",
    "    company='TATA'\n",
    "    \n",
    "    def getLanguage(self):\n",
    "        print(f\"your prgraming language is {self.lang}\") \n",
    "        \n",
    "    def show_details(self):                     # same name function will overwrite its function deatils \n",
    "        print(\" you are in programer  child class\")\n",
    "        \n",
    "        \n",
    "        \n",
    "            \n",
    "a1=programer()\n",
    "\n",
    "a1.show_details()  \n",
    "\n",
    "print(a1.company)     # look "
   ]
  },
  {
   "cell_type": "code",
   "execution_count": 76,
   "metadata": {},
   "outputs": [
    {
     "data": {
      "text/plain": [
       "'assitant_engg'"
      ]
     },
     "execution_count": 76,
     "metadata": {},
     "output_type": "execute_result"
    }
   ],
   "source": [
    "# multiple  inheritances \n",
    "\n",
    "\n",
    "class work :\n",
    "    job='assitant_engg'\n",
    "    level=0 \n",
    "    \n",
    "    def upgrede_level(self):\n",
    "        self.level= self.level+1 \n",
    "        print(f\" self.level is now:{self.level}\")\n",
    "        \n",
    "class emp():\n",
    "    job='coder'\n",
    "    level=1 \n",
    "    add='home'\n",
    "    \n",
    "    \n",
    "\n",
    "class programer(work,emp):   # work has more priority than emp bcoz it is place first as argument \n",
    "    name='ironman' \n",
    "    \n",
    "    \n",
    "p1=programer()\n",
    "\n",
    "p1.job \n",
    "\n"
   ]
  },
  {
   "cell_type": "code",
   "execution_count": 77,
   "metadata": {},
   "outputs": [
    {
     "data": {
      "text/plain": [
       "'home'"
      ]
     },
     "execution_count": 77,
     "metadata": {},
     "output_type": "execute_result"
    }
   ],
   "source": [
    "s1=programer()\n",
    "\n",
    "s1.add"
   ]
  },
  {
   "cell_type": "code",
   "execution_count": 78,
   "metadata": {},
   "outputs": [
    {
     "data": {
      "text/plain": [
       "0"
      ]
     },
     "execution_count": 78,
     "metadata": {},
     "output_type": "execute_result"
    }
   ],
   "source": [
    "p1.level"
   ]
  },
  {
   "cell_type": "code",
   "execution_count": null,
   "metadata": {},
   "outputs": [],
   "source": [
    "# mltilevel inheritances "
   ]
  },
  {
   "cell_type": "code",
   "execution_count": 89,
   "metadata": {},
   "outputs": [
    {
     "name": "stdout",
     "output_type": "stream",
     "text": [
      "you are in multilevel inheritance now ____ \n",
      " you are in child function now \n",
      " you are inside parent  person __init__\n",
      " name is coming from parent class\n",
      " we use age attribute self.age\n"
     ]
    }
   ],
   "source": [
    "class person:\n",
    "    city='mumbai'\n",
    "    def __init__(self ,name ):  \n",
    "        print(\" you are inside parent  person __init__\") \n",
    "        self.name=name \n",
    "        print(\" name is coming from parent class\") \n",
    "        \n",
    "    def dis(self):\n",
    "        print(f\" we are in parent class and name is { self.name}\") \n",
    "        \n",
    "        \n",
    "                \n",
    "class emp(person):\n",
    "        city='Delhi'\n",
    "        company='tesla'\n",
    "    \n",
    "        def __init__(self, name ,age):\n",
    "            print(\" you are in child function now \")\n",
    "            person.__init__(self,name)\n",
    "            self.age=age \n",
    "            print(\" we use age attribute self.age\") \n",
    "            \n",
    "            \n",
    "        def dis(self) :\n",
    "            print(f\" we are in display function of child class now name is = {self.name} and age is = {self.age}\") \n",
    "            \n",
    "            \n",
    "            \n",
    "            \n",
    "            \n",
    "class info(emp):\n",
    "    print(\"you are in multilevel inheritance now ____ \")\n",
    "    city='new_york'\n",
    "    def info(self):\n",
    "        print( \"thes will print all info of all your class \") \n",
    "        \n",
    "\n",
    "\n",
    "\n",
    "output=info('jay',21) \n"
   ]
  },
  {
   "cell_type": "code",
   "execution_count": 91,
   "metadata": {},
   "outputs": [
    {
     "name": "stdout",
     "output_type": "stream",
     "text": [
      "new_york\n"
     ]
    }
   ],
   "source": [
    "print(output.city)"
   ]
  },
  {
   "cell_type": "code",
   "execution_count": 86,
   "metadata": {},
   "outputs": [
    {
     "name": "stdout",
     "output_type": "stream",
     "text": [
      "tesla\n"
     ]
    }
   ],
   "source": [
    "print(output.company)"
   ]
  },
  {
   "cell_type": "code",
   "execution_count": 24,
   "metadata": {},
   "outputs": [
    {
     "name": "stdout",
     "output_type": "stream",
     "text": [
      "i am breathing\n",
      "i am in employe class and i am breathing now ..\n",
      "i am in programer takebreath method here i can breath no problem \n"
     ]
    }
   ],
   "source": [
    "class person :\n",
    "    country='india'\n",
    "    def takebreath(self):\n",
    "        print(\"i am breathing\")\n",
    "        \n",
    "        \n",
    "class employe(person):\n",
    "    country='australia'\n",
    "    company=\"ktm\"\n",
    "    \n",
    "    def get_salary(self,salary:int):\n",
    "        self.salary=salary\n",
    "        print(f\" salary is {self.salary}\")\n",
    "        \n",
    "    def takebreath(self):\n",
    "        print(\"i am in employe class and i am breathing now ..\")\n",
    "        \n",
    "        \n",
    "class programer(employe) :\n",
    "    country='USA' \n",
    "    company='MICROSOFT' \n",
    "    \n",
    "    def get_salary(self):\n",
    "        print(f\" iam in programer == get_salary method no salary to programer here  \")\n",
    "        \n",
    "    def takebreath(self):\n",
    "        print(f\"i am in programer takebreath method here i can breath no problem \")\n",
    "    \n",
    "\n",
    "p1=person()\n",
    "p1.takebreath()\n",
    "\n",
    "e1=employe()\n",
    "e1.takebreath()\n",
    "\n",
    "pr1=programer()\n",
    "pr1.takebreath()\n",
    "     \n",
    "    "
   ]
  },
  {
   "cell_type": "code",
   "execution_count": 9,
   "metadata": {},
   "outputs": [
    {
     "ename": "AttributeError",
     "evalue": "'person' object has no attribute 'company'",
     "output_type": "error",
     "traceback": [
      "\u001b[1;31m---------------------------------------------------------------------------\u001b[0m",
      "\u001b[1;31mAttributeError\u001b[0m                            Traceback (most recent call last)",
      "\u001b[1;32me:\\Python\\10.oops_concept.ipynb Cell 48\u001b[0m line \u001b[0;36m1\n\u001b[1;32m----> <a href='vscode-notebook-cell:/e%3A/Python/10.oops_concept.ipynb#Y213sZmlsZQ%3D%3D?line=0'>1</a>\u001b[0m \u001b[39mprint\u001b[39m(p1\u001b[39m.\u001b[39;49mcompany)\n",
      "\u001b[1;31mAttributeError\u001b[0m: 'person' object has no attribute 'company'"
     ]
    }
   ],
   "source": [
    "print(p1.company)  # p1 has no company "
   ]
  },
  {
   "cell_type": "code",
   "execution_count": 8,
   "metadata": {},
   "outputs": [
    {
     "data": {
      "text/plain": [
       "'india'"
      ]
     },
     "execution_count": 8,
     "metadata": {},
     "output_type": "execute_result"
    }
   ],
   "source": [
    "p1.country"
   ]
  },
  {
   "cell_type": "code",
   "execution_count": 22,
   "metadata": {},
   "outputs": [
    {
     "name": "stdout",
     "output_type": "stream",
     "text": [
      " salary is 10000\n"
     ]
    },
    {
     "data": {
      "text/plain": [
       "<bound method employe.get_salary of <__main__.employe object at 0x00000169309E03A0>>"
      ]
     },
     "execution_count": 22,
     "metadata": {},
     "output_type": "execute_result"
    }
   ],
   "source": [
    "e2=employe()\n",
    "\n",
    "e2.get_salary(10000)  \n",
    "e2.get_salary"
   ]
  },
  {
   "cell_type": "code",
   "execution_count": null,
   "metadata": {},
   "outputs": [],
   "source": []
  },
  {
   "cell_type": "markdown",
   "metadata": {},
   "source": [
    "### self"
   ]
  },
  {
   "cell_type": "code",
   "execution_count": 27,
   "metadata": {},
   "outputs": [
    {
     "name": "stdout",
     "output_type": "stream",
     "text": [
      "i am in employe class and i am breathing now ..\n",
      "i am in programer takebreath method here i can breath no problem \n"
     ]
    }
   ],
   "source": [
    "class person :\n",
    "    country='india'\n",
    "    def takebreath(self):\n",
    "        print(\"i am breathing\")\n",
    "        \n",
    "        \n",
    "class employe(person):\n",
    "    country='australia'\n",
    "    company=\"ktm\"\n",
    "    \n",
    "    def get_salary(self,salary:int):\n",
    "        self.salary=salary\n",
    "        print(f\" salary is {self.salary}\")\n",
    "        \n",
    "    def takebreath(self):\n",
    "        print(\"i am in employe class and i am breathing now ..\")\n",
    "        \n",
    "        \n",
    "class programer(employe) :\n",
    "    country='USA' \n",
    "    company='MICROSOFT' \n",
    "    \n",
    "    def get_salary(self):\n",
    "        print(f\" iam in programer == get_salary method no salary to programer here  \")\n",
    "        \n",
    "    def takebreath(self):\n",
    "        super().takebreath()    \n",
    "        print(f\"i am in programer takebreath method here i can breath no problem \")\n",
    "    \n",
    "\n",
    "\n",
    "p2=programer()\n",
    "p2.takebreath()   # check output "
   ]
  },
  {
   "cell_type": "code",
   "execution_count": 30,
   "metadata": {},
   "outputs": [
    {
     "name": "stdout",
     "output_type": "stream",
     "text": [
      " iam in person class takebreath function now i am breathing  parent =1\n",
      "i am in employe class takebreath function now and i am breathing now .. parent =2 \n",
      "i am in programer takebreath method here i can breath no problem    pereosn=3\n"
     ]
    }
   ],
   "source": [
    "class person :\n",
    "    country='india'\n",
    "    \n",
    "    def takebreath(self):\n",
    "        print(\" iam in person class takebreath function now i am breathing  parent =1\")\n",
    "        \n",
    "        \n",
    "class employe(person):\n",
    "    country='australia'\n",
    "    company=\"ktm\"\n",
    "    \n",
    "    def get_salary(self,salary:int):\n",
    "        self.salary=salary\n",
    "        print(f\" salary is {self.salary}\")\n",
    "        \n",
    "    def takebreath(self):\n",
    "        super().takebreath()\n",
    "        print(\"i am in employe class takebreath function now and i am breathing now .. parent =2 \")\n",
    "        \n",
    "        \n",
    "class programer(employe) :\n",
    "    country='USA' \n",
    "    company='MICROSOFT' \n",
    "    \n",
    "    def get_salary(self):\n",
    "        print(f\" iam in programer == get_salary method no salary to programer here  \")\n",
    "        \n",
    "    def takebreath(self):\n",
    "        super().takebreath()    \n",
    "        print(f\"i am in programer takebreath method here i can breath no problem    pereosn=3\")\n",
    "    \n",
    "\n",
    "\n",
    "p2=programer()\n",
    "p2.takebreath()   # check output "
   ]
  },
  {
   "cell_type": "code",
   "execution_count": 33,
   "metadata": {},
   "outputs": [
    {
     "name": "stdout",
     "output_type": "stream",
     "text": [
      " now you are in aeroplane class  which is parent class \n",
      " you are in type_p classs which is child classs \n",
      " you are in extra_type classs which is child classs \n",
      " __init__ metod invoked\n",
      "extra_type method is all completed \n",
      " you are in showcase function of child class \n",
      " plane name is Rafale model is fighter_jet and its range is 7000km/hr\n"
     ]
    }
   ],
   "source": [
    "class aeroplane :\n",
    "    print( \" now you are in aeroplane class  which is parent class \")\n",
    "    def __init__(self , name , model) :\n",
    "        print(\" __init__ metod invoked\") \n",
    "        self.name=name\n",
    "        self.model=model \n",
    "        \n",
    "    def show(self):\n",
    "        print( f\" we are in show function here name is {self.name} and model is {self.model}\")\n",
    "        \n",
    "\n",
    "class type_p(aeroplane):\n",
    "    print( \" you are in type_p classs which is child classs \")\n",
    "    def __init__(self, name, model,speed,):\n",
    "        aeroplane.__init__(self,name,model)\n",
    "        self.speed=speed \n",
    "        print(\"__init__ method is get completed here \")\n",
    "        \n",
    "    def showcase(self):\n",
    "        print(\" you are in showcase function of child class \")\n",
    "        print( f\" plane name is {self.name} model is {self.model} and speed is {self.speed}\") \n",
    "        \n",
    "        \n",
    "class extra_type(aeroplane):\n",
    "    print( \" you are in extra_type classs which is child classs \")\n",
    "    def __init__(self , name,model,range):\n",
    "        aeroplane.__init__(self,name,model)\n",
    "        self.range=range \n",
    "        print(\"extra_type method is all completed \") \n",
    "        \n",
    "    def show_all(self):\n",
    "        print(\" you are in showcase function of child class \")\n",
    "        print( f\" plane name is {self.name} model is {self.model} and its range is {self.range}\") \n",
    "     \n",
    "    \n",
    " \n",
    " \n",
    " \n",
    "t1=extra_type(\"Rafale\" , \"fighter_jet\" , \"7000km/hr\")\n",
    "t1.show_all()\n",
    "\n",
    "\n",
    "\n",
    "# you can acess differnt differnt child class with your requirement by using parent classs it is multilevel inheritances by using super class "
   ]
  },
  {
   "cell_type": "code",
   "execution_count": 40,
   "metadata": {},
   "outputs": [
    {
     "name": "stdout",
     "output_type": "stream",
     "text": [
      " now you are in aeroplane class  which is parent class \n",
      " you are in type_p classs which is child classs \n",
      " __init__ metod invoked\n",
      "__init__ method is get completed here \n",
      "***************************************************************************************\n",
      " we are in show function here name is == jay and model is == safari\n",
      "============================================================================\n",
      " you are in showcase function of child class \n",
      " plane name is== jay model is == safari and speed is == 231\n"
     ]
    }
   ],
   "source": [
    "class aeroplane :\n",
    "    print( \" now you are in aeroplane class  which is parent class \")\n",
    "    def __init__(self , name , model) :\n",
    "        print(\" __init__ metod invoked\") \n",
    "        self.name=name\n",
    "        self.model=model \n",
    "        \n",
    "    def show(self):\n",
    "        print('***************************************************************************************')\n",
    "        print( f\" we are in show function here name is == {self.name} and model is == {self.model}\")\n",
    "        \n",
    "\n",
    "class type_p(aeroplane):\n",
    "    print( \" you are in type_p classs which is child classs \")\n",
    "    def __init__(self, name, model,speed):\n",
    "        aeroplane.__init__(self,name,model)\n",
    "        self.speed=speed \n",
    "        print(\"__init__ method is get completed here \")\n",
    "        \n",
    "    def showcase(self):\n",
    "        super().show()\n",
    "        print(\"============================================================================\")\n",
    "        print(\" you are in showcase function of child class \")\n",
    "        print( f\" plane name is== {self.name} model is == {self.model} and speed is == {self.speed}\")  \n",
    "        \n",
    "    \n",
    "    \n",
    "t1=type_p('jay','safari','231') \n",
    "\n",
    "t1.showcase()\n",
    "\n",
    "\n"
   ]
  },
  {
   "cell_type": "markdown",
   "metadata": {},
   "source": [
    "### class method "
   ]
  },
  {
   "cell_type": "code",
   "execution_count": null,
   "metadata": {},
   "outputs": [],
   "source": [
    "# if you dont want to use self menthod in class then you use @staticmethod "
   ]
  },
  {
   "cell_type": "code",
   "execution_count": null,
   "metadata": {},
   "outputs": [],
   "source": [
    "# their are 2 atrriburte class attribute and instances attribute "
   ]
  },
  {
   "cell_type": "code",
   "execution_count": 44,
   "metadata": {},
   "outputs": [
    {
     "name": "stdout",
     "output_type": "stream",
     "text": [
      "20000\n",
      "45000\n",
      "20000\n"
     ]
    }
   ],
   "source": [
    "class factory :\n",
    "    name='akash'\n",
    "    age=21                                    #<--- these is class attribute \n",
    "    salary=20000  \n",
    "    \n",
    "    def changeSal(self,sal):\n",
    "        self.salary=sal                             #<-- these is instances attribute \n",
    "        \n",
    "        \n",
    "f1=factory() \n",
    "print(f1.salary) \n",
    "\n",
    "f1.changeSal(45000)    # here we chabge salary by usiing instance attribute \n",
    "print(f1.salary)\n",
    "    \n",
    "print(factory.salary)   # here we have salary 20K as it is becasse it is in class attributes "
   ]
  },
  {
   "cell_type": "code",
   "execution_count": null,
   "metadata": {},
   "outputs": [],
   "source": [
    "# if we want to change the class attribute then ? how we can change it without using instanaces attribute "
   ]
  },
  {
   "cell_type": "code",
   "execution_count": 47,
   "metadata": {},
   "outputs": [
    {
     "name": "stdout",
     "output_type": "stream",
     "text": [
      "20000\n",
      "85555\n",
      "85555\n"
     ]
    }
   ],
   "source": [
    "# mehod 1 \n",
    "class factory :\n",
    "    name='akash'\n",
    "    age=21                                    \n",
    "    salary=20000  \n",
    "    \n",
    "    def changeSal(self,sal):                   # as inastnces attribute we change class attribute here \n",
    "        self.__class__.salary=sal              # change here __class__               \n",
    "     \n",
    "        \n",
    "f1=factory() \n",
    "print(f1.salary) \n",
    "\n",
    "f1.changeSal(85555)    \n",
    "print(f1.salary)\n",
    "    \n",
    "print(factory.salary)   # look \n"
   ]
  },
  {
   "cell_type": "markdown",
   "metadata": {},
   "source": [
    "#### classmethod is the method which is bound to class not object of class \n",
    "#### @classsmethod is decoreter is use to crete a class method "
   ]
  },
  {
   "cell_type": "code",
   "execution_count": 52,
   "metadata": {},
   "outputs": [
    {
     "name": "stdout",
     "output_type": "stream",
     "text": [
      "20000\n",
      "85555\n",
      "85555\n"
     ]
    }
   ],
   "source": [
    "# mehod 2 in easy way use Decoreter called  @classmethod \n",
    "\n",
    "class factory :\n",
    "    name='akash'\n",
    "    age=21                                    \n",
    "    salary=20000  \n",
    "    \n",
    "    \n",
    "    @classmethod\n",
    "    def changeSal(cls,sal):    # we define decorater here callsed as @classmethod \n",
    "        cls.salary=sal\n",
    "             \n",
    "        \n",
    "f1=factory() \n",
    "print(f1.salary) \n",
    "\n",
    "f1.changeSal(85555)    \n",
    "print(f1.salary)\n",
    "    \n",
    "print(factory.salary)   # look \n"
   ]
  },
  {
   "cell_type": "code",
   "execution_count": 43,
   "metadata": {},
   "outputs": [
    {
     "name": "stdout",
     "output_type": "stream",
     "text": [
      "Instance variable: I am an instance variable\n",
      "Class variable: I am a class variable\n"
     ]
    }
   ],
   "source": [
    "class MyClass:\n",
    "    class_variable = \"I am a class variable\"\n",
    "\n",
    "    def __init__(self, instance_variable):\n",
    "        self.instance_variable = instance_variable\n",
    "\n",
    "    def show_instance_variable(self):\n",
    "        print(f\"Instance variable: {self.instance_variable}\")\n",
    "\n",
    "    @classmethod\n",
    "    def show_class_variable(cls):\n",
    "        print(f\"Class variable: {cls.class_variable}\")\n",
    "\n",
    "\n",
    "obj = MyClass(\"I am an instance variable\")\n",
    "\n",
    "obj.show_instance_variable()  \n",
    "\n",
    "MyClass.show_class_variable() "
   ]
  },
  {
   "cell_type": "code",
   "execution_count": 44,
   "metadata": {},
   "outputs": [
    {
     "name": "stdout",
     "output_type": "stream",
     "text": [
      "Adding 5 and 3: 8\n",
      "Multiplying 4 and 6: 24\n"
     ]
    }
   ],
   "source": [
    "class MathOperations:\n",
    "    @classmethod\n",
    "    def add(cls, num1, num2):\n",
    "        print(f\"Adding {num1} and {num2}: {num1 + num2}\")\n",
    "\n",
    "    @classmethod\n",
    "    def multiply(cls, num1, num2):\n",
    "        print(f\"Multiplying {num1} and {num2}: {num1 * num2}\")\n",
    "\n",
    "\n",
    "MathOperations.add(5, 3)  \n",
    "MathOperations.multiply(4, 6) \n"
   ]
  },
  {
   "cell_type": "code",
   "execution_count": 46,
   "metadata": {},
   "outputs": [
    {
     "data": {
      "text/plain": [
       "'history'"
      ]
     },
     "execution_count": 46,
     "metadata": {},
     "output_type": "execute_result"
    }
   ],
   "source": [
    "class study_sub:\n",
    "    sub='math'\n",
    "    @classmethod \n",
    "    def chnge_sub(jay,new_sub):   # you can use class as any method \n",
    "        jay.sub=new_sub \n",
    "        \n",
    "    \n",
    "    \n",
    "s1=study_sub() \n",
    "\n",
    "s1.chnge_sub(\"history\") \n",
    "\n",
    "s1.sub\n",
    "        \n",
    "    "
   ]
  },
  {
   "cell_type": "code",
   "execution_count": null,
   "metadata": {},
   "outputs": [],
   "source": []
  },
  {
   "cell_type": "code",
   "execution_count": null,
   "metadata": {},
   "outputs": [],
   "source": []
  },
  {
   "cell_type": "markdown",
   "metadata": {},
   "source": [
    "### property Decorater / @getter  ,@setter "
   ]
  },
  {
   "cell_type": "code",
   "execution_count": null,
   "metadata": {},
   "outputs": [],
   "source": [
    "# property decorater it is the function but it work like property \n",
    "# the method name with property decorater is called @getter method also  "
   ]
  },
  {
   "cell_type": "code",
   "execution_count": 64,
   "metadata": {},
   "outputs": [
    {
     "data": {
      "text/plain": [
       "20200"
      ]
     },
     "execution_count": 64,
     "metadata": {},
     "output_type": "execute_result"
    }
   ],
   "source": [
    "class company :\n",
    "    com_name='teala'\n",
    "    salary=15000\n",
    "    bonus=5000\n",
    "    pf=200 \n",
    "    \n",
    "    @property                        # property decorater \n",
    "    def total_salary(self):\n",
    "        return self.salary +self.bonus + self.pf  \n",
    "    \n",
    "    \n",
    "    \n",
    "c1=company()\n",
    "c1.total_salary\n",
    "\n"
   ]
  },
  {
   "cell_type": "code",
   "execution_count": 55,
   "metadata": {},
   "outputs": [
    {
     "name": "stdout",
     "output_type": "stream",
     "text": [
      "Total Salary: 6000\n",
      "Salary: 5600\n",
      "Bonus: 200\n",
      "Updated Total Salary: 5800\n"
     ]
    }
   ],
   "source": [
    "class Employee:\n",
    "    salary = 5600\n",
    "    bonus = 400\n",
    "\n",
    "    @property                                       #  decorater (getter)\n",
    "    def total_salary(self):\n",
    "        return self.salary + self.bonus\n",
    "\n",
    "    @total_salary.setter                            # setter\n",
    "    def total_salary(self, val):\n",
    "        self.bonus = val - self.salary\n",
    "\n",
    "# Creating an instance of the class\n",
    "e1 = Employee()\n",
    "\n",
    "# Accessing the total_salary using the property (getter)\n",
    "print(\"Total Salary:\", e1.total_salary)\n",
    "\n",
    "# Updating the total_salary using the property (setter)\n",
    "e1.total_salary = 5800\n",
    "\n",
    "# Accessing the individual components\n",
    "print(\"Salary:\", e1.salary)\n",
    "print(\"Bonus:\", e1.bonus)\n",
    "print(\"Updated Total Salary:\", e1.total_salary)\n"
   ]
  },
  {
   "cell_type": "code",
   "execution_count": 66,
   "metadata": {},
   "outputs": [
    {
     "name": "stdout",
     "output_type": "stream",
     "text": [
      "Your name is jay and age is 25\n",
      "Your name is akash and age is 24\n"
     ]
    }
   ],
   "source": [
    "class Define:\n",
    "    def __init__(self):\n",
    "        self._name = 'jay'\n",
    "        self._age = 25\n",
    "\n",
    "    @property\n",
    "    def ans(self):\n",
    "        return f\"Your name is {self._name} and age is {self._age}\"\n",
    "\n",
    "    @ans.setter\n",
    "    def ans(self, new_values):\n",
    "        new_name, new_age = new_values\n",
    "        self._name = new_name\n",
    "        self._age = new_age\n",
    "\n",
    "# Creating an instance of the class\n",
    "d1 = Define()\n",
    "\n",
    "# Accessing the ans property using the property (getter)\n",
    "print(d1.ans)\n",
    "\n",
    "# Updating the ans property using the property (setter)\n",
    "d1.ans = ('akash', 24)\n",
    "\n",
    "# Accessing the ans property again\n",
    "print(d1.ans)\n"
   ]
  },
  {
   "cell_type": "code",
   "execution_count": 71,
   "metadata": {},
   "outputs": [
    {
     "name": "stdout",
     "output_type": "stream",
     "text": [
      "John\n",
      "ben stoke\n"
     ]
    }
   ],
   "source": [
    "class Person:\n",
    "    def __init__(self, name):\n",
    "        self._name = name  # Note: Attribute is marked as private using the underscore\n",
    "\n",
    "    @property                                             # @getter \n",
    "    def name(self):\n",
    "        return self._name\n",
    "\n",
    "    @name.setter                                          # @setter \n",
    "    def name(self, new_name):\n",
    "        self._name = new_name\n",
    "\n",
    "# Creating an instance of the class\n",
    "person = Person(\"John\")\n",
    "\n",
    "# Accessing the attribute using the property\n",
    "print(person.name)  # Output: John\n",
    "\n",
    "# Modifying the attribute using the property\n",
    "person.name = \"ben stoke\"\n",
    "\n",
    "# Accessing the modified attribute using the property\n",
    "print(person.name)  # Output: Jane\n"
   ]
  },
  {
   "cell_type": "code",
   "execution_count": 81,
   "metadata": {},
   "outputs": [
    {
     "name": "stdout",
     "output_type": "stream",
     "text": [
      " your tank name is t90 and its spped is 90km and weight is 12tonns\n"
     ]
    }
   ],
   "source": [
    "class defence :\n",
    "    def __init__(self ,tank , speed ,weight) :\n",
    "        self._tank= tank \n",
    "        self._speed =speed \n",
    "        self._weight=weight\n",
    "        \n",
    "    @property \n",
    "    def tank_name(self) :\n",
    "        return f\" your tank name is {self._tank} and its spped is {self._speed}km and weight is {self._weight}tonns\"  \n",
    "    \n",
    "    \n",
    "    @tank_name.setter \n",
    "    def tank_name(self, new_val) :\n",
    "        new_name, new_spped , new_weight =new_val\n",
    "        self._tank= new_name  \n",
    "        self._speed=new_spped \n",
    "        self._weight=new_weight \n",
    "        \n",
    "        \n",
    "d2=defence('Arjun',60,10) \n",
    "\n",
    "d2.tank_name  \n",
    "\n",
    "data =('t90',90,12)\n",
    "d2.tank_name=data\n",
    "\n",
    "print(d2.tank_name)\n",
    " "
   ]
  },
  {
   "cell_type": "code",
   "execution_count": 3,
   "metadata": {},
   "outputs": [
    {
     "name": "stdout",
     "output_type": "stream",
     "text": [
      "Current age: 25\n",
      "New age: 30\n",
      "Invalid age value. Age should be between 0 and 120.\n"
     ]
    }
   ],
   "source": [
    "class Person:\n",
    "    def __init__(self, name, age):\n",
    "        self._name = name\n",
    "        self._age = age  # Attribute is marked as private using the underscore\n",
    "\n",
    "    # Getter method using property decorator\n",
    "    @property\n",
    "    def age(self):\n",
    "        return self._age\n",
    "\n",
    "    # Setter method using <attribute>.setter decorator\n",
    "    @age.setter\n",
    "    def age(self, new_age):\n",
    "        if 0 <= new_age <= 120:  # Adding a validation for age\n",
    "            self._age = new_age\n",
    "        else:\n",
    "            print(\"Invalid age value. Age should be between 0 and 120.\")\n",
    "\n",
    "# Creating an instance of the class\n",
    "person = Person(\"John\", 25)\n",
    "\n",
    "# Accessing the age attribute using the property decorator\n",
    "current_age = person.age\n",
    "print(f\"Current age: {current_age}\")  # Output: Current age: 25\n",
    "\n",
    "# Modifying the age attribute using the setter decorator\n",
    "person.age = 30\n",
    "\n",
    "# Accessing the modified age attribute using the property decorator\n",
    "new_age = person.age\n",
    "print(f\"New age: {new_age}\")  # Output: New age: 30\n",
    "\n",
    "# Attempting to set an invalid age\n",
    "person.age = 150  # Output: Invalid age value. Age should be between 0 and 120.\n"
   ]
  },
  {
   "cell_type": "code",
   "execution_count": 101,
   "metadata": {},
   "outputs": [
    {
     "name": "stdout",
     "output_type": "stream",
     "text": [
      " your car name is ferrari and its top speed is 240\n",
      " it hypercar car constest you spped is not up to the standard level 43km/hr it too low \n",
      " improve speed \n",
      " your car name is ferrari and its top speed is 240\n"
     ]
    }
   ],
   "source": [
    "class speed :\n",
    "    def __init__(self, name,top_speed) :\n",
    "        self._name=name\n",
    "        self._top_spped =top_speed\n",
    "        \n",
    "        \n",
    "    @property \n",
    "    def speed(self):\n",
    "        print(f\" your car name is {self._name} and its top speed is {self._top_spped}\")\n",
    "        \n",
    "        \n",
    "    @speed.setter \n",
    "    def speed(self, new_values):\n",
    "        \n",
    "        new_name, new_speed = new_values\n",
    "        if 250<= new_speed <= 430 :\n",
    "            self._name=new_name\n",
    "            self._top_spped= new_speed    \n",
    "        else:\n",
    "            print(f\" it hypercar car constest you spped is not up to the standard level {new_speed}km/hr it too low \\n improve speed \")\n",
    "        \n",
    "        \n",
    "s2=speed('ferrari',240) \n",
    "s2.speed \n",
    "\n",
    "data1=('lamborghini',43)\n",
    "s2.speed=data1 \n",
    "s2.speed"
   ]
  },
  {
   "cell_type": "code",
   "execution_count": 2,
   "metadata": {},
   "outputs": [
    {
     "name": "stdout",
     "output_type": "stream",
     "text": [
      "Area of rectangle in first term is: 15\n",
      "Current width: 3\n",
      "New width: 9\n",
      "new rectnagle area after channging width is 45\n"
     ]
    }
   ],
   "source": [
    "class Rectangle:\n",
    "    def __init__(self, length, width):\n",
    "        self._length = length\n",
    "        self._width = width\n",
    "\n",
    "    # Getter method for calculated attribute using property decorator\n",
    "    @property\n",
    "    def area(self):\n",
    "        return self._length * self._width\n",
    "\n",
    "    # Getter method for width attribute using property decorator\n",
    "    @property\n",
    "    def width(self):\n",
    "        return self._width\n",
    "\n",
    "    # Setter method for width attribute using <attribute>.setter decorator\n",
    "    @width.setter\n",
    "    def width(self, new_width):\n",
    "        if new_width > 0:  # Adding a validation for width\n",
    "            self._width = new_width\n",
    "        else:\n",
    "            print(\"Invalid width value. Width should be greater than 0.\")\n",
    "\n",
    "\n",
    "rectangle = Rectangle(length=5, width=3)\n",
    "\n",
    "# Accessing the calculated area attribute using the property decorator\n",
    "print(f\"Area of rectangle in first term is: {rectangle.area}\") \n",
    "\n",
    "# Accessing the width attribute using the property decorator\n",
    "current_width = rectangle.width\n",
    "print(f\"Current width: {current_width}\") \n",
    "\n",
    "# Modifying the width attribute \n",
    "rectangle.width = 9\n",
    "\n",
    "\n",
    "new_width = rectangle.width\n",
    "print(f\"New width: {new_width}\")  \n",
    "\n",
    "print(f\"new rectnagle area after channging width is {rectangle.area}\")\n"
   ]
  },
  {
   "cell_type": "code",
   "execution_count": 104,
   "metadata": {},
   "outputs": [
    {
     "name": "stdout",
     "output_type": "stream",
     "text": [
      "Invalid width value. Width should be greater than 0.\n"
     ]
    }
   ],
   "source": [
    "# Attempting to set an invalid width\n",
    "rectangle.width = -2  # Output: Invalid width value. Width should be greater than 0."
   ]
  },
  {
   "cell_type": "code",
   "execution_count": 16,
   "metadata": {},
   "outputs": [
    {
     "name": "stdout",
     "output_type": "stream",
     "text": [
      "BrahMos\n",
      "Agni\n"
     ]
    }
   ],
   "source": [
    "class Missile:\n",
    "    def __init__(self, name):\n",
    "        self._name = name\n",
    "\n",
    "    @property\n",
    "    def m_name(self):\n",
    "        return self._name\n",
    "\n",
    "    @m_name.setter\n",
    "    def m_name(self, new_m_name):\n",
    "        self._name = new_m_name\n",
    "\n",
    "\n",
    "m1 = Missile(\"BrahMos\")\n",
    "\n",
    "# Accessing the property using the getter\n",
    "print(m1.m_name) \n",
    "\n",
    "# Modifying the property using the setter\n",
    "m1.m_name = \"Agni\"\n",
    "print(m1.m_name)  \n"
   ]
  },
  {
   "cell_type": "code",
   "execution_count": null,
   "metadata": {},
   "outputs": [],
   "source": [
    "class Person:\n",
    "    def __init__(self, name):\n",
    "        self._name = name  # Note: Attribute is marked as private using the underscore\n",
    "\n",
    "    @property                                             # @getter \n",
    "    def name(self):\n",
    "        return self._name\n",
    "\n",
    "    @name.setter                                          # @setter \n",
    "    def name(self, new_name):\n",
    "        self._name = new_name\n",
    "\n",
    "\n",
    "person = Person(\"John\")\n",
    "\n",
    "# Accessing the attribute using the property\n",
    "print(person.name) \n",
    "\n",
    "# Modifying the attribute using the property\n",
    "person.name = \"Jane\"\n",
    "\n",
    "\n",
    "print(person.name) \n"
   ]
  },
  {
   "cell_type": "code",
   "execution_count": null,
   "metadata": {},
   "outputs": [],
   "source": []
  },
  {
   "cell_type": "code",
   "execution_count": 9,
   "metadata": {},
   "outputs": [
    {
     "name": "stdout",
     "output_type": "stream",
     "text": [
      "you dont have rights for voting cause yuour age is 12 which is less than 18 years \n"
     ]
    },
    {
     "data": {
      "text/plain": [
       "'your name is snehal  and age is 23'"
      ]
     },
     "execution_count": 9,
     "metadata": {},
     "output_type": "execute_result"
    }
   ],
   "source": [
    "class  family :\n",
    "    def __init__(self,name ,age):\n",
    "        self._name=name \n",
    "        self._age=age \n",
    "    @property   \n",
    "    def show(self):\n",
    "        return f\"your name is {self._name}  and age is {self._age}\" \n",
    "    \n",
    "    \n",
    "    @show.setter \n",
    "    def show(self,new_val):\n",
    "        new_name,new_age= new_val\n",
    "        \n",
    "        self._name=new_name  \n",
    "        if new_age>18 :\n",
    "            self._age=new_age \n",
    "        else :\n",
    "            print(f\"you dont have rights for voting cause yuour age is {new_age} which is less than 18 years \")\n",
    "        \n",
    "         \n",
    "         \n",
    "f2=family('jay',23)\n",
    "f2.show \n",
    "\n",
    "data=('snehal',12)\n",
    "\n",
    "f2.show=data\n",
    "f2.show\n",
    "    \n",
    "    \n",
    "    \n",
    "      "
   ]
  },
  {
   "cell_type": "code",
   "execution_count": null,
   "metadata": {},
   "outputs": [],
   "source": []
  },
  {
   "cell_type": "markdown",
   "metadata": {},
   "source": [
    "### operater overloading "
   ]
  },
  {
   "cell_type": "code",
   "execution_count": 4,
   "metadata": {},
   "outputs": [],
   "source": [
    "# operater in python can be overlodeed by using dunder method \n",
    "\n",
    "# these method are called when a given operater is used on object \n",
    "\n",
    "# which method name have double underscore is called dender method ex= __init__ , __add__ ,__sub__  "
   ]
  },
  {
   "cell_type": "code",
   "execution_count": 17,
   "metadata": {},
   "outputs": [
    {
     "name": "stdout",
     "output_type": "stream",
     "text": [
      " adddition is \n",
      "7\n",
      " multiplication is \n",
      "10\n",
      " substraction is  \n",
      "-3\n",
      "division is \n",
      "0.4\n"
     ]
    }
   ],
   "source": [
    "class number :\n",
    "    def __init__(self,num) :\n",
    "        self.num=num \n",
    "        \n",
    "    def __add__(self,num2):\n",
    "        print(\" adddition is \")\n",
    "        return self.num + num2.num \n",
    "    \n",
    "    \n",
    "    def __sub__(self,num2):\n",
    "        print(\" substraction is  \")\n",
    "        return self.num - num2.num \n",
    "    \n",
    "    def __mul__(self,num2):\n",
    "        print(\" multiplication is \")\n",
    "        return self.num * num2.num  \n",
    "    \n",
    "    \n",
    "    def __truediv__(self , num2):\n",
    "        print(\"division is \")\n",
    "        return self.num/ num2.num\n",
    "    \n",
    "    \n",
    "    \n",
    "n1=number(2)\n",
    "n2=number(5)\n",
    "\n",
    "sum=n1+n2\n",
    "print(sum) \n",
    "\n",
    "mul=n1*n2 \n",
    "print(mul)  \n",
    "\n",
    "\n",
    "sub=n1-n2 \n",
    "print(sub)  \n",
    "\n",
    "\n",
    "div=n1/n2 \n",
    "print(div)"
   ]
  },
  {
   "cell_type": "code",
   "execution_count": 25,
   "metadata": {},
   "outputs": [
    {
     "name": "stdout",
     "output_type": "stream",
     "text": [
      "number is akash\n",
      "13\n"
     ]
    }
   ],
   "source": [
    "class number1:\n",
    "    def __init__(self, num ) :\n",
    "        self.num=num\n",
    "       \n",
    "    def __str__(self): \n",
    "        return f\"number is {self.num}\" \n",
    "    \n",
    "    def __len__(self):\n",
    "        return len(self.num) \n",
    "    \n",
    "    \n",
    "    \n",
    "    \n",
    "n5=number1('akash')\n",
    "print(n5)  \n",
    "\n",
    "n6=number1(\"narendra_modi\")\n",
    "print(len(n6))\n",
    "        "
   ]
  },
  {
   "cell_type": "code",
   "execution_count": 41,
   "metadata": {},
   "outputs": [
    {
     "name": "stdout",
     "output_type": "stream",
     "text": [
      "5 + 15i\n"
     ]
    }
   ],
   "source": [
    "class complex():\n",
    "    def __init__(self,r,i):\n",
    "        self.real=r \n",
    "        self.imaginary=i \n",
    "        \n",
    "    def __add__(self ,c):\n",
    "        return complex(self.real + c.real , self.imaginary + c.imaginary ) \n",
    "    \n",
    "    def __str__(self):\n",
    "        return  f\"{self.real} + {self.imaginary}i\"\n",
    "    \n",
    "    \n",
    "    \n",
    "c1=complex(2,5)\n",
    "c2=complex(3,10) \n",
    "\n",
    "print(c1+c2)"
   ]
  },
  {
   "cell_type": "code",
   "execution_count": 48,
   "metadata": {},
   "outputs": [
    {
     "name": "stdout",
     "output_type": "stream",
     "text": [
      "2a0 +5a1 +6a2 \n"
     ]
    }
   ],
   "source": [
    "#representing a vector by using property decorater method \n",
    "\n",
    "class vector:\n",
    "    def __init__(self,vec) :\n",
    "        self.vec=vec \n",
    "        \n",
    "    def __str__(self) :\n",
    "        str1=\"\" \n",
    "        index=0 \n",
    "        for i in self.vec :\n",
    "            str1 += f'{i}a{index} +' \n",
    "            index +=1    \n",
    "        return str1[:-1]  \n",
    "    \n",
    "    \n",
    "    \n",
    "v3=vector([2,5,6])\n",
    "print(v3)"
   ]
  },
  {
   "cell_type": "code",
   "execution_count": 53,
   "metadata": {},
   "outputs": [
    {
     "name": "stdout",
     "output_type": "stream",
     "text": [
      "4a0 +10a1 +12a2 \n"
     ]
    }
   ],
   "source": [
    "# adding of 2 vectors \n",
    "class vector:\n",
    "    def __init__(self,vec) :\n",
    "        self.vec=vec \n",
    "        \n",
    "    def __str__(self) :\n",
    "        str1=\"\" \n",
    "        index=0 \n",
    "        for i in self.vec :\n",
    "            str1 += f'{i}a{index} +' \n",
    "            index +=1    \n",
    "        return str1[:-1]   \n",
    "    \n",
    "    \n",
    "    def __add__(self,vec2):\n",
    "        new_list=[]\n",
    "        for i in range(len(self.vec)):\n",
    "            new_list.append(self.vec[i] + vec2.vec[i])\n",
    "        return vector(new_list)\n",
    "    \n",
    "    \n",
    "    \n",
    "v3=vector([2,5,6])\n",
    "v4=vector([2,5,6])\n",
    "print(v3+v4)"
   ]
  },
  {
   "cell_type": "code",
   "execution_count": 59,
   "metadata": {},
   "outputs": [
    {
     "name": "stdout",
     "output_type": "stream",
     "text": [
      "38\n",
      "38\n"
     ]
    }
   ],
   "source": [
    "# multiplying 2 vector products \n",
    "\n",
    "class vector:\n",
    "    def __init__(self,vec) :\n",
    "        self.vec=vec \n",
    "        \n",
    "    def __str__(self) :\n",
    "        str1=\"\" \n",
    "        index=0 \n",
    "        for i in self.vec :\n",
    "            str1 += f'{i}a{index} +' \n",
    "            index +=1    \n",
    "        return str1[:-1]   \n",
    "    \n",
    "    \n",
    "    def __mul__(self,vec2):\n",
    "        total=0 \n",
    "        for i in range(len(self.vec)):\n",
    "            total +=  self.vec[i] * vec2.vec[i]\n",
    "            \n",
    "        return total \n",
    "    \n",
    "    \n",
    "\n",
    "v1=vector([2,3,5])\n",
    "v2=vector([2,3,5])\n",
    "         \n",
    "         \n",
    "print(v1*v2) \n",
    "\n",
    "print(4+9+25)  #look "
   ]
  },
  {
   "cell_type": "code",
   "execution_count": 36,
   "metadata": {},
   "outputs": [
    {
     "name": "stdout",
     "output_type": "stream",
     "text": [
      "23i +89j\n",
      "23i +89j +56k\n",
      "23i +89j +78k +45\n"
     ]
    }
   ],
   "source": [
    "class vector2d :\n",
    "    def __init__(self, i,j):\n",
    "        self.ivec=i\n",
    "        self.jvec=j \n",
    "        \n",
    "        \n",
    "    def __str__(self):\n",
    "        return f\"{self.ivec}i +{self.jvec}j\" \n",
    "    \n",
    "\n",
    "class vector3d(vector2d):\n",
    "    def __init__(self,i,j,k) :\n",
    "        super().__init__(i,j)\n",
    "        self.kvec=k \n",
    "        \n",
    "    def __str__(self):\n",
    "        return  f\"{self.ivec}i +{self.jvec}j +{self.kvec}k\"  \n",
    "    \n",
    "    \n",
    "    \n",
    "    \n",
    "class fectall(vector3d):\n",
    "    def __init__(self, i, j, k ,m):\n",
    "        super().__init__(i, j, k)\n",
    "        self.mvec=m \n",
    "        \n",
    "    def seeall(self):\n",
    "        print(f\"{self.ivec}i +{self.jvec}j +{self.kvec}k +{self.mvec}\" )\n",
    "        \n",
    "        \n",
    "v1=vector2d(23,89) \n",
    "print(v1)\n",
    "        \n",
    "v2=vector3d(23,89,56)   \n",
    "print(v2)  \n",
    "\n",
    "f2=fectall(23,89,78,45)\n",
    "f2.seeall()"
   ]
  },
  {
   "cell_type": "code",
   "execution_count": 62,
   "metadata": {},
   "outputs": [
    {
     "name": "stdout",
     "output_type": "stream",
     "text": [
      "2i + 5j + 9k\n"
     ]
    }
   ],
   "source": [
    "# priting vector \n",
    "\n",
    "class vectorclass:\n",
    "    def __init__(self,vec):\n",
    "        self.vec=vec \n",
    "        \n",
    "    def __str__(self):\n",
    "        return f\"{self.vec[0]}i + {self.vec[1]}j + {self.vec[2]}k\"\n",
    "        \n",
    "        \n",
    "v1=vectorclass([2,5,9])\n",
    "print(v1)"
   ]
  },
  {
   "cell_type": "code",
   "execution_count": null,
   "metadata": {},
   "outputs": [],
   "source": []
  },
  {
   "cell_type": "code",
   "execution_count": null,
   "metadata": {},
   "outputs": [],
   "source": []
  },
  {
   "cell_type": "code",
   "execution_count": null,
   "metadata": {},
   "outputs": [],
   "source": []
  },
  {
   "cell_type": "code",
   "execution_count": 18,
   "metadata": {},
   "outputs": [
    {
     "name": "stdout",
     "output_type": "stream",
     "text": [
      "Addition Result: Point(3, 8)\n",
      "Subtraction Result: Point(1, -2)\n"
     ]
    }
   ],
   "source": [
    "class Point:\n",
    "    def __init__(self, x, y):\n",
    "        self.x = x\n",
    "        self.y = y\n",
    "\n",
    "    def __add__(self, other):\n",
    "        if isinstance(other, Point):\n",
    "            return Point(self.x + other.x, self.y + other.y)\n",
    "        else:\n",
    "            raise ValueError(\"Unsupported operand type for +\")\n",
    "\n",
    "    def __sub__(self, other):\n",
    "        if isinstance(other, Point):\n",
    "            return Point(self.x - other.x, self.y - other.y)\n",
    "        else:\n",
    "            raise ValueError(\"Unsupported operand type for -\")\n",
    "\n",
    "    def __str__(self):\n",
    "        return f\"Point({self.x}, {self.y})\"\n",
    "\n",
    "\n",
    "# Create Point instances\n",
    "p1 = Point(2, 3)\n",
    "p2 = Point(1, 5)\n",
    "\n",
    "# Overloaded addition\n",
    "result_add = p1 + p2\n",
    "print(\"Addition Result:\", result_add)\n",
    "\n",
    "# Overloaded subtraction\n",
    "result_sub = p1 - p2\n",
    "print(\"Subtraction Result:\", result_sub)\n"
   ]
  },
  {
   "cell_type": "markdown",
   "metadata": {},
   "source": [
    "### 3. Encapsulation:\n",
    "Encapsulation restricts direct access to some of an object's components and can prevent the accidental modification of data.\n",
    "\n",
    "It is achieved by marking attributes as private using double underscores (__)."
   ]
  },
  {
   "cell_type": "code",
   "execution_count": 2,
   "metadata": {},
   "outputs": [],
   "source": [
    "class BankAccount:\n",
    "    def __init__(self, balance):\n",
    "        self.__balance = balance  # Private attribute\n",
    "\n",
    "    def get_balance(self):\n",
    "        return self.__balance\n",
    "\n",
    "    def deposit(self, amount):\n",
    "        self.__balance += amount\n"
   ]
  },
  {
   "cell_type": "code",
   "execution_count": 7,
   "metadata": {},
   "outputs": [
    {
     "data": {
      "text/plain": [
       "1000"
      ]
     },
     "execution_count": 7,
     "metadata": {},
     "output_type": "execute_result"
    }
   ],
   "source": [
    "class Bankaccount:\n",
    "    def __init__(self,balance) :\n",
    "        self.__balance = balance   # private attribute \n",
    "        \n",
    "    def get_balance(self):\n",
    "        return self.__balance \n",
    "    \n",
    "    def deposite(self , amount):\n",
    "        self.__balance= self.__balance + amount \n",
    "        print(f\" your total amount in bank is {self.__balance} \\n now you deposite {amount}rs in your acc \")\n",
    "        \n",
    "    def withdraw(self,amount):\n",
    "        if amount <= self.__balance:\n",
    "            self.__balance= self.__balance-amount \n",
    "            print(f\"now your reamining banke balance is { self.__balance} \\n you have withdrwal {amount} rs now \") \n",
    "            \n",
    "            \n",
    "            \n",
    "b1=Bankaccount(1000)  \n",
    "b1.get_balance()"
   ]
  },
  {
   "cell_type": "code",
   "execution_count": 8,
   "metadata": {},
   "outputs": [
    {
     "name": "stdout",
     "output_type": "stream",
     "text": [
      " your total amount in bank is 1500 \n",
      " now you deposite 500rs in your acc \n"
     ]
    }
   ],
   "source": [
    "b1.deposite(500)"
   ]
  },
  {
   "cell_type": "code",
   "execution_count": 9,
   "metadata": {},
   "outputs": [
    {
     "name": "stdout",
     "output_type": "stream",
     "text": [
      "now your reamining banke balance is 1200 \n",
      " you have withdrwal 300 rs now \n"
     ]
    }
   ],
   "source": [
    "b1.withdraw(300)"
   ]
  },
  {
   "cell_type": "code",
   "execution_count": null,
   "metadata": {},
   "outputs": [],
   "source": []
  },
  {
   "cell_type": "markdown",
   "metadata": {},
   "source": [
    "### 4. Polymorphism:\n",
    "Polymorphism allows objects of different classes to be treated as objects of a common base class.\n",
    "\n",
    " It enables a single interface for different types of objects.\n",
    " \n",
    "Polymorphism is often expressed through method overriding."
   ]
  },
  {
   "cell_type": "code",
   "execution_count": 14,
   "metadata": {},
   "outputs": [],
   "source": [
    "class Shape:\n",
    "    def area(self):\n",
    "        pass\n",
    "\n",
    "class Rectangle(Shape):\n",
    "    def __init__(self, length, width):\n",
    "        self.length = length\n",
    "        self.width = width\n",
    "\n",
    "    def area(self):\n",
    "        return self.length * self.width\n",
    "\n",
    "class Circle(Shape):\n",
    "    def __init__(self, radius):\n",
    "        self.radius = radius\n",
    "\n",
    "    def area(self):\n",
    "        return 3.14 * self.radius ** 2\n"
   ]
  },
  {
   "cell_type": "code",
   "execution_count": 20,
   "metadata": {},
   "outputs": [
    {
     "name": "stdout",
     "output_type": "stream",
     "text": [
      "None\n"
     ]
    }
   ],
   "source": [
    "t1=Shape.area(23)\n"
   ]
  },
  {
   "cell_type": "code",
   "execution_count": null,
   "metadata": {},
   "outputs": [],
   "source": [
    "Rectangle=Rectangle(12,5)\n",
    "Circle=Circle(6)"
   ]
  },
  {
   "cell_type": "code",
   "execution_count": null,
   "metadata": {},
   "outputs": [],
   "source": [
    "def print_area(shape):\n",
    "    print(f\"Area: {shape.area()}\")\n",
    "\n",
    "# Creating instances of Rectangle and Circle\n",
    "rectangle = Rectangle(5, 10)\n",
    "circle = Circle(7)\n",
    "\n",
    "# Using the same function for different types of objects\n",
    "print_area(rectangle)  # Output: Area: 50\n",
    "print_area(circle)     # Output: Area: 153.86\n"
   ]
  },
  {
   "cell_type": "code",
   "execution_count": null,
   "metadata": {},
   "outputs": [],
   "source": []
  },
  {
   "cell_type": "code",
   "execution_count": null,
   "metadata": {},
   "outputs": [],
   "source": [
    "class BankAccount:\n",
    "    def __init__(self, balance):\n",
    "        self.__balance = balance  # Private attribute\n",
    "\n",
    "    def get_balance(self):\n",
    "        return self.__balance\n",
    "\n",
    "    def deposit(self, amount):\n",
    "        self.__balance += amount\n",
    "        print(f\"your all total  amount is {self.__balance}  and your deposites  latest amount is {amount} \")\n",
    "\n",
    "    def withdraw(self, amount):\n",
    "        if amount <= self.__balance:\n",
    "            print(f\" your  withdraw amount is {amount}  now your total balnce is {self.__balance} \")\n",
    "            self.__balance -= amount  \n",
    "            print(f\" deu to  withdraw amount is {amount}  now your total balnce is {self.__balance} \")\n",
    "            \n",
    "        else:\n",
    "            print(f\"you have Insufficient funds!  \\n your balance is {self.__balance} only \") \n",
    "            \n",
    "            \n",
    "t1=BankAccount(100) \n",
    "t1.get_balance()  # i will print your bank account balance \n",
    "\n",
    "print(f\" your total balance is {t1.get_balance()}\")\n"
   ]
  },
  {
   "cell_type": "code",
   "execution_count": null,
   "metadata": {},
   "outputs": [],
   "source": []
  },
  {
   "cell_type": "code",
   "execution_count": null,
   "metadata": {},
   "outputs": [],
   "source": []
  },
  {
   "cell_type": "code",
   "execution_count": null,
   "metadata": {},
   "outputs": [],
   "source": []
  },
  {
   "cell_type": "code",
   "execution_count": null,
   "metadata": {},
   "outputs": [],
   "source": []
  },
  {
   "cell_type": "code",
   "execution_count": null,
   "metadata": {},
   "outputs": [],
   "source": []
  },
  {
   "cell_type": "code",
   "execution_count": null,
   "metadata": {},
   "outputs": [],
   "source": []
  }
 ],
 "metadata": {
  "kernelspec": {
   "display_name": "Python 3",
   "language": "python",
   "name": "python3"
  },
  "language_info": {
   "codemirror_mode": {
    "name": "ipython",
    "version": 3
   },
   "file_extension": ".py",
   "mimetype": "text/x-python",
   "name": "python",
   "nbconvert_exporter": "python",
   "pygments_lexer": "ipython3",
   "version": "3.12.0"
  }
 },
 "nbformat": 4,
 "nbformat_minor": 2
}
