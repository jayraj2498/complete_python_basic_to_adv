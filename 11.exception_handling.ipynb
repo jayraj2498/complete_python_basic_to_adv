{
 "cells": [
  {
   "cell_type": "code",
   "execution_count": 15,
   "metadata": {},
   "outputs": [],
   "source": [
    "# there are many exception in python that can handle when programe goes wrong  \n",
    "# exception in python can handle with =======  try  \n",
    "# code that handle exception is wriiten in =====  except "
   ]
  },
  {
   "cell_type": "markdown",
   "metadata": {},
   "source": [
    "### try \n"
   ]
  },
  {
   "cell_type": "code",
   "execution_count": 9,
   "metadata": {},
   "outputs": [
    {
     "name": "stdout",
     "output_type": "stream",
     "text": [
      "press q to quite \n",
      "you number is greater than 10\n",
      "press q to quite \n",
      "you number is greater than 10\n",
      "press q to quite \n",
      "thankU  for entering number \n"
     ]
    }
   ],
   "source": [
    "# break \n",
    "\n",
    "while(True):\n",
    "    print(\"press q to quite \")\n",
    "    a=input(\"enter the number:\")\n",
    "    if a =='q':\n",
    "        break\n",
    "    a=int(a)\n",
    "    if a>10:\n",
    "        print(\"you number is greater than 10\")\n",
    "        \n",
    "        \n",
    "print(\"thankU  for entering number \")"
   ]
  },
  {
   "cell_type": "code",
   "execution_count": 4,
   "metadata": {},
   "outputs": [
    {
     "name": "stdout",
     "output_type": "stream",
     "text": [
      "15 X 5 = 75\n",
      "ThankU for entering the code \n"
     ]
    }
   ],
   "source": [
    "try:\n",
    "    no=int(input(\"enter a number for multiplication\")) \n",
    "    \n",
    "    a= 15 * no \n",
    "    print(f\"15 X {no} = {a}\")\n",
    "    \n",
    "except Exception as e :\n",
    "    print(\"exception is occured\")\n",
    "    print(f\"exception is :: {e}\") \n",
    "    \n",
    "\n",
    "print(\"ThankU for entering the code \")\n",
    "    "
   ]
  },
  {
   "cell_type": "code",
   "execution_count": 7,
   "metadata": {},
   "outputs": [
    {
     "name": "stdout",
     "output_type": "stream",
     "text": [
      "exception is occured\n",
      "exception is :: invalid literal for int() with base 10: 'laptop'\n",
      "ThankU for entering the code \n"
     ]
    }
   ],
   "source": [
    "try:\n",
    "    no=int(input(\"enter a number for multiplication\")) \n",
    "    \n",
    "    a= 15 * no \n",
    "    print(f\"15 X {no} = {a}\")\n",
    "    \n",
    "except Exception as e :\n",
    "    print(\"exception is occured\")\n",
    "    print(f\"exception is :: {e}\") \n",
    "    \n",
    "\n",
    "print(\"ThankU for entering the code \")"
   ]
  },
  {
   "cell_type": "code",
   "execution_count": 1,
   "metadata": {},
   "outputs": [
    {
     "name": "stdout",
     "output_type": "stream",
     "text": [
      "press q to quite.. \n",
      "program is running.......\n",
      "56 is greter than 10: \n",
      "press q to quite.. \n",
      "program is running.......\n",
      "89 is greter than 10: \n",
      "press q to quite.. \n",
      "program is running.......\n",
      "your exception result is an error :invalid literal for int() with base 10: 'laptyop'\n",
      "press q to quite.. \n",
      "thank you everyone \n",
      "you Quiting the Game \n"
     ]
    }
   ],
   "source": [
    "\n",
    "while(True):\n",
    "    print(\"press q to quite.. \")\n",
    "    a=input(\"enter the number:\")\n",
    "    if a =='q':\n",
    "        break\n",
    "    try:\n",
    "        print(\"program is running.......\")\n",
    "        a=int(a) \n",
    "        if a>10 :\n",
    "            print(f\"{a} is greter than 10: \")\n",
    "            \n",
    "    except Exception as e :\n",
    "        \n",
    "        print(f\"your exception result is an error :{e}\")    # look \n",
    "        \n",
    "        \n",
    "print(\"thank you everyone \\nyou Quiting the Game \")\n",
    "        \n",
    "  "
   ]
  },
  {
   "cell_type": "markdown",
   "metadata": {},
   "source": [
    "### handling differnt differnt exception "
   ]
  },
  {
   "cell_type": "code",
   "execution_count": 10,
   "metadata": {},
   "outputs": [
    {
     "name": "stdout",
     "output_type": "stream",
     "text": [
      "exception 1  is occured\n",
      "exception is :: invalid literal for int() with base 10: 'laptop'\n",
      "ThankU for entering the code \n"
     ]
    }
   ],
   "source": [
    "try:\n",
    "    no=int(input(\"enter a number for multiplication\")) \n",
    "    \n",
    "    a= 15 / no \n",
    "    print(f\"15 / {no} = {a}\")\n",
    "    \n",
    "except ValueError as e :\n",
    "    print(\"exception 1  is occured\")\n",
    "    print(f\"exception is :: {e}\") \n",
    "    \n",
    "except ZeroDivisionError as e :\n",
    "    print(\"exception 2  is occured\")\n",
    "    print(f\"exception is :: {e}\") \n",
    "\n",
    "\n",
    "except SyntaxError as e :\n",
    "    print(\"exception 3  is occured\")\n",
    "    print(f\"exception is :: {e}\") \n",
    "    \n",
    "    \n",
    "print(\"ThankU for entering the code \")"
   ]
  },
  {
   "cell_type": "code",
   "execution_count": 11,
   "metadata": {},
   "outputs": [
    {
     "name": "stdout",
     "output_type": "stream",
     "text": [
      "exception 2  is occured\n",
      "exception is :: division by zero\n",
      "ThankU for entering the code \n"
     ]
    }
   ],
   "source": [
    "try:\n",
    "    no=int(input(\"enter a number for multiplication\")) \n",
    "    \n",
    "    a= 15 / no \n",
    "    print(f\"15 / {no} = {a}\")\n",
    "    \n",
    "except ValueError as e :\n",
    "    print(\"exception 1  is occured\")\n",
    "    print(f\"exception is :: {e}\") \n",
    "    \n",
    "except ZeroDivisionError as e :\n",
    "    print(\"exception 2  is occured\")\n",
    "    print(f\"exception is :: {e}\") \n",
    "\n",
    "except SyntaxError as e :\n",
    "    print(\"exception 3  is occured\")\n",
    "    print(f\"exception is :: {e}\") \n",
    "    \n",
    "    \n",
    "print(\"ThankU for entering the code \")"
   ]
  },
  {
   "cell_type": "code",
   "execution_count": 12,
   "metadata": {},
   "outputs": [
    {
     "name": "stdout",
     "output_type": "stream",
     "text": [
      "Enter the valid Value  plz correct it\n",
      "\n",
      "ThankU for entering the code \n"
     ]
    }
   ],
   "source": [
    "# exception handiling \n",
    "\n",
    "try:\n",
    "    no=int(input(\"enter a number for multiplication\")) \n",
    "    \n",
    "    a= 15 / no \n",
    "    print(f\"15 / {no} = {a}\")\n",
    "    \n",
    "except ValueError as e :\n",
    "    print(\"Enter the valid Value  plz correct it\\n\")\n",
    "   \n",
    "    \n",
    "except ZeroDivisionError as e :\n",
    "    print(\"you are dividing no by Zero plz correct it\\n\")\n",
    "   \n",
    "\n",
    "except SyntaxError as e :     # Missing closing parenthesis --> (\"Hello, world!\" \n",
    " \n",
    "    print(\"Your syntax is wrong Make it plz correct it\\n\") \n",
    "    \n",
    "except TypeError as e :      # Adding incompatible types    --> \"Hello\" + 42 \n",
    "    print(\"Your syntax is wrong Make it plz correct it\\n\")\n",
    "    \n",
    "    \n",
    "    \n",
    "print(\"ThankU for entering the code \")"
   ]
  },
  {
   "cell_type": "code",
   "execution_count": 13,
   "metadata": {},
   "outputs": [
    {
     "name": "stdout",
     "output_type": "stream",
     "text": [
      "90\n"
     ]
    }
   ],
   "source": [
    "# crete your own error \n",
    "\n",
    "def increment(no):\n",
    "    try:\n",
    "        return no+1 \n",
    "    \n",
    "    except :\n",
    "        raise ValueError \n",
    "    \n",
    "\n",
    "a=increment(89)\n",
    "print(a)"
   ]
  },
  {
   "cell_type": "code",
   "execution_count": 16,
   "metadata": {},
   "outputs": [],
   "source": [
    "# def increment(no):\n",
    "#     try:\n",
    "#         return int(no)+1 \n",
    "#     except :\n",
    "#         raise ValueError(\"value error is occured \")\n",
    "    \n",
    "\n",
    "\n",
    "\n",
    "# a=increment('s23kkx')\n",
    "# print(a) \n"
   ]
  },
  {
   "cell_type": "code",
   "execution_count": 15,
   "metadata": {},
   "outputs": [
    {
     "name": "stdout",
     "output_type": "stream",
     "text": [
      "Value error is occurred. The input is not a valid integer.\n"
     ]
    }
   ],
   "source": [
    "def increment(no):\n",
    "    try:\n",
    "        return int(no) + 1\n",
    "    except ValueError:\n",
    "        raise ValueError(\"Value error is occurred. The input is not a valid integer.\")\n",
    "\n",
    "try:\n",
    "    a = increment('s23kkx')\n",
    "    print(a)\n",
    "except ValueError as e:\n",
    "    print(e)\n",
    "\n"
   ]
  },
  {
   "cell_type": "code",
   "execution_count": null,
   "metadata": {},
   "outputs": [],
   "source": []
  },
  {
   "cell_type": "markdown",
   "metadata": {},
   "source": [
    "### try with else clause "
   ]
  },
  {
   "cell_type": "code",
   "execution_count": 19,
   "metadata": {},
   "outputs": [
    {
     "name": "stdout",
     "output_type": "stream",
     "text": [
      "answer is 12\n",
      "our whole programe is get succesfully  written, Congratulations\n"
     ]
    }
   ],
   "source": [
    "# when your try code is get succesfull then it will print else message \n",
    "# if try is not get succesfull then it will print excption \n",
    "\n",
    "\n",
    "\n",
    "try :\n",
    "    no =int(input(\"enter the number for multiplication\"))\n",
    "    a=2*no \n",
    "    print(f\"answer is {a}\")\n",
    "    \n",
    "except Exception as e: \n",
    "    print(e)  \n",
    "    \n",
    "    \n",
    "else:\n",
    "    print(\"our whole programe is get succesfully  written, Congratulations\")"
   ]
  },
  {
   "cell_type": "code",
   "execution_count": 5,
   "metadata": {},
   "outputs": [
    {
     "name": "stdout",
     "output_type": "stream",
     "text": [
      "answer is 46\n",
      "our whole programe is get succesfully  written, Congratulations\n"
     ]
    }
   ],
   "source": [
    "def func(no):\n",
    "    \n",
    "    try:\n",
    "         a=2*no\n",
    "         print(f\"answer is {a}\") \n",
    "         \n",
    "    except Exception as e :\n",
    "        print(e)\n",
    "        \n",
    "    else:\n",
    "        print(\"our whole programe is get succesfully  written, Congratulations\")\n",
    "        \n",
    "   \n",
    "        \n",
    "    \n",
    "\n",
    "no =int(input(\"enter the number for multiplication\"))\n",
    "func(no)\n",
    "        "
   ]
  },
  {
   "cell_type": "code",
   "execution_count": 20,
   "metadata": {},
   "outputs": [
    {
     "name": "stdout",
     "output_type": "stream",
     "text": [
      " congratulation we are now succefully run abouve code \n",
      " you cannot divide it by zero wrong\n",
      "unsupported operand type(s) for /: 'int' and 'str'\n"
     ]
    }
   ],
   "source": [
    "# divide 2 number \n",
    "\n",
    "\n",
    "def divide(a,b):\n",
    "    try:\n",
    "        result=a/b \n",
    "        \n",
    "        \n",
    "    except ZeroDivisionError :\n",
    "        print(\" you cannot divide it by zero wrong\")\n",
    "        \n",
    "    except Exception as e:\n",
    "        print(e)\n",
    "        \n",
    "    else:\n",
    "        print(\" congratulation we are now succefully run abouve code \")\n",
    "        \n",
    "        \n",
    "d1=divide(56,2) \n",
    "d2=divide(56,0)\n",
    "d3=divide(56,'ui')\n"
   ]
  },
  {
   "cell_type": "code",
   "execution_count": 21,
   "metadata": {},
   "outputs": [
    {
     "name": "stdout",
     "output_type": "stream",
     "text": [
      "The result of 10 / 2 is 5.0.\n",
      "Error: Cannot divide by zero.\n"
     ]
    }
   ],
   "source": [
    "def divide_numbers(a, b):\n",
    "    try:\n",
    "        result = a / b\n",
    "        \n",
    "    except ZeroDivisionError:\n",
    "        print(\"Error: Cannot divide by zero.\")\n",
    "    else:\n",
    "        \n",
    "        print(f\"The result of {a} / {b} is {result}.\")\n",
    "\n",
    "divide_numbers(10, 2)  \n",
    "divide_numbers(5, 0)    \n"
   ]
  },
  {
   "cell_type": "code",
   "execution_count": null,
   "metadata": {},
   "outputs": [],
   "source": []
  },
  {
   "cell_type": "markdown",
   "metadata": {},
   "source": [
    "### try with finally"
   ]
  },
  {
   "cell_type": "code",
   "execution_count": null,
   "metadata": {},
   "outputs": [],
   "source": [
    "# finally is get executed while programe is succefully run or fail or it will go to exception "
   ]
  },
  {
   "cell_type": "code",
   "execution_count": 22,
   "metadata": {},
   "outputs": [
    {
     "name": "stdout",
     "output_type": "stream",
     "text": [
      "answer is 12\n",
      "finaly is will run at any cost\n"
     ]
    }
   ],
   "source": [
    "\n",
    "try :\n",
    "    no =int(input(\"enter the number for multiplication\"))\n",
    "    a=2*no \n",
    "    print(f\"answer is {a}\")\n",
    "    \n",
    "except Exception as e:\n",
    "    print(e)  \n",
    "    \n",
    "    \n",
    "finally:\n",
    "    print(\"finaly is will run at any cost\")"
   ]
  },
  {
   "cell_type": "code",
   "execution_count": 23,
   "metadata": {},
   "outputs": [
    {
     "name": "stdout",
     "output_type": "stream",
     "text": [
      "invalid literal for int() with base 10: 'laptop'\n",
      "finaly is will run at any cost\n"
     ]
    }
   ],
   "source": [
    "try :\n",
    "    no =int(input(\"enter the number for multiplication\"))\n",
    "    a=2*no \n",
    "    print(f\"answer is {a}\")\n",
    "    \n",
    "except Exception as e:\n",
    "    print(e)  \n",
    "    \n",
    "    \n",
    "finally:\n",
    "    print(\"finaly is will run at any cost\")"
   ]
  },
  {
   "cell_type": "code",
   "execution_count": 24,
   "metadata": {},
   "outputs": [
    {
     "name": "stdout",
     "output_type": "stream",
     "text": [
      "The result of 10 / 56 is 0.17857142857142858.\n",
      "Error: Cannot divide by zero.\n",
      "cannot access local variable 'result' where it is not associated with a value\n"
     ]
    }
   ],
   "source": [
    "def divide_numbers(a, b):\n",
    "    try:\n",
    "        result = a / b\n",
    "        \n",
    "    except ZeroDivisionError:\n",
    "        print(\"Error: Cannot divide by zero.\")\n",
    "        \n",
    "    finally:\n",
    "        \n",
    "        print(f\"The result of {a} / {b} is {result}.\")\n",
    "    \n",
    "    \n",
    "        \n",
    "try:\n",
    "    divide_numbers(10, 56)\n",
    "    divide_numbers(5, 0)   \n",
    "    \n",
    "except Exception as e:\n",
    "    print(e)\n",
    "    \n",
    "# finally:\n",
    "#     print(\"finaaly will run at any cost \")\n",
    "# divide_numbers(5, 0)    "
   ]
  },
  {
   "cell_type": "code",
   "execution_count": 25,
   "metadata": {},
   "outputs": [
    {
     "name": "stdout",
     "output_type": "stream",
     "text": [
      "The result of 10 / 2 is 5.0.\n",
      "This block will always be executed, regardless of exceptions.\n",
      "Error: Cannot divide by zero.\n",
      "This block will always be executed, regardless of exceptions.\n"
     ]
    }
   ],
   "source": [
    "def divide_numbers(a, b):\n",
    "    try:\n",
    "        result = a / b\n",
    "    except ZeroDivisionError:\n",
    "        print(\"Error: Cannot divide by zero.\")\n",
    "    else:\n",
    "        print(f\"The result of {a} / {b} is {result}.\")\n",
    "    finally:\n",
    "        print(\"This block will always be executed, regardless of exceptions.\")\n",
    "\n",
    "\n",
    "divide_numbers(10, 2)  \n",
    "divide_numbers(5, 0)   "
   ]
  },
  {
   "cell_type": "code",
   "execution_count": null,
   "metadata": {},
   "outputs": [],
   "source": []
  },
  {
   "cell_type": "code",
   "execution_count": 1,
   "metadata": {},
   "outputs": [
    {
     "name": "stdout",
     "output_type": "stream",
     "text": [
      "answer is 10\n",
      "our whole programe is get succesfully get written, Congratulations\n"
     ]
    }
   ],
   "source": [
    "# if try is not get succesfull then it will print excption \n",
    "\n",
    "\n",
    "\n",
    "try :\n",
    "    no =int(input(\"enter the number for multiplication\"))\n",
    "    a=2*no \n",
    "    print(f\"answer is {a}\")\n",
    "    \n",
    "except Exception as e:\n",
    "    print(e)  \n",
    "    \n",
    "    \n",
    "else:\n",
    "    print(\"our whole programe is get succesfully get written, Congratulations\")"
   ]
  },
  {
   "cell_type": "code",
   "execution_count": 26,
   "metadata": {},
   "outputs": [
    {
     "ename": "TypeError",
     "evalue": "can only concatenate str (not \"int\") to str",
     "output_type": "error",
     "traceback": [
      "\u001b[1;31m---------------------------------------------------------------------------\u001b[0m",
      "\u001b[1;31mTypeError\u001b[0m                                 Traceback (most recent call last)",
      "\u001b[1;32me:\\Python\\11.exception_handling.ipynb Cell 28\u001b[0m line \u001b[0;36m2\n\u001b[0;32m      <a href='vscode-notebook-cell:/e%3A/Python/11.exception_handling.ipynb#X36sZmlsZQ%3D%3D?line=0'>1</a>\u001b[0m \u001b[39m# 1. TypeError\u001b[39;00m\n\u001b[1;32m----> <a href='vscode-notebook-cell:/e%3A/Python/11.exception_handling.ipynb#X36sZmlsZQ%3D%3D?line=1'>2</a>\u001b[0m result \u001b[39m=\u001b[39m \u001b[39m\"\u001b[39;49m\u001b[39mHello, \u001b[39;49m\u001b[39m\"\u001b[39;49m \u001b[39m+\u001b[39;49m \u001b[39m42\u001b[39;49m  \u001b[39m# This will raise a TypeError\u001b[39;00m\n\u001b[0;32m      <a href='vscode-notebook-cell:/e%3A/Python/11.exception_handling.ipynb#X36sZmlsZQ%3D%3D?line=3'>4</a>\u001b[0m \u001b[39m# 2. ValueError\u001b[39;00m\n\u001b[0;32m      <a href='vscode-notebook-cell:/e%3A/Python/11.exception_handling.ipynb#X36sZmlsZQ%3D%3D?line=4'>5</a>\u001b[0m number_str \u001b[39m=\u001b[39m \u001b[39m\"\u001b[39m\u001b[39mabc\u001b[39m\u001b[39m\"\u001b[39m\n",
      "\u001b[1;31mTypeError\u001b[0m: can only concatenate str (not \"int\") to str"
     ]
    }
   ],
   "source": [
    "# 1. TypeError\n",
    "result = \"Hello, \" + 42  # This will raise a TypeError\n",
    "\n",
    "# 2. ValueError\n",
    "number_str = \"abc\"\n",
    "converted_number = int(number_str)  # This will raise a ValueError\n",
    "\n",
    "# 3. AttributeError\n",
    "my_list = [1, 2, 3]\n",
    "length = my_list.len()  # This will raise an AttributeError\n",
    "\n",
    "# 4. IndentationError\n",
    "def my_function():\n",
    "    print(\"Hello\")  # This will raise an IndentationError\n",
    "\n",
    "# 5. ModuleNotFoundError\n",
    "import non_existent_module  # This will raise a ModuleNotFoundError\n",
    "\n",
    "# 6. NameError\n",
    "undefined_variable = some_variable  # This will raise a NameError\n",
    "\n",
    "# 7. IndexError\n",
    "my_list = [1, 2, 3]\n",
    "value = my_list[10]  # This will raise an IndexError\n",
    "\n",
    "# 8. KeyError\n",
    "my_dict = {'key': 'value'}\n",
    "value = my_dict['non_existent_key']  # This will raise a KeyError\n",
    "\n",
    "# 9. FileNotFoundError\n",
    "with open('non_existent_file.txt', 'r') as file:\n",
    "    content = file.read()  # This will raise a FileNotFoundError\n",
    "\n",
    "# 10. ZeroDivisionError\n",
    "result = 10 / 0  # This will raise a ZeroDivisionError\n"
   ]
  },
  {
   "cell_type": "code",
   "execution_count": null,
   "metadata": {},
   "outputs": [],
   "source": []
  },
  {
   "cell_type": "code",
   "execution_count": 19,
   "metadata": {},
   "outputs": [
    {
     "name": "stdout",
     "output_type": "stream",
     "text": [
      "Result: 5.0\n",
      "Error: Cannot divide by zero.\n"
     ]
    }
   ],
   "source": [
    "def divide_numbers(a, b):\n",
    "    if b == 0:\n",
    "        raise ValueError(\"Cannot divide by zero.\")\n",
    "    return a / b\n",
    "\n",
    "try:\n",
    "    result = divide_numbers(10, 2)\n",
    "    print(\"Result:\", result)\n",
    "\n",
    "    result = divide_numbers(5, 0)  # This will raise an exception\n",
    "    print(\"Result:\", result)  # This line won't be executed\n",
    "    \n",
    "except ValueError as ve:\n",
    "    print(f\"Error: {ve}\")\n",
    "    \n"
   ]
  },
  {
   "cell_type": "code",
   "execution_count": null,
   "metadata": {},
   "outputs": [],
   "source": []
  },
  {
   "cell_type": "code",
   "execution_count": null,
   "metadata": {},
   "outputs": [],
   "source": []
  },
  {
   "cell_type": "code",
   "execution_count": null,
   "metadata": {},
   "outputs": [],
   "source": []
  },
  {
   "cell_type": "code",
   "execution_count": null,
   "metadata": {},
   "outputs": [],
   "source": []
  }
 ],
 "metadata": {
  "kernelspec": {
   "display_name": "Python 3",
   "language": "python",
   "name": "python3"
  },
  "language_info": {
   "codemirror_mode": {
    "name": "ipython",
    "version": 3
   },
   "file_extension": ".py",
   "mimetype": "text/x-python",
   "name": "python",
   "nbconvert_exporter": "python",
   "pygments_lexer": "ipython3",
   "version": "3.12.0"
  }
 },
 "nbformat": 4,
 "nbformat_minor": 2
}
