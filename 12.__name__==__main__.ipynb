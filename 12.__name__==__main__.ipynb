{
 "cells": [
  {
   "cell_type": "markdown",
   "metadata": {},
   "source": [
    "### sometimes we need to use differnt differnt file function in our existing file then we use these concept "
   ]
  },
  {
   "cell_type": "code",
   "execution_count": 1,
   "metadata": {},
   "outputs": [
    {
     "name": "stdout",
     "output_type": "stream",
     "text": [
      "hello\n"
     ]
    }
   ],
   "source": [
    "# __name__ evalutes to the name of module in python from where programe is run "
   ]
  },
  {
   "cell_type": "code",
   "execution_count": null,
   "metadata": {},
   "outputs": [],
   "source": [
    "# When you run it with same file it have the value is \"__main__ \"   \n",
    "# & \n",
    "# and when you print it from other location it has value is __name__    \n",
    "\n",
    "\n",
    "# so it will run that particular function only  "
   ]
  },
  {
   "cell_type": "code",
   "execution_count": 1,
   "metadata": {},
   "outputs": [
    {
     "name": "stdout",
     "output_type": "stream",
     "text": [
      "hello , good morning jay \n",
      "  good night jay\n"
     ]
    }
   ],
   "source": [
    "def good_morning(name):\n",
    "    print(f\"hello , good morning {name} \\n  good night {name}\")\n",
    "    \n",
    "\n",
    "a=input(\"enter your name\")\n",
    "\n",
    "good_morning(a)"
   ]
  },
  {
   "cell_type": "code",
   "execution_count": 1,
   "metadata": {},
   "outputs": [
    {
     "name": "stdout",
     "output_type": "stream",
     "text": [
      "hello , good morning jay \n",
      "  good night jay\n"
     ]
    }
   ],
   "source": [
    "def good_morning(name):\n",
    "    print(f\"hello , good morning {name} \\n  good night {name}\")\n",
    "    \n",
    "if __name__==\"__main__\":\n",
    "    a=input(\"enter your name\")\n",
    "\n",
    "    good_morning(a)"
   ]
  },
  {
   "cell_type": "code",
   "execution_count": 2,
   "metadata": {},
   "outputs": [
    {
     "name": "stdout",
     "output_type": "stream",
     "text": [
      "__main__\n"
     ]
    }
   ],
   "source": [
    "print(__name__)  # look "
   ]
  },
  {
   "cell_type": "code",
   "execution_count": null,
   "metadata": {},
   "outputs": [],
   "source": [
    "# plz check __main__ folder plz "
   ]
  }
 ],
 "metadata": {
  "kernelspec": {
   "display_name": "Python 3",
   "language": "python",
   "name": "python3"
  },
  "language_info": {
   "codemirror_mode": {
    "name": "ipython",
    "version": 3
   },
   "file_extension": ".py",
   "mimetype": "text/x-python",
   "name": "python",
   "nbconvert_exporter": "python",
   "pygments_lexer": "ipython3",
   "version": "3.12.0"
  }
 },
 "nbformat": 4,
 "nbformat_minor": 2
}
