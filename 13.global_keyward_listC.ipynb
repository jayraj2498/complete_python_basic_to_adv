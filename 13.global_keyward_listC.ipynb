{
 "cells": [
  {
   "cell_type": "code",
   "execution_count": null,
   "metadata": {},
   "outputs": [],
   "source": [
    "# global variable is used to modify varible outside current scope "
   ]
  },
  {
   "cell_type": "code",
   "execution_count": 28,
   "metadata": {},
   "outputs": [
    {
     "name": "stdout",
     "output_type": "stream",
     "text": [
      " name is narendra\n"
     ]
    }
   ],
   "source": [
    "# topic = global variable \n",
    "\n",
    "name='narendra'  # global_var\n",
    "\n",
    "def add() :\n",
    "    \n",
    "    print(f\" name is {name}\")\n",
    "    \n",
    "\n",
    "add()"
   ]
  },
  {
   "cell_type": "code",
   "execution_count": 29,
   "metadata": {},
   "outputs": [
    {
     "name": "stdout",
     "output_type": "stream",
     "text": [
      " name is akash\n"
     ]
    }
   ],
   "source": [
    "name='narendra'  # global_var\n",
    "\n",
    "def add() :\n",
    "    \n",
    "    name='akash'  # local var \n",
    "    print(f\" name is {name}\")\n",
    "    \n",
    "\n",
    "add()"
   ]
  },
  {
   "cell_type": "code",
   "execution_count": 30,
   "metadata": {},
   "outputs": [
    {
     "name": "stdout",
     "output_type": "stream",
     "text": [
      " name is narendra\n"
     ]
    }
   ],
   "source": [
    "name='narendra'  # global_var\n",
    "\n",
    "def add() :\n",
    "    \n",
    "    global name \n",
    "  \n",
    "    print(f\" name is {name}\")\n",
    "    \n",
    "\n",
    "add()"
   ]
  },
  {
   "cell_type": "code",
   "execution_count": 31,
   "metadata": {},
   "outputs": [
    {
     "name": "stdout",
     "output_type": "stream",
     "text": [
      "narendra\n",
      " name is narendra\n",
      " name is akash\n",
      "akash\n"
     ]
    }
   ],
   "source": [
    "name='narendra'  # global_var\n",
    "\n",
    "def add() :\n",
    "    global name \n",
    "    print (f\" name is {name}\") #2 \n",
    "    \n",
    "    name='akash'  # we  newly assinge it now \n",
    "    print(f\" name is {name}\")   #3 \n",
    "    \n",
    "\n",
    "\n",
    "print(name) #1 \n",
    "\n",
    "add()  \n",
    "\n",
    "print(name)  # 4 "
   ]
  },
  {
   "cell_type": "code",
   "execution_count": 32,
   "metadata": {},
   "outputs": [
    {
     "name": "stdout",
     "output_type": "stream",
     "text": [
      "100\n",
      "50\n",
      "50\n"
     ]
    }
   ],
   "source": [
    "a= 100 \n",
    "\n",
    "def no():\n",
    "    \n",
    "    global a \n",
    "    print(a)\n",
    "    a=50 \n",
    "    print(a) \n",
    "    \n",
    "    \n",
    "no() \n",
    "print(a)"
   ]
  },
  {
   "cell_type": "code",
   "execution_count": 33,
   "metadata": {},
   "outputs": [
    {
     "name": "stdout",
     "output_type": "stream",
     "text": [
      "Before: 10\n",
      "After: 20\n"
     ]
    }
   ],
   "source": [
    "# Global variable\n",
    "global_variable = 10\n",
    "\n",
    "def modify_global_variable():\n",
    "    global global_variable\n",
    "    global_variable = 20\n",
    "\n",
    "print(\"Before:\", global_variable)\n",
    "\n",
    "\n",
    "modify_global_variable()\n",
    "\n",
    "\n",
    "print(\"After:\", global_variable)"
   ]
  },
  {
   "cell_type": "code",
   "execution_count": 34,
   "metadata": {},
   "outputs": [
    {
     "name": "stdout",
     "output_type": "stream",
     "text": [
      "Global variable: 5\n",
      "Global variable: 6\n"
     ]
    }
   ],
   "source": [
    "# Global \n",
    "global_var = 5\n",
    "\n",
    "def increment_global():\n",
    "    global global_var \n",
    "    global_var += 1\n",
    "\n",
    "def print_global():\n",
    "    print(\"Global variable:\", global_var)\n",
    "\n",
    "# Initial value\n",
    "print_global()\n",
    "\n",
    "increment_global()\n",
    "\n",
    "\n",
    "print_global()"
   ]
  },
  {
   "cell_type": "markdown",
   "metadata": {},
   "source": [
    "### Enamurater "
   ]
  },
  {
   "cell_type": "code",
   "execution_count": null,
   "metadata": {},
   "outputs": [],
   "source": [
    "# it  will give you all index value with respective incresing oreder afer mentioning the enumerater function   "
   ]
  },
  {
   "cell_type": "code",
   "execution_count": 35,
   "metadata": {},
   "outputs": [
    {
     "name": "stdout",
     "output_type": "stream",
     "text": [
      "0 11\n",
      "1 22\n",
      "2 33\n",
      "3 44\n",
      "4 55\n",
      "5 66\n",
      "6 77\n",
      "7 88\n"
     ]
    }
   ],
   "source": [
    "list1=[11,22,33,44,55,66,77,88] \n",
    "\n",
    "for index, i in enumerate(list1):\n",
    "    print(index,i)"
   ]
  },
  {
   "cell_type": "code",
   "execution_count": 36,
   "metadata": {},
   "outputs": [
    {
     "name": "stdout",
     "output_type": "stream",
     "text": [
      "0 jay\n",
      "1 12\n",
      "2 56\n",
      "3 78\n",
      "4 True\n",
      "5 <class 'bool'>\n",
      "6 34.67\n",
      "7 0\n"
     ]
    }
   ],
   "source": [
    "info=['jay',12,56,78,True , bool ,34.67 , 00000]\n",
    "\n",
    "for num , data in enumerate(info):\n",
    "    print(num,data)"
   ]
  },
  {
   "cell_type": "code",
   "execution_count": 37,
   "metadata": {},
   "outputs": [
    {
     "name": "stdout",
     "output_type": "stream",
     "text": [
      "jay 0\n",
      "12 1\n",
      "56 2\n",
      "78 3\n",
      "True 4\n",
      "<class 'bool'> 5\n",
      "34.67 6\n",
      "0 7\n"
     ]
    }
   ],
   "source": [
    "info=['jay',12,56,78,True , bool ,34.67 , 00000]\n",
    "\n",
    "for num , data in enumerate(info):\n",
    "    print(data,num)"
   ]
  },
  {
   "cell_type": "markdown",
   "metadata": {},
   "source": [
    "### list Comprehensions"
   ]
  },
  {
   "cell_type": "code",
   "execution_count": 39,
   "metadata": {},
   "outputs": [
    {
     "name": "stdout",
     "output_type": "stream",
     "text": [
      "even number are :[2, 88, 90, 234]\n"
     ]
    }
   ],
   "source": [
    "data=[2,45,67,88,90,234,7,5,33,45.0]\n",
    "\n",
    "even=[] \n",
    "\n",
    "for i in data:\n",
    "    if i%2==0 :\n",
    "        even.append(i)\n",
    "        \n",
    "print(f\"even number are :{even}\")"
   ]
  },
  {
   "cell_type": "code",
   "execution_count": 1,
   "metadata": {},
   "outputs": [
    {
     "name": "stdout",
     "output_type": "stream",
     "text": [
      "insdex is: 0 , add number is: 23\n",
      "insdex is: 1 , add number is: 89\n",
      "insdex is: 2 , add number is: 561\n",
      "insdex is: 3 , add number is: 3\n",
      "insdex is: 4 , add number is: 5\n",
      "insdex is: 5 , add number is: 213\n",
      "insdex is: 6 , add number is: 25\n",
      "insdex is: 7 , add number is: 5\n",
      "insdex is: 8 , add number is: 1\n"
     ]
    }
   ],
   "source": [
    "list1=[23,89,74,561,3,5,213,25,4,5,1] \n",
    "\n",
    "odd=[] \n",
    "\n",
    "for jay in list1 :\n",
    "    if jay % 2 !=0 :\n",
    "        odd.append(jay) \n",
    "        \n",
    "        \n",
    "        \n",
    "for index ,i in enumerate(odd):\n",
    "    \n",
    "    print(f\"insdex is: {index} , add number is: {i}\") "
   ]
  },
  {
   "cell_type": "code",
   "execution_count": 41,
   "metadata": {},
   "outputs": [
    {
     "name": "stdout",
     "output_type": "stream",
     "text": [
      "[1, 4, 9, 16, 25]\n"
     ]
    }
   ],
   "source": [
    "numbers = [1, 2, 3, 4, 5]\n",
    "squares = [x**2 for x in numbers]\n",
    "print(squares)\n"
   ]
  },
  {
   "cell_type": "code",
   "execution_count": 42,
   "metadata": {},
   "outputs": [
    {
     "name": "stdout",
     "output_type": "stream",
     "text": [
      "[5, 6, 6, 4]\n"
     ]
    }
   ],
   "source": [
    "words = [\"apple\", \"banana\", \"orange\", \"kiwi\"]\n",
    "lengths = [len(word) for word in words]\n",
    "print(lengths)\n"
   ]
  },
  {
   "cell_type": "code",
   "execution_count": 43,
   "metadata": {},
   "outputs": [
    {
     "name": "stdout",
     "output_type": "stream",
     "text": [
      "['HELLO', 'WORLD', 'PYTHON']\n"
     ]
    }
   ],
   "source": [
    "words = [\"hello\", \"world\", \"python\"]\n",
    "uppercase_words = [word.upper() for word in words]\n",
    "print(uppercase_words)\n"
   ]
  },
  {
   "cell_type": "code",
   "execution_count": 44,
   "metadata": {},
   "outputs": [
    {
     "name": "stdout",
     "output_type": "stream",
     "text": [
      "['odd', 'even', 'odd', 'even', 'odd', 'odd', 'odd', 'odd']\n"
     ]
    }
   ],
   "source": [
    "numbers = [1, 2, 3, 4, 5,5677,99,55]\n",
    "result = [\"even\" if x % 2 == 0 else \"odd\" for x in numbers]\n",
    "print(result)\n"
   ]
  },
  {
   "cell_type": "code",
   "execution_count": 45,
   "metadata": {},
   "outputs": [
    {
     "name": "stdout",
     "output_type": "stream",
     "text": [
      "even numbers are :[4, 6, 2, 34, 56, 8, 54, 32]\n",
      "odd numbers are :[1, 89, 7, 21]\n"
     ]
    }
   ],
   "source": [
    "no=[1,4,6,89,2,34,56,7,8,54,32,21] \n",
    "\n",
    "even=[]\n",
    "odd=[]\n",
    "\n",
    "for i in no :\n",
    "    if i%2==0 :\n",
    "        even.append(i) \n",
    "    elif i %2 !=0 :\n",
    "        odd.append(i)\n",
    "        \n",
    "        \n",
    "print(f\"even numbers are :{even}\")\n",
    "print(f\"odd numbers are :{odd}\")    "
   ]
  },
  {
   "cell_type": "code",
   "execution_count": 46,
   "metadata": {},
   "outputs": [
    {
     "name": "stdout",
     "output_type": "stream",
     "text": [
      "[32, 9, 56, 78]\n"
     ]
    }
   ],
   "source": [
    "list5=[32,6,8,9,56,78]\n",
    "\n",
    "list6=[i for i in list5 if i>8 ] \n",
    "\n",
    "print(list6)"
   ]
  },
  {
   "cell_type": "code",
   "execution_count": 47,
   "metadata": {},
   "outputs": [
    {
     "name": "stdout",
     "output_type": "stream",
     "text": [
      "{66, 11, 44, 22, 55}\n"
     ]
    }
   ],
   "source": [
    "list=[11,22,11,22,44,55,66,66]\n",
    "\n",
    "l={i for i in list}   # it dont allow repetation  it is set \n",
    "\n",
    "print(l)"
   ]
  },
  {
   "cell_type": "code",
   "execution_count": null,
   "metadata": {},
   "outputs": [],
   "source": []
  },
  {
   "cell_type": "code",
   "execution_count": null,
   "metadata": {},
   "outputs": [],
   "source": []
  },
  {
   "cell_type": "code",
   "execution_count": null,
   "metadata": {},
   "outputs": [],
   "source": []
  },
  {
   "cell_type": "code",
   "execution_count": null,
   "metadata": {},
   "outputs": [],
   "source": []
  },
  {
   "cell_type": "code",
   "execution_count": null,
   "metadata": {},
   "outputs": [],
   "source": []
  },
  {
   "cell_type": "code",
   "execution_count": null,
   "metadata": {},
   "outputs": [],
   "source": []
  },
  {
   "cell_type": "code",
   "execution_count": null,
   "metadata": {},
   "outputs": [],
   "source": []
  },
  {
   "cell_type": "code",
   "execution_count": null,
   "metadata": {},
   "outputs": [],
   "source": []
  },
  {
   "cell_type": "code",
   "execution_count": null,
   "metadata": {},
   "outputs": [],
   "source": []
  },
  {
   "cell_type": "code",
   "execution_count": null,
   "metadata": {},
   "outputs": [],
   "source": []
  },
  {
   "cell_type": "code",
   "execution_count": null,
   "metadata": {},
   "outputs": [],
   "source": []
  },
  {
   "cell_type": "code",
   "execution_count": null,
   "metadata": {},
   "outputs": [],
   "source": []
  },
  {
   "cell_type": "code",
   "execution_count": null,
   "metadata": {},
   "outputs": [],
   "source": []
  },
  {
   "cell_type": "code",
   "execution_count": null,
   "metadata": {},
   "outputs": [],
   "source": []
  }
 ],
 "metadata": {
  "kernelspec": {
   "display_name": "Python 3",
   "language": "python",
   "name": "python3"
  },
  "language_info": {
   "codemirror_mode": {
    "name": "ipython",
    "version": 3
   },
   "file_extension": ".py",
   "mimetype": "text/x-python",
   "name": "python",
   "nbconvert_exporter": "python",
   "pygments_lexer": "ipython3",
   "version": "3.12.0"
  }
 },
 "nbformat": 4,
 "nbformat_minor": 2
}
