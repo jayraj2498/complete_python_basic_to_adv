{
 "cells": [
  {
   "cell_type": "markdown",
   "metadata": {},
   "source": [
    "### virtual environment "
   ]
  },
  {
   "cell_type": "markdown",
   "metadata": {},
   "source": [
    "#### the environment which is same as the system interpreter butit is isolated from other python environment on the system "
   ]
  },
  {
   "cell_type": "code",
   "execution_count": null,
   "metadata": {},
   "outputs": [],
   "source": [
    "# pip install virtualenv"
   ]
  },
  {
   "cell_type": "code",
   "execution_count": null,
   "metadata": {},
   "outputs": [],
   "source": [
    "# python -m venv cwh                           # new env creted "
   ]
  },
  {
   "cell_type": "code",
   "execution_count": null,
   "metadata": {},
   "outputs": [],
   "source": [
    "# go to terminal type your env then tab to do all things \n",
    "\n",
    "# --->   .\\cwh\\Scripts\\activate.ps1                                        # now you are in new environment "
   ]
  },
  {
   "cell_type": "code",
   "execution_count": null,
   "metadata": {},
   "outputs": [],
   "source": [
    "# if you get errror like \n",
    "\n",
    "# error -->  runnnig script is dissable    \n",
    "\n",
    "# then run Set-ExecutionPolicy unrestricted   and run it in powerhell , type A "
   ]
  },
  {
   "cell_type": "code",
   "execution_count": null,
   "metadata": {},
   "outputs": [],
   "source": [
    "# or \n",
    "# pip install virtualenv\n",
    "# python -m venv flaskenv \n",
    "# flaskenv\\Scripts\\activate                     # now you are in new environment  \n",
    "# deactivate                                    # Deactivate the virtual environment:"
   ]
  },
  {
   "cell_type": "code",
   "execution_count": null,
   "metadata": {},
   "outputs": [],
   "source": [
    "# next operation in myenv is  \n",
    "\n",
    "#  pip install flask  \n",
    " \n",
    "#  so flask is get install in cwh Environment "
   ]
  },
  {
   "cell_type": "code",
   "execution_count": 1,
   "metadata": {},
   "outputs": [],
   "source": [
    "# now you want to come back to main system interoreter then you have to do \n",
    "# write command in terminal \n",
    "\n",
    "# -->  deactivate "
   ]
  },
  {
   "cell_type": "code",
   "execution_count": null,
   "metadata": {},
   "outputs": [],
   "source": [
    "# if you want to get all packages list \n",
    "\n",
    "# pip freeze"
   ]
  },
  {
   "cell_type": "code",
   "execution_count": null,
   "metadata": {},
   "outputs": [],
   "source": [
    "# you will get all list \n",
    "\n",
    "# pip freeze \n",
    "# # -->\n",
    "# blinker==1.7.0\n",
    "# click==8.1.7\n",
    "# colorama==0.4.6\n",
    "# Flask==3.0.0\n",
    "# itsdangerous==2.1.2\n",
    "# Jinja2==3.1.2\n",
    "# MarkupSafe==2.1.3\n",
    "# numpy==1.26.1\n",
    "# pandas==2.1.3\n",
    "# python-dateutil==2.8.2\n",
    "# pytz==2023.3.post1\n",
    "# six==1.16.0\n",
    "# tzdata==2023.3\n",
    "# Werkzeug==3.0.1"
   ]
  },
  {
   "cell_type": "code",
   "execution_count": null,
   "metadata": {},
   "outputs": [],
   "source": [
    "# if you want to put automatically all packages list as  14.requirement.txt then use these command \n",
    "# in terminal \n",
    "\n",
    "# pip freeze > 14.requirement.txt "
   ]
  },
  {
   "cell_type": "code",
   "execution_count": null,
   "metadata": {},
   "outputs": [],
   "source": [
    "# if you want to install some other package from another txt file \n",
    "\n",
    "# ex= tata.txt \n",
    "\n",
    "# so tata have some packages which we want to install then we have to run the coomande in which \n",
    "# tata.txt have that package \n",
    "\n",
    "# pip install -r .\\tata.txt                             <---- "
   ]
  },
  {
   "cell_type": "code",
   "execution_count": 1,
   "metadata": {},
   "outputs": [],
   "source": [
    "# deactivate virtual environment \n",
    "\n",
    "# (cwh) PS E:\\Python> deactivate\n",
    "# PS E:\\Python>      # look            <--- "
   ]
  },
  {
   "cell_type": "code",
   "execution_count": null,
   "metadata": {},
   "outputs": [],
   "source": []
  },
  {
   "cell_type": "code",
   "execution_count": null,
   "metadata": {},
   "outputs": [],
   "source": []
  },
  {
   "cell_type": "code",
   "execution_count": null,
   "metadata": {},
   "outputs": [],
   "source": []
  },
  {
   "cell_type": "code",
   "execution_count": null,
   "metadata": {},
   "outputs": [],
   "source": []
  },
  {
   "cell_type": "code",
   "execution_count": null,
   "metadata": {},
   "outputs": [],
   "source": []
  },
  {
   "cell_type": "code",
   "execution_count": null,
   "metadata": {},
   "outputs": [],
   "source": []
  },
  {
   "cell_type": "code",
   "execution_count": null,
   "metadata": {},
   "outputs": [],
   "source": []
  },
  {
   "cell_type": "code",
   "execution_count": null,
   "metadata": {},
   "outputs": [],
   "source": []
  },
  {
   "cell_type": "code",
   "execution_count": null,
   "metadata": {},
   "outputs": [],
   "source": []
  },
  {
   "cell_type": "code",
   "execution_count": null,
   "metadata": {},
   "outputs": [],
   "source": []
  }
 ],
 "metadata": {
  "kernelspec": {
   "display_name": "Python 3",
   "language": "python",
   "name": "python3"
  },
  "language_info": {
   "codemirror_mode": {
    "name": "ipython",
    "version": 3
   },
   "file_extension": ".py",
   "mimetype": "text/x-python",
   "name": "python",
   "nbconvert_exporter": "python",
   "pygments_lexer": "ipython3",
   "version": "3.12.0"
  }
 },
 "nbformat": 4,
 "nbformat_minor": 2
}
