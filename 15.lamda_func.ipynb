{
 "cells": [
  {
   "cell_type": "markdown",
   "metadata": {},
   "source": [
    "#### Lamda\n"
   ]
  },
  {
   "cell_type": "code",
   "execution_count": null,
   "metadata": {},
   "outputs": [],
   "source": [
    "# lambda: This keyword is used to define a lambda function. \n",
    "\n",
    "# arguments: These are the input parameters of the function, similar to the arguments in a regular function. \n",
    "\n",
    "# expression: This is a single expression that the lambda function evaluates and returns."
   ]
  },
  {
   "cell_type": "code",
   "execution_count": null,
   "metadata": {},
   "outputs": [],
   "source": [
    "# you can use lambda function as a normal function \n",
    "\n",
    "# they can have any no of expression but only one argument ( one logic )\n",
    "\n",
    "# lambda function created using an expression using lambda keyward "
   ]
  },
  {
   "cell_type": "code",
   "execution_count": 23,
   "metadata": {},
   "outputs": [
    {
     "name": "stdout",
     "output_type": "stream",
     "text": [
      "25\n"
     ]
    }
   ],
   "source": [
    "# Regular function\n",
    "def square(x):\n",
    "    return x ** 2\n",
    "\n",
    "print(square(5))  \n",
    "\n"
   ]
  },
  {
   "cell_type": "code",
   "execution_count": 1,
   "metadata": {},
   "outputs": [
    {
     "data": {
      "text/plain": [
       "27"
      ]
     },
     "execution_count": 1,
     "metadata": {},
     "output_type": "execute_result"
    }
   ],
   "source": [
    "cube=lambda x : x*x*x  \n",
    "\n",
    "cube(3)"
   ]
  },
  {
   "cell_type": "code",
   "execution_count": 24,
   "metadata": {},
   "outputs": [
    {
     "name": "stdout",
     "output_type": "stream",
     "text": [
      "25\n"
     ]
    }
   ],
   "source": [
    "square = lambda x : x**2 \n",
    "\n",
    "print(square(5))"
   ]
  },
  {
   "cell_type": "code",
   "execution_count": 6,
   "metadata": {},
   "outputs": [
    {
     "data": {
      "text/plain": [
       "16"
      ]
     },
     "execution_count": 6,
     "metadata": {},
     "output_type": "execute_result"
    }
   ],
   "source": [
    "power_fun = lambda x , n : x ** n \n",
    "\n",
    "square = lambda x : power_fun(x,2) \n",
    "\n",
    "cube = lambda x : power_fun(x,3 ) \n",
    "\n",
    "raise_to_4 = lambda x : power_fun(x,4) \n",
    "\n",
    "\n",
    "\n",
    "square(10)\n",
    "cube(10)\n",
    "raise_to_4(2)"
   ]
  },
  {
   "cell_type": "code",
   "execution_count": 20,
   "metadata": {},
   "outputs": [
    {
     "name": "stdout",
     "output_type": "stream",
     "text": [
      "50.0\n"
     ]
    }
   ],
   "source": [
    "halp_no = lambda a : a/2 \n",
    "\n",
    "print(halp_no(100))"
   ]
  },
  {
   "cell_type": "code",
   "execution_count": 21,
   "metadata": {},
   "outputs": [
    {
     "name": "stdout",
     "output_type": "stream",
     "text": [
      "199\n"
     ]
    }
   ],
   "source": [
    "add = lambda x: x+100  \n",
    "\n",
    "no= 99 \n",
    "\n",
    "print(add(no))\n"
   ]
  },
  {
   "cell_type": "code",
   "execution_count": null,
   "metadata": {},
   "outputs": [],
   "source": []
  },
  {
   "cell_type": "code",
   "execution_count": 2,
   "metadata": {},
   "outputs": [
    {
     "name": "stdout",
     "output_type": "stream",
     "text": [
      "9\n",
      "8\n",
      "16\n"
     ]
    }
   ],
   "source": [
    "power_function = lambda x, n: x ** n\n",
    "\n",
    "\n",
    "square = lambda x: power_function(x, 2)\n",
    "\n",
    "cube = lambda x: power_function(x, 3)\n",
    "\n",
    "power_of_4 = lambda x: power_function(x, 4)\n",
    "\n",
    "print(square(3))       \n",
    "print(cube(2))         \n",
    "print(power_of_4(2))   \n"
   ]
  },
  {
   "cell_type": "code",
   "execution_count": 8,
   "metadata": {},
   "outputs": [
    {
     "name": "stdout",
     "output_type": "stream",
     "text": [
      "25\n",
      "10\n"
     ]
    }
   ],
   "source": [
    "multiple = lambda x, y : x * y \n",
    "\n",
    "answer = lambda x: multiple(x,5)\n",
    "\n",
    "print(answer(5))\n",
    "\n",
    "print(answer(2)) "
   ]
  },
  {
   "cell_type": "code",
   "execution_count": 16,
   "metadata": {},
   "outputs": [
    {
     "name": "stdout",
     "output_type": "stream",
     "text": [
      "15\n"
     ]
    }
   ],
   "source": [
    "numbers = [1, 2, 3, 4, 5]\n",
    "\n",
    "sum_elements = lambda lst: sum(lst)\n",
    "print(sum_elements(numbers))  \n",
    " \n"
   ]
  },
  {
   "cell_type": "code",
   "execution_count": 19,
   "metadata": {},
   "outputs": [
    {
     "name": "stdout",
     "output_type": "stream",
     "text": [
      "1255\n"
     ]
    }
   ],
   "source": [
    "list1= [1,34,56,78,67,9,10,1000] \n",
    "\n",
    "sum_all = lambda no : sum(no)\n",
    "\n",
    "print(sum_all(list1))"
   ]
  },
  {
   "cell_type": "code",
   "execution_count": 3,
   "metadata": {},
   "outputs": [
    {
     "name": "stdout",
     "output_type": "stream",
     "text": [
      "90\n"
     ]
    }
   ],
   "source": [
    "list2=[34,56,78,21,90] \n",
    "\n",
    "max_no = lambda x : max(x) \n",
    "\n",
    "print( max_no(list2))"
   ]
  },
  {
   "cell_type": "code",
   "execution_count": 4,
   "metadata": {},
   "outputs": [
    {
     "name": "stdout",
     "output_type": "stream",
     "text": [
      "90\n"
     ]
    }
   ],
   "source": [
    "list2=[34,56,78,21,90] \n",
    "\n",
    "max_no = lambda x : max(x) \n",
    "\n",
    "ans =max_no(list2) \n",
    "\n",
    "print(ans)"
   ]
  },
  {
   "cell_type": "code",
   "execution_count": 14,
   "metadata": {},
   "outputs": [
    {
     "name": "stdout",
     "output_type": "stream",
     "text": [
      "False\n",
      "rehtorb_olleh\n"
     ]
    }
   ],
   "source": [
    "is_even = lambda x: x % 2 == 0\n",
    "print(is_even(7)) \n",
    "\n",
    "\n",
    "reverse_str = lambda s: s[::-1]\n",
    "print(reverse_str(\"hello_brother\"))  \n"
   ]
  },
  {
   "cell_type": "code",
   "execution_count": 6,
   "metadata": {},
   "outputs": [
    {
     "name": "stdout",
     "output_type": "stream",
     "text": [
      "199\n"
     ]
    }
   ],
   "source": [
    "add = lambda x: x+100  \n",
    "\n",
    "no= 99 \n",
    "\n",
    "print(add(no))\n"
   ]
  },
  {
   "cell_type": "code",
   "execution_count": 10,
   "metadata": {},
   "outputs": [
    {
     "name": "stdout",
     "output_type": "stream",
     "text": [
      "201\n",
      "81\n",
      "10.0\n"
     ]
    }
   ],
   "source": [
    "add = lambda x ,a ,b : x+a+b \n",
    "\n",
    "square_lambda = lambda x: x ** 2 \n",
    "\n",
    "divide = lambda x: x/10 \n",
    "\n",
    "\n",
    "print(add(12,89,100))\n",
    "\n",
    "print(square_lambda(9)) \n",
    "\n",
    "print(divide(100))"
   ]
  },
  {
   "cell_type": "code",
   "execution_count": 25,
   "metadata": {},
   "outputs": [
    {
     "name": "stdout",
     "output_type": "stream",
     "text": [
      "16\n",
      "27\n"
     ]
    }
   ],
   "source": [
    "def power_function(n):\n",
    "    return lambda x: x ** n\n",
    "\n",
    "square = power_function(2)\n",
    "cube = power_function(3)\n",
    "\n",
    "print(square(4)) \n",
    "print(cube(3))    \n"
   ]
  },
  {
   "cell_type": "code",
   "execution_count": 11,
   "metadata": {},
   "outputs": [
    {
     "data": {
      "text/plain": [
       "27"
      ]
     },
     "execution_count": 11,
     "metadata": {},
     "output_type": "execute_result"
    }
   ],
   "source": [
    "square = lambda x, : x** 2 \n",
    "cube = lambda x : x ** 3 \n",
    "\n",
    " \n",
    "cube(3) "
   ]
  },
  {
   "cell_type": "code",
   "execution_count": null,
   "metadata": {},
   "outputs": [],
   "source": []
  },
  {
   "cell_type": "code",
   "execution_count": null,
   "metadata": {},
   "outputs": [],
   "source": [
    "# Lambda functions are often used in situations where a short, throwaway function is needed,\n",
    "# such as when passing a function as an argument to higher-order functions \n",
    "# like map(), filter(), or sorted()."
   ]
  }
 ],
 "metadata": {
  "kernelspec": {
   "display_name": "Python 3",
   "language": "python",
   "name": "python3"
  },
  "language_info": {
   "codemirror_mode": {
    "name": "ipython",
    "version": 3
   },
   "file_extension": ".py",
   "mimetype": "text/x-python",
   "name": "python",
   "nbconvert_exporter": "python",
   "pygments_lexer": "ipython3",
   "version": "3.12.0"
  }
 },
 "nbformat": 4,
 "nbformat_minor": 2
}
