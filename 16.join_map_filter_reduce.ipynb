{
 "cells": [
  {
   "cell_type": "markdown",
   "metadata": {},
   "source": [
    "#### join"
   ]
  },
  {
   "cell_type": "code",
   "execution_count": 8,
   "metadata": {},
   "outputs": [
    {
     "name": "stdout",
     "output_type": "stream",
     "text": [
      "Sunshine=Elephant=Computer=Adventure=Strawberry=Serendipity=Tranquility=Enigma\n"
     ]
    }
   ],
   "source": [
    "word_list = ['Sunshine', 'Elephant', 'Computer', 'Adventure', 'Strawberry',  'Serendipity', 'Tranquility', 'Enigma']\n",
    "\n",
    "\n",
    "list1= \"=\".join(word_list)\n",
    "\n",
    "print(list1)"
   ]
  },
  {
   "cell_type": "code",
   "execution_count": 9,
   "metadata": {},
   "outputs": [
    {
     "name": "stdout",
     "output_type": "stream",
     "text": [
      "Sunshine<>Elephant<>Computer<>Adventure<>Strawberry<>Serendipity<>Tranquility<>Enigma\n"
     ]
    }
   ],
   "source": [
    "word_list = ['Sunshine', 'Elephant', 'Computer', 'Adventure', 'Strawberry',  'Serendipity', 'Tranquility', 'Enigma']\n",
    "\n",
    "\n",
    "list1= \"<>\".join(word_list)\n",
    "\n",
    "print(list1)"
   ]
  },
  {
   "cell_type": "code",
   "execution_count": 10,
   "metadata": {},
   "outputs": [
    {
     "name": "stdout",
     "output_type": "stream",
     "text": [
      "Sunshine\n",
      "Elephant\n",
      "Computer\n",
      "Adventure\n",
      "Strawberry\n",
      "Serendipity\n",
      "Tranquility\n",
      "Enigma\n"
     ]
    }
   ],
   "source": [
    "word_list = ['Sunshine', 'Elephant', 'Computer', 'Adventure', 'Strawberry',  'Serendipity', 'Tranquility', 'Enigma']\n",
    "\n",
    "\n",
    "list1= \"\\n\".join(word_list)\n",
    "\n",
    "print(list1)"
   ]
  },
  {
   "cell_type": "markdown",
   "metadata": {},
   "source": [
    "#### MAP"
   ]
  },
  {
   "cell_type": "code",
   "execution_count": null,
   "metadata": {},
   "outputs": [],
   "source": [
    "# The map() function takes each element from the iterable, applies the specified function to it,\n",
    "# and returns an iterator over the results."
   ]
  },
  {
   "cell_type": "code",
   "execution_count": 13,
   "metadata": {},
   "outputs": [
    {
     "name": "stdout",
     "output_type": "stream",
     "text": [
      "[4, 16, 81, 64, 36]\n"
     ]
    }
   ],
   "source": [
    "# regular method \n",
    "\n",
    "def square(num):\n",
    "    return num*num \n",
    "\n",
    "list1=[2,4,9,8,6]  \n",
    "\n",
    "square_list = []\n",
    "\n",
    "for i in list1 :\n",
    "    square_list.append(square(i)) \n",
    "    \n",
    "print(square_list)\n",
    "    "
   ]
  },
  {
   "cell_type": "code",
   "execution_count": null,
   "metadata": {},
   "outputs": [],
   "source": [
    "# map handle both cases in just one line of code \n"
   ]
  },
  {
   "cell_type": "code",
   "execution_count": 18,
   "metadata": {},
   "outputs": [
    {
     "name": "stdout",
     "output_type": "stream",
     "text": [
      "[4, 16, 81, 64, 36]\n"
     ]
    }
   ],
   "source": [
    "# Map method \n",
    "\n",
    "\n",
    "def square(no) :\n",
    "    return no*no \n",
    "\n",
    "list2=[2,4,9,8,6] \n",
    "\n",
    "# print(map(square,list2) )    # it is in list form so we have to mention it into list \n",
    "\n",
    "\n",
    "print(list(map(square,list2)))   # look "
   ]
  },
  {
   "cell_type": "code",
   "execution_count": 1,
   "metadata": {},
   "outputs": [
    {
     "name": "stdout",
     "output_type": "stream",
     "text": [
      "[1, 8, 27, 64, 125, 216, 343, 512, 729]\n"
     ]
    }
   ],
   "source": [
    "def cube(no) :\n",
    "    return no ** 3 \n",
    "\n",
    "\n",
    "list1 = [1,2,3,4,5,6,7,8,9] \n",
    "\n",
    "\n",
    "print(list(map(cube,list1))) "
   ]
  },
  {
   "cell_type": "code",
   "execution_count": 3,
   "metadata": {},
   "outputs": [
    {
     "name": "stdout",
     "output_type": "stream",
     "text": [
      "[1, 8, 27, 64, 125, 216, 343, 512, 729]\n"
     ]
    }
   ],
   "source": [
    "# by using lambda function \n",
    "\n",
    "cube_list =[1,2,3,4,5,6,7,8,9]  \n",
    "\n",
    "cube_ans= list( map(lambda x: x**3 ,cube_list) )\n",
    "\n",
    "\n",
    "print(cube_ans) "
   ]
  },
  {
   "cell_type": "code",
   "execution_count": 4,
   "metadata": {},
   "outputs": [
    {
     "name": "stdout",
     "output_type": "stream",
     "text": [
      "[1, 4, 9, 16, 25, 36, 49, 64, 81]\n"
     ]
    }
   ],
   "source": [
    "list_1 =[1,2,3,4,5,6,7,8,9]  \n",
    "list_2 =[1,2,3,4,5,6,7,8,9]  \n",
    "\n",
    "ans=list(map(lambda x,y:x*y , list_1,list_2)) \n",
    "\n",
    "print(ans) \n"
   ]
  },
  {
   "cell_type": "code",
   "execution_count": 6,
   "metadata": {},
   "outputs": [
    {
     "name": "stdout",
     "output_type": "stream",
     "text": [
      "['APPLE', 'BANANA', 'PAPAYA']\n"
     ]
    }
   ],
   "source": [
    "word= [\"apple\", \"banana\",\"papaya\"] \n",
    "\n",
    "upper_word =list(map(str.upper , word)) \n",
    "\n",
    "print(upper_word) "
   ]
  },
  {
   "cell_type": "code",
   "execution_count": 7,
   "metadata": {},
   "outputs": [
    {
     "data": {
      "text/plain": [
       "['apple', 'orange', 'book', 'bat']"
      ]
     },
     "execution_count": 7,
     "metadata": {},
     "output_type": "execute_result"
    }
   ],
   "source": [
    "def funt(cart) :\n",
    "    return cart[\"name\"] \n",
    " \n",
    "    \n",
    "\n",
    "cart= [ \n",
    "       {\"name\":\"apple\" ,\"price\":50 , \"quantity\":4 },\n",
    "       {\"name\":\"orange\" ,\"price\":100 , \"quantity\":2 },\n",
    "       {\"name\":\"book\" ,\"price\":1000, \"quantity\":1 },\n",
    "       {\"name\":\"bat\" ,\"price\":10 , \"quantity\":10 }\n",
    "]  \n",
    "\n",
    "\n",
    "\n",
    "\n",
    "list(map(funt , cart))\n",
    "\n"
   ]
  },
  {
   "cell_type": "code",
   "execution_count": null,
   "metadata": {},
   "outputs": [],
   "source": []
  },
  {
   "cell_type": "code",
   "execution_count": 20,
   "metadata": {},
   "outputs": [
    {
     "name": "stdout",
     "output_type": "stream",
     "text": [
      "[32.0, 50.0, 68.0, 86.0, 104.0]\n"
     ]
    }
   ],
   "source": [
    "\n",
    "def celsius_to_fahrenheit(celsius):\n",
    "    return (celsius * 9/5) + 32\n",
    "\n",
    "temperatures_celsius = [0, 10, 20, 30, 40]\n",
    "\n",
    "temperatures_fahrenheit = map(celsius_to_fahrenheit, temperatures_celsius)\n",
    "\n",
    "print(list(temperatures_fahrenheit))\n"
   ]
  },
  {
   "cell_type": "code",
   "execution_count": 22,
   "metadata": {},
   "outputs": [
    {
     "name": "stdout",
     "output_type": "stream",
     "text": [
      "['Alice', 'Bob', 'Charlie', 'David']\n"
     ]
    }
   ],
   "source": [
    "\n",
    "names = [\"alice\", \"bob\", \"charlie\", \"david\"]\n",
    "\n",
    "\n",
    "capitalized_names = map(str.capitalize, names)\n",
    "\n",
    "\n",
    "print(list(capitalized_names))\n"
   ]
  },
  {
   "cell_type": "code",
   "execution_count": 23,
   "metadata": {},
   "outputs": [
    {
     "name": "stdout",
     "output_type": "stream",
     "text": [
      "[1.0, 2.0, 3.0, 4.0, 5.0]\n"
     ]
    }
   ],
   "source": [
    "import math\n",
    "\n",
    "\n",
    "numbers = [1, 4, 9, 16, 25]\n",
    "\n",
    "square_roots = map(math.sqrt, numbers)\n",
    "\n",
    "print(list(square_roots))\n"
   ]
  },
  {
   "cell_type": "markdown",
   "metadata": {},
   "source": [
    "## filter"
   ]
  },
  {
   "cell_type": "markdown",
   "metadata": {},
   "source": [
    "### filter function itreate for which function return true it is used to filter item from list based on condition "
   ]
  },
  {
   "cell_type": "code",
   "execution_count": null,
   "metadata": {},
   "outputs": [],
   "source": [
    "# filter creates a  list of item for which function return true  \n",
    "\n",
    "# The filter() function returns an iterator containing only the elements of the iterable for which the function returns True "
   ]
  },
  {
   "cell_type": "code",
   "execution_count": 4,
   "metadata": {},
   "outputs": [
    {
     "name": "stdout",
     "output_type": "stream",
     "text": [
      "[2, 4, 6, 8]\n"
     ]
    }
   ],
   "source": [
    "# Define a function to check if a number is even\n",
    "def is_even(x):\n",
    "    return x % 2 == 0\n",
    "\n",
    "\n",
    "numbers = [1, 2, 3, 4, 5, 6, 7, 8, 9]\n",
    "\n",
    "\n",
    "even_numbers = filter(is_even, numbers)\n",
    "\n",
    "# Convert the iterator to a list \n",
    "print(list(even_numbers))\n"
   ]
  },
  {
   "cell_type": "code",
   "execution_count": 7,
   "metadata": {},
   "outputs": [
    {
     "name": "stdout",
     "output_type": "stream",
     "text": [
      "[False, False, False, False, True, True]\n"
     ]
    }
   ],
   "source": [
    "def greaterthan10(no):\n",
    "    if no>10:\n",
    "        return True \n",
    "    else:\n",
    "        return False \n",
    "    \n",
    "    \n",
    "list1=[2,4,1,7,90,78]\n",
    "\n",
    "check= map(greaterthan10,list1)\n",
    "\n",
    "print(list(check))    #see "
   ]
  },
  {
   "cell_type": "code",
   "execution_count": 6,
   "metadata": {},
   "outputs": [
    {
     "name": "stdout",
     "output_type": "stream",
     "text": [
      "[90, 78]\n"
     ]
    }
   ],
   "source": [
    "def greaterthan10(no):\n",
    "    if no>10:\n",
    "        return True \n",
    "    else:\n",
    "        return False \n",
    "    \n",
    "    \n",
    "list1=[2,4,1,7,90,78]\n",
    "\n",
    "check= filter(greaterthan10,list1)\n",
    "\n",
    "print(list(check))   # see "
   ]
  },
  {
   "cell_type": "code",
   "execution_count": 16,
   "metadata": {},
   "outputs": [
    {
     "name": "stdout",
     "output_type": "stream",
     "text": [
      "[22, 44]\n"
     ]
    }
   ],
   "source": [
    "def greaterthan15(no):\n",
    "    if no>=15 and no <=50:\n",
    "        return True \n",
    "    else:\n",
    "        return False \n",
    "    \n",
    "list5=[22,55,88,99,44,1,2,3,4,5,6,7,8,9] \n",
    "\n",
    "sort=(filter(greaterthan15,list5)) \n",
    "\n",
    "\n",
    "print(list(sort))  \n"
   ]
  },
  {
   "cell_type": "code",
   "execution_count": 8,
   "metadata": {},
   "outputs": [
    {
     "name": "stdout",
     "output_type": "stream",
     "text": [
      "[88, 99]\n"
     ]
    }
   ],
   "source": [
    "\n",
    "    \n",
    "list5=[22,55,88,99,44,1,2,3,4,5,6,7,8,9]  \n",
    "\n",
    "lambdasort = lambda x:x>80 \n",
    "\n",
    "lambda_filter= filter(lambdasort , list5) \n",
    "\n",
    "print(list(lambda_filter))"
   ]
  },
  {
   "cell_type": "code",
   "execution_count": 17,
   "metadata": {},
   "outputs": [
    {
     "name": "stdout",
     "output_type": "stream",
     "text": [
      "['Alice', 'Anna', 'Alex']\n"
     ]
    }
   ],
   "source": [
    "\n",
    "names = [\"Alice\", \"Bob\", \"Charlie\", \"David\", \"Anna\", \"Alex\"]\n",
    "\n",
    "# Use filter to keep only names starting with 'A'\n",
    "filtered_names = filter(lambda x: x.startswith('A'), names)\n",
    "\n",
    "\n",
    "print(list(filtered_names))\n"
   ]
  },
  {
   "cell_type": "code",
   "execution_count": 21,
   "metadata": {},
   "outputs": [
    {
     "name": "stdout",
     "output_type": "stream",
     "text": [
      "['Anna']\n"
     ]
    }
   ],
   "source": [
    "data= [\"Bob\", \"Charlie\", \"David\", \"Anna\"] \n",
    "\n",
    "\n",
    "filter_data=filter(lambda x: x.endswith('a'), data) \n",
    "\n",
    "print(list(filter_data))"
   ]
  },
  {
   "cell_type": "code",
   "execution_count": 33,
   "metadata": {},
   "outputs": [
    {
     "name": "stdout",
     "output_type": "stream",
     "text": [
      "[25, 9]\n"
     ]
    }
   ],
   "source": [
    "number_list= [25,-8,-1,9,-12,-78] \n",
    "\n",
    "positive_no =filter(lambda no : no >0 ,number_list) \n",
    "\n",
    "print(list(positive_no))"
   ]
  },
  {
   "cell_type": "code",
   "execution_count": 34,
   "metadata": {},
   "outputs": [
    {
     "name": "stdout",
     "output_type": "stream",
     "text": [
      "['radar', 'level', 'civic']\n"
     ]
    }
   ],
   "source": [
    "words = [\"radar\", \"python\", \"level\", \"hello\", \"civic\"]  \n",
    "\n",
    "palindrome =filter(lambda x:x == x[::-1] , words)\n",
    "\n",
    "print(list(palindrome))"
   ]
  },
  {
   "cell_type": "code",
   "execution_count": 13,
   "metadata": {},
   "outputs": [
    {
     "name": "stdout",
     "output_type": "stream",
     "text": [
      "['radar', 'level', 'civic']\n"
     ]
    }
   ],
   "source": [
    "words = [\"radar\", \"python\", \"level\", \"hello\", \"civic\"]  \n",
    "\n",
    "x= lambda x:x == x[::-1] \n",
    "\n",
    "palindrome =filter(x , words)\n",
    "\n",
    "print(list(palindrome))"
   ]
  },
  {
   "cell_type": "code",
   "execution_count": 14,
   "metadata": {},
   "outputs": [
    {
     "name": "stdout",
     "output_type": "stream",
     "text": [
      "[5, 25, 50, 55, 90, 100]\n"
     ]
    }
   ],
   "source": [
    "data10=[5,25,50,55,90,100,88,44,33,11,77,66,99,21,43,76,89] \n",
    "\n",
    "lmb=lambda x : x % 5 ==0  \n",
    "\n",
    "print(list(filter(lmb,data10)))"
   ]
  },
  {
   "cell_type": "code",
   "execution_count": 15,
   "metadata": {},
   "outputs": [
    {
     "name": "stdout",
     "output_type": "stream",
     "text": [
      "['civic']\n"
     ]
    }
   ],
   "source": [
    "input1=[\"civic\",\"jay\",\"narendra\",\"india\"] \n",
    "\n",
    "output1=filter( lambda x: x==x[::-1] , input1 )\n",
    "\n",
    "print(list(output1))"
   ]
  },
  {
   "cell_type": "code",
   "execution_count": 23,
   "metadata": {},
   "outputs": [
    {
     "name": "stdout",
     "output_type": "stream",
     "text": [
      "[25, 50, 55, 90, 100, 130, 140]\n"
     ]
    }
   ],
   "source": [
    "data10=[5,25,50,55,90,100,88,44,33,11,77,66,99,21,43,76,89,130,140]  \n",
    "\n",
    "logic = lambda x : x>5 and x%5 == 0 \n",
    "\n",
    "ans = list(filter(logic,data10 )) \n",
    "\n",
    "print(ans) "
   ]
  },
  {
   "cell_type": "code",
   "execution_count": null,
   "metadata": {},
   "outputs": [],
   "source": []
  },
  {
   "cell_type": "code",
   "execution_count": 31,
   "metadata": {},
   "outputs": [
    {
     "name": "stdout",
     "output_type": "stream",
     "text": [
      "[{'name': 'book', 'price': 1000, 'quantity': 1}]\n"
     ]
    }
   ],
   "source": [
    "cart= [ \n",
    "       {\"name\":\"apple\" ,\"price\":50 , \"quantity\":4 },\n",
    "       {\"name\":\"orange\" ,\"price\":100 , \"quantity\":2 },\n",
    "       {\"name\":\"book\" ,\"price\":1000, \"quantity\":1 },\n",
    "       {\"name\":\"bat\" ,\"price\":10 , \"quantity\":10 }\n",
    "]\n",
    "\n",
    "\n",
    "def funt(cart) : \n",
    "    return cart[\"price\"] > 800 \n",
    "\n",
    "\n",
    "output = list(filter(funt , cart)) \n",
    "\n",
    "print(output)\n",
    "\n",
    "\n",
    "\n",
    "  "
   ]
  },
  {
   "cell_type": "code",
   "execution_count": null,
   "metadata": {},
   "outputs": [],
   "source": []
  },
  {
   "cell_type": "markdown",
   "metadata": {},
   "source": [
    "### Reduce "
   ]
  },
  {
   "cell_type": "code",
   "execution_count": null,
   "metadata": {},
   "outputs": [],
   "source": [
    "# It is used to apply a function cumulatively to the items of an iterable, from left to right, \n",
    "#so as to reduce the iterable to a single cumulative result."
   ]
  },
  {
   "cell_type": "code",
   "execution_count": 18,
   "metadata": {},
   "outputs": [
    {
     "name": "stdout",
     "output_type": "stream",
     "text": [
      "100\n"
     ]
    }
   ],
   "source": [
    "from functools import reduce  \n",
    "\n",
    "sum = lambda x , y : x+y \n",
    "\n",
    "l = [10,20,30,40] \n",
    "\n",
    "value =reduce(sum , l )\n",
    "\n",
    "print(value)"
   ]
  },
  {
   "cell_type": "code",
   "execution_count": 49,
   "metadata": {},
   "outputs": [
    {
     "name": "stdout",
     "output_type": "stream",
     "text": [
      "120\n"
     ]
    }
   ],
   "source": [
    "number = [1,2,3,4,5] \n",
    "\n",
    "def fun(x,y):\n",
    "    return x*y \n",
    "\n",
    "\n",
    "op=reduce( fun , number) \n",
    "\n",
    "print(op)"
   ]
  },
  {
   "cell_type": "code",
   "execution_count": 59,
   "metadata": {},
   "outputs": [
    {
     "name": "stdout",
     "output_type": "stream",
     "text": [
      "True\n"
     ]
    }
   ],
   "source": [
    "from functools import reduce\n",
    "\n",
    "bool_values = [True, False, True, False]\n",
    "\n",
    "# Use reduce to check if any element in the list is True\n",
    "any_true = reduce(lambda x, y: x or y, bool_values)\n",
    "\n",
    "print(any_true)\n",
    "\n"
   ]
  },
  {
   "cell_type": "code",
   "execution_count": 62,
   "metadata": {},
   "outputs": [
    {
     "name": "stdout",
     "output_type": "stream",
     "text": [
      "10\n"
     ]
    }
   ],
   "source": [
    "from functools import reduce\n",
    "\n",
    "numbers = [8, 3, 6, 2, 10]\n",
    "\n",
    "\n",
    "max_number = reduce(lambda x, y: x if x > y else y, numbers)\n",
    "\n",
    "print(max_number)\n",
    "\n"
   ]
  },
  {
   "cell_type": "code",
   "execution_count": 21,
   "metadata": {},
   "outputs": [
    {
     "name": "stdout",
     "output_type": "stream",
     "text": [
      "Python is awesome!\n"
     ]
    }
   ],
   "source": [
    "\n",
    "words = [\"Python\", \" is\", \" awesome!\"]\n",
    "\n",
    "sentence = reduce(lambda x, y: x + y, words)\n",
    "\n",
    "print(sentence)\n",
    "\n"
   ]
  },
  {
   "cell_type": "code",
   "execution_count": 22,
   "metadata": {},
   "outputs": [
    {
     "name": "stdout",
     "output_type": "stream",
     "text": [
      "10\n"
     ]
    }
   ],
   "source": [
    "from functools import reduce\n",
    "\n",
    "numbers = [5, 8, 2, 10, 3]\n",
    "\n",
    "max_number = reduce(lambda x, y: x if x > y else y, numbers)\n",
    "\n",
    "print(max_number)\n",
    "\n"
   ]
  },
  {
   "cell_type": "code",
   "execution_count": 63,
   "metadata": {},
   "outputs": [
    {
     "name": "stdout",
     "output_type": "stream",
     "text": [
      "12\n"
     ]
    }
   ],
   "source": [
    "from functools import reduce\n",
    "\n",
    "data5 = [3, 6, 7, 8, 12]\n",
    "\n",
    "def fun(x, y):\n",
    "    if y > 10:\n",
    "        return y\n",
    "    else:\n",
    "        return x\n",
    "\n",
    "output5 = reduce(fun, data5)\n",
    "\n",
    "print(output5)\n"
   ]
  },
  {
   "cell_type": "code",
   "execution_count": 39,
   "metadata": {},
   "outputs": [
    {
     "name": "stdout",
     "output_type": "stream",
     "text": [
      "120\n"
     ]
    }
   ],
   "source": [
    "from functools import reduce\n",
    "\n",
    "n = 5\n",
    "\n",
    "# Calculate the factorial of n using reduce\n",
    "factorial = reduce(lambda x, y: x * y, range(1, n + 1))\n",
    "\n",
    "print(factorial)\n",
    "\n"
   ]
  },
  {
   "cell_type": "code",
   "execution_count": 45,
   "metadata": {},
   "outputs": [
    {
     "name": "stdout",
     "output_type": "stream",
     "text": [
      "[1, 2, 3, 4, 'a', 'b', 'c', 'd']\n"
     ]
    }
   ],
   "source": [
    "from functools import reduce\n",
    "\n",
    "list1 = [1, 2, 3, 4]\n",
    "list2 = ['a', 'b', 'c', 'd']\n",
    "\n",
    "# Combine elements from two lists element-wise using reduce\n",
    "combined_list = reduce(lambda x, y: x + [y], list2, list1)\n",
    "\n",
    "print(combined_list)\n"
   ]
  },
  {
   "cell_type": "code",
   "execution_count": null,
   "metadata": {},
   "outputs": [],
   "source": []
  },
  {
   "cell_type": "markdown",
   "metadata": {},
   "source": [
    "### practise Question"
   ]
  },
  {
   "cell_type": "code",
   "execution_count": null,
   "metadata": {},
   "outputs": [],
   "source": [
    "# virtualenv env1 \n",
    "\n",
    "# virtualenv env2 \n",
    "\n",
    "\n",
    "\n",
    "# env 1 \\script \\ activate .ps1   \n",
    "\n",
    "# now you  are in env1 \n",
    "\n",
    "# pip instal  x , y, z \n",
    "\n",
    "# pip freeze   --> you will get all package list tht you have install , and alredy exist \n",
    "\n",
    "# pip freeze > requirement.txt   --> it will crete new file of all you package \n",
    "\n",
    "# decativate env1 \n",
    "\n",
    "# now    use env2  \n",
    "\n",
    "# env 2 \\script \\ activate .ps1  \n",
    "\n",
    "# now you  are in env2  \n",
    "\n",
    "# pip install -r requirement.txt    -- > it will give you all packages including x,y,z s\n",
    "\n"
   ]
  },
  {
   "cell_type": "code",
   "execution_count": 2,
   "metadata": {},
   "outputs": [
    {
     "name": "stdout",
     "output_type": "stream",
     "text": [
      "['7', '14', '21', '28', '35', '42', '49', '56', '63', '70']\n"
     ]
    }
   ],
   "source": [
    "# Q create vertical list of multiplication table \n",
    "\n",
    "# horizontal \n",
    "\n",
    "table = [str(i*7) for i in range(1,11)] \n",
    "print(table)"
   ]
  },
  {
   "cell_type": "code",
   "execution_count": 4,
   "metadata": {},
   "outputs": [
    {
     "name": "stdout",
     "output_type": "stream",
     "text": [
      "7\n",
      "14\n",
      "21\n",
      "28\n",
      "35\n",
      "42\n",
      "49\n",
      "56\n",
      "63\n",
      "70\n"
     ]
    }
   ],
   "source": [
    "# vertical  \n",
    "\n",
    "vertable =\"\\n\".join(table) \n",
    "\n",
    "print(vertable)\n",
    "\n"
   ]
  },
  {
   "cell_type": "code",
   "execution_count": 5,
   "metadata": {},
   "outputs": [
    {
     "name": "stdout",
     "output_type": "stream",
     "text": [
      "[10, 45]\n"
     ]
    }
   ],
   "source": [
    "your_list = [10,11,23,45,77,88,99]  \n",
    "\n",
    "diisible5 =lambda x : x % 5== 0 \n",
    "\n",
    "output = filter(diisible5 , your_list) \n",
    "\n",
    "print(list(output))"
   ]
  },
  {
   "cell_type": "code",
   "execution_count": 6,
   "metadata": {},
   "outputs": [
    {
     "name": "stdout",
     "output_type": "stream",
     "text": [
      "[10, 45]\n"
     ]
    }
   ],
   "source": [
    "your_list = [10,11,23,45,77,88,99]   \n",
    "\n",
    "output= filter( lambda x : x % 5== 0 , your_list)  \n",
    "\n",
    "print(list(output)) "
   ]
  },
  {
   "cell_type": "code",
   "execution_count": 17,
   "metadata": {},
   "outputs": [
    {
     "name": "stdout",
     "output_type": "stream",
     "text": [
      "99\n"
     ]
    }
   ],
   "source": [
    "from functools import reduce \n",
    "\n",
    "your_list = [10,11,23,45,77,88,99]   \n",
    "\n",
    "output= reduce( max, your_list)  \n",
    "\n",
    "print(output) "
   ]
  },
  {
   "cell_type": "code",
   "execution_count": null,
   "metadata": {},
   "outputs": [],
   "source": [
    "# explore the flask module and create a webserver using flask and python "
   ]
  },
  {
   "cell_type": "code",
   "execution_count": null,
   "metadata": {},
   "outputs": [],
   "source": []
  },
  {
   "cell_type": "code",
   "execution_count": null,
   "metadata": {},
   "outputs": [],
   "source": []
  },
  {
   "cell_type": "code",
   "execution_count": null,
   "metadata": {},
   "outputs": [],
   "source": []
  },
  {
   "cell_type": "code",
   "execution_count": null,
   "metadata": {},
   "outputs": [],
   "source": []
  }
 ],
 "metadata": {
  "kernelspec": {
   "display_name": "Python 3",
   "language": "python",
   "name": "python3"
  },
  "language_info": {
   "codemirror_mode": {
    "name": "ipython",
    "version": 3
   },
   "file_extension": ".py",
   "mimetype": "text/x-python",
   "name": "python",
   "nbconvert_exporter": "python",
   "pygments_lexer": "ipython3",
   "version": "3.12.0"
  }
 },
 "nbformat": 4,
 "nbformat_minor": 2
}
