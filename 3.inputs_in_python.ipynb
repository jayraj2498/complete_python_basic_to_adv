{
 "cells": [
  {
   "cell_type": "code",
   "execution_count": 1,
   "metadata": {},
   "outputs": [
    {
     "name": "stdout",
     "output_type": "stream",
     "text": [
      "56\n"
     ]
    }
   ],
   "source": [
    "val=int(input('enter the value'))\n",
    "print(val)"
   ]
  },
  {
   "cell_type": "code",
   "execution_count": 3,
   "metadata": {},
   "outputs": [
    {
     "name": "stdout",
     "output_type": "stream",
     "text": [
      "ram\n"
     ]
    }
   ],
   "source": [
    "name = input('What is your name?\\n')\t # \\n ---> newline ---> It causes a line break\n",
    "print(name)\n"
   ]
  },
  {
   "cell_type": "code",
   "execution_count": 4,
   "metadata": {},
   "outputs": [
    {
     "name": "stdout",
     "output_type": "stream",
     "text": [
      "56\n",
      "jayraj\n",
      "type of number <class 'str'>\n",
      "type of name <class 'str'>\n"
     ]
    }
   ],
   "source": [
    "# Program to check input \n",
    "# type in Python\n",
    "\n",
    "num = input (\"Enter number :\")\n",
    "print(num)\n",
    "name1 = input(\"Enter name : \")\n",
    "print(name1)\n",
    "\n",
    "# Printing type of input value\n",
    "print (\"type of number\", type(num))\n",
    "print (\"type of name\", type(name1))\n"
   ]
  },
  {
   "cell_type": "code",
   "execution_count": 11,
   "metadata": {},
   "outputs": [
    {
     "name": "stdout",
     "output_type": "stream",
     "text": [
      "56   <class 'int'>\n",
      "56.6   <class 'float'>\n"
     ]
    }
   ],
   "source": [
    "num=int(input(\"enter the numnber \"))\n",
    "print(num ,\" \",type(num))\n",
    "\n",
    "float_num=float(input(\"enter the float number\"))\n",
    "print(float_num,\" \",type(float_num))"
   ]
  },
  {
   "cell_type": "code",
   "execution_count": 12,
   "metadata": {},
   "outputs": [
    {
     "name": "stdout",
     "output_type": "stream",
     "text": [
      "56\n"
     ]
    }
   ],
   "source": [
    "\n",
    "\n",
    "# input\n",
    "input1 = input()\n",
    " \n",
    "# output\n",
    "print(input1)"
   ]
  },
  {
   "cell_type": "code",
   "execution_count": 13,
   "metadata": {},
   "outputs": [
    {
     "name": "stdout",
     "output_type": "stream",
     "text": [
      "112\n"
     ]
    }
   ],
   "source": [
    "\n",
    "\n",
    "# input\n",
    "num1 = int(input())\n",
    "num2 = int(input())\n",
    " \n",
    "# printing the sum in integer\n",
    "print(num1 + num2)"
   ]
  },
  {
   "cell_type": "code",
   "execution_count": 14,
   "metadata": {},
   "outputs": [
    {
     "name": "stdout",
     "output_type": "stream",
     "text": [
      "ramrambhaisareyane\n",
      "ram_ran\n"
     ]
    }
   ],
   "source": [
    "str=str(input('enter the string input'))\n",
    "\n",
    "print(str)\n",
    "\n",
    "default_str=input()\n",
    "print(default_str)"
   ]
  },
  {
   "cell_type": "code",
   "execution_count": 16,
   "metadata": {},
   "outputs": [
    {
     "name": "stdout",
     "output_type": "stream",
     "text": [
      "56 23\n",
      "56\n",
      "23\n"
     ]
    }
   ],
   "source": [
    "# Python program showing how to\n",
    "# multiple input using split\n",
    "\n",
    "a=int(input('enter no'))\n",
    "b=int(input('enter no 2'))\n",
    "\n",
    "print(a,b)\n",
    "print(a)\n",
    "print(b)"
   ]
  },
  {
   "cell_type": "code",
   "execution_count": 27,
   "metadata": {},
   "outputs": [
    {
     "name": "stdout",
     "output_type": "stream",
     "text": [
      "first val is  56\n",
      "2nd val is  89\n"
     ]
    }
   ],
   "source": [
    "a,b=input('enter two values: ').split()\n",
    "print('first val is ',a)\n",
    "print('2nd val is ',b)"
   ]
  },
  {
   "cell_type": "code",
   "execution_count": 26,
   "metadata": {},
   "outputs": [
    {
     "name": "stdout",
     "output_type": "stream",
     "text": [
      "first val is  56\n",
      "2nd val is  89\n"
     ]
    }
   ],
   "source": [
    "a,b=input('enter two values: ').split(',')\n",
    "print('first val is ',a)\n",
    "print('2nd val is ',b)"
   ]
  },
  {
   "cell_type": "code",
   "execution_count": 1,
   "metadata": {},
   "outputs": [
    {
     "name": "stdout",
     "output_type": "stream",
     "text": [
      "Total number of students:  56\n",
      "Number of boys is :  56\n",
      "Number of girls is :  89\n"
     ]
    }
   ],
   "source": [
    "# taking three inputs at a time\n",
    "x, y, z = input(\"Enter three values: \").split()\n",
    "print(\"Total number of students: \", x)\n",
    "print(\"Number of boys is : \", y)\n",
    "print(\"Number of girls is : \", z)"
   ]
  },
  {
   "cell_type": "code",
   "execution_count": 31,
   "metadata": {},
   "outputs": [
    {
     "name": "stdout",
     "output_type": "stream",
     "text": [
      "First number is 89 and second number is 89.\n"
     ]
    }
   ],
   "source": [
    "# taking two inputs at a time\n",
    "a, b = input(\"Enter two values: \").split()\n",
    "print(\"First number is {} and second number is {}\".format(a, b))\n"
   ]
  },
  {
   "cell_type": "code",
   "execution_count": 35,
   "metadata": {},
   "outputs": [
    {
     "name": "stdout",
     "output_type": "stream",
     "text": [
      "List of students:  [89, 78, 45]\n"
     ]
    }
   ],
   "source": [
    "\n",
    "# taking multiple inputs at a time \n",
    "# and type casting using list() function\n",
    "x = list(map(int, input(\"Enter multiple values: \").split()))\n",
    "print(\"List of students: \", x)\n"
   ]
  },
  {
   "cell_type": "code",
   "execution_count": 36,
   "metadata": {},
   "outputs": [
    {
     "name": "stdout",
     "output_type": "stream",
     "text": [
      "your list is  [45, 89, 78, 56, 89]\n"
     ]
    }
   ],
   "source": [
    "a=list(map(int,input(' enter the number with , ').split(',') )) \n",
    "print('your list is ',a)"
   ]
  },
  {
   "cell_type": "code",
   "execution_count": null,
   "metadata": {},
   "outputs": [],
   "source": [
    "\n",
    "# Python program showing\n",
    "# how to take multiple input\n",
    "# using List comprehension\n",
    " "
   ]
  },
  {
   "cell_type": "code",
   "execution_count": 38,
   "metadata": {},
   "outputs": [
    {
     "name": "stdout",
     "output_type": "stream",
     "text": [
      "First Number is:  56\n",
      "Second Number is:  789\n"
     ]
    }
   ],
   "source": [
    "x, y = [int(x) for x in input(\"Enter two values: \").split()]\n",
    "print(\"First Number is: \", x)\n",
    "print(\"Second Number is: \", y)"
   ]
  },
  {
   "cell_type": "code",
   "execution_count": 39,
   "metadata": {},
   "outputs": [
    {
     "name": "stdout",
     "output_type": "stream",
     "text": [
      "First Number is:  56\n",
      "Second Number is:  89\n",
      "Third Number is:  89\n"
     ]
    }
   ],
   "source": [
    "x, y, z = [int(x) for x in input(\"Enter three values: \").split()]\n",
    "print(\"First Number is: \", x)\n",
    "print(\"Second Number is: \", y)\n",
    "print(\"Third Number is: \", z)"
   ]
  },
  {
   "cell_type": "code",
   "execution_count": 40,
   "metadata": {},
   "outputs": [
    {
     "name": "stdout",
     "output_type": "stream",
     "text": [
      "Hello, my name is Alice and I am 25, years old.\n"
     ]
    }
   ],
   "source": [
    "name = \"Alice\"\n",
    "age = 25\n",
    " \n",
    "print(f\"Hello, my name is {name} and I am {age}, years old.\")"
   ]
  },
  {
   "cell_type": "code",
   "execution_count": 41,
   "metadata": {},
   "outputs": [
    {
     "name": "stdout",
     "output_type": "stream",
     "text": [
      "12-12-2022\n"
     ]
    }
   ],
   "source": [
    "a=12\n",
    "b=12\n",
    "c=2022\n",
    "print(a,b,c,sep=\"-\")"
   ]
  },
  {
   "cell_type": "code",
   "execution_count": 44,
   "metadata": {},
   "outputs": [
    {
     "name": "stdout",
     "output_type": "stream",
     "text": [
      "10 - 20 - 30\n"
     ]
    }
   ],
   "source": [
    "\n",
    "\n",
    "print(10, 20, 30,sep=' - ')"
   ]
  },
  {
   "cell_type": "code",
   "execution_count": 48,
   "metadata": {},
   "outputs": [
    {
     "name": "stdout",
     "output_type": "stream",
     "text": [
      "geeks geeksforgeeks\n"
     ]
    }
   ],
   "source": [
    "print(\"geeks\", end =\" \")\n",
    "print(\"geeksforgeeks\")\n",
    " "
   ]
  },
  {
   "cell_type": "code",
   "execution_count": 51,
   "metadata": {},
   "outputs": [
    {
     "name": "stdout",
     "output_type": "stream",
     "text": [
      "[1, 2, 3, 4, 5, 6]\n",
      "1 2 3 4 5 6\n"
     ]
    }
   ],
   "source": [
    "\n",
    "# Print without newline in Python 3.x without using for loop\n",
    " \n",
    "l = [1, 2, 3, 4, 5, 6]\n",
    " \n",
    "# using * symbol prints the list\n",
    "# elements in a single line\n",
    "print(l)\n",
    "print(*l)"
   ]
  },
  {
   "cell_type": "code",
   "execution_count": 53,
   "metadata": {},
   "outputs": [
    {
     "name": "stdout",
     "output_type": "stream",
     "text": [
      " welcone to python  thanku for coming  "
     ]
    }
   ],
   "source": [
    "print(\" welcone to python \",end=' ')\n",
    "print('thanku for coming ',end=' ')"
   ]
  },
  {
   "cell_type": "code",
   "execution_count": 54,
   "metadata": {},
   "outputs": [
    {
     "name": "stdout",
     "output_type": "stream",
     "text": [
      "python@gmail.com\n"
     ]
    }
   ],
   "source": [
    "print(\"python\",end='@')\n",
    "print('gmail.com')"
   ]
  },
  {
   "cell_type": "code",
   "execution_count": 58,
   "metadata": {},
   "outputs": [
    {
     "name": "stdout",
     "output_type": "stream",
     "text": [
      "GFG\n"
     ]
    }
   ],
   "source": [
    "print('G','F', sep='', end='')\n",
    "print('G')"
   ]
  },
  {
   "cell_type": "code",
   "execution_count": 63,
   "metadata": {},
   "outputs": [
    {
     "name": "stdout",
     "output_type": "stream",
     "text": [
      "red_green_blue_@mail.com\n"
     ]
    }
   ],
   "source": [
    "print('red','green','blue' ,sep='_',end='_@')\n",
    "print('mail.com')"
   ]
  },
  {
   "cell_type": "code",
   "execution_count": null,
   "metadata": {},
   "outputs": [],
   "source": []
  },
  {
   "cell_type": "code",
   "execution_count": null,
   "metadata": {},
   "outputs": [],
   "source": []
  },
  {
   "cell_type": "code",
   "execution_count": null,
   "metadata": {},
   "outputs": [],
   "source": []
  },
  {
   "cell_type": "code",
   "execution_count": null,
   "metadata": {},
   "outputs": [],
   "source": []
  },
  {
   "cell_type": "code",
   "execution_count": null,
   "metadata": {},
   "outputs": [],
   "source": []
  },
  {
   "cell_type": "code",
   "execution_count": null,
   "metadata": {},
   "outputs": [],
   "source": []
  },
  {
   "cell_type": "code",
   "execution_count": null,
   "metadata": {},
   "outputs": [],
   "source": []
  },
  {
   "cell_type": "code",
   "execution_count": null,
   "metadata": {},
   "outputs": [],
   "source": []
  },
  {
   "cell_type": "code",
   "execution_count": null,
   "metadata": {},
   "outputs": [],
   "source": []
  },
  {
   "cell_type": "code",
   "execution_count": null,
   "metadata": {},
   "outputs": [],
   "source": []
  },
  {
   "cell_type": "code",
   "execution_count": null,
   "metadata": {},
   "outputs": [],
   "source": []
  }
 ],
 "metadata": {
  "kernelspec": {
   "display_name": "Python 3",
   "language": "python",
   "name": "python3"
  },
  "language_info": {
   "codemirror_mode": {
    "name": "ipython",
    "version": 3
   },
   "file_extension": ".py",
   "mimetype": "text/x-python",
   "name": "python",
   "nbconvert_exporter": "python",
   "pygments_lexer": "ipython3",
   "version": "3.10.6"
  }
 },
 "nbformat": 4,
 "nbformat_minor": 2
}
