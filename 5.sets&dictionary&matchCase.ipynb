{
 "cells": [
  {
   "cell_type": "markdown",
   "metadata": {},
   "source": [
    "### sets\n"
   ]
  },
  {
   "cell_type": "code",
   "execution_count": null,
   "metadata": {},
   "outputs": [],
   "source": [
    "# Duplicate values will be ignored:\n",
    "\n",
    "# Sets are unordered, so you cannot be sure in which order the items will appear."
   ]
  },
  {
   "cell_type": "code",
   "execution_count": 2,
   "metadata": {},
   "outputs": [
    {
     "name": "stdout",
     "output_type": "stream",
     "text": [
      "{'ram', 'ajay', 'sham'}\n",
      "<class 'set'>\n",
      "{'ram'}\n",
      "{1, 2, 3, 4, 5, 6, 7, 8, 9}\n"
     ]
    }
   ],
   "source": [
    "set ={'ram','sham','ajay','ram'}   #<-- \n",
    "print(set) \n",
    "print(type(set)) \n",
    "\n",
    "\n",
    "set1={'ram',\"ram\",\"ram\",\"ram\"}\n",
    "print(set1) \n",
    "\n",
    "\n",
    "set2={3,1,2,4,5,6,9,8,7,9,9,9,9,9,9,9,9,}\n",
    "print(set2)"
   ]
  },
  {
   "cell_type": "code",
   "execution_count": 1,
   "metadata": {},
   "outputs": [
    {
     "name": "stdout",
     "output_type": "stream",
     "text": [
      "{True, 2, 'banana', 'apple', 'cherry'}\n"
     ]
    }
   ],
   "source": [
    "\n",
    "# The values True and 1 are considered the same value in sets, and are treated as duplicates\n",
    "thisset = {\"apple\", \"banana\", \"cherry\", True, 1, 2}\n",
    "\n",
    "print(thisset)"
   ]
  },
  {
   "cell_type": "code",
   "execution_count": 2,
   "metadata": {},
   "outputs": [
    {
     "name": "stdout",
     "output_type": "stream",
     "text": [
      "{False, True, 'banana', 'apple', 'cherry'}\n"
     ]
    }
   ],
   "source": [
    "#  The values False and 0 are considered the same value in sets, and are treated as duplicates:\n",
    "\n",
    "thisset = {\"apple\", \"banana\", \"cherry\", False, True, 0}\n",
    "\n",
    "print(thisset)"
   ]
  },
  {
   "cell_type": "code",
   "execution_count": 3,
   "metadata": {},
   "outputs": [],
   "source": [
    "set1 = {\"abc\", 34, True, 40, \"male\"}"
   ]
  },
  {
   "cell_type": "code",
   "execution_count": 4,
   "metadata": {},
   "outputs": [
    {
     "name": "stdout",
     "output_type": "stream",
     "text": [
      "apple\n",
      "banana\n",
      "cherry\n"
     ]
    }
   ],
   "source": [
    "thisset = {\"apple\", \"banana\", \"cherry\"}\n",
    "\n",
    "for x in thisset:\n",
    "  print(x)"
   ]
  },
  {
   "cell_type": "code",
   "execution_count": 5,
   "metadata": {},
   "outputs": [
    {
     "ename": "TypeError",
     "evalue": "'set' object is not subscriptable",
     "output_type": "error",
     "traceback": [
      "\u001b[1;31m---------------------------------------------------------------------------\u001b[0m",
      "\u001b[1;31mTypeError\u001b[0m                                 Traceback (most recent call last)",
      "Cell \u001b[1;32mIn[5], line 9\u001b[0m\n\u001b[0;32m      6\u001b[0m thisset \u001b[38;5;241m=\u001b[39m {\u001b[38;5;124m\"\u001b[39m\u001b[38;5;124mapple\u001b[39m\u001b[38;5;124m\"\u001b[39m, \u001b[38;5;124m\"\u001b[39m\u001b[38;5;124mbanana\u001b[39m\u001b[38;5;124m\"\u001b[39m, \u001b[38;5;124m\"\u001b[39m\u001b[38;5;124mcherry\u001b[39m\u001b[38;5;124m\"\u001b[39m} \n\u001b[0;32m      8\u001b[0m \u001b[38;5;28;01mfor\u001b[39;00m i \u001b[38;5;129;01min\u001b[39;00m \u001b[38;5;28mrange\u001b[39m(\u001b[38;5;28mlen\u001b[39m(thisset)):\n\u001b[1;32m----> 9\u001b[0m     \u001b[38;5;28mprint\u001b[39m(\u001b[43mthisset\u001b[49m\u001b[43m[\u001b[49m\u001b[43mi\u001b[49m\u001b[43m]\u001b[49m)\n",
      "\u001b[1;31mTypeError\u001b[0m: 'set' object is not subscriptable"
     ]
    }
   ],
   "source": [
    "''' , sets are unordered collections of unique elements, \n",
    "and you cannot access elements in a set using indexing (like you would with a list or tuple).\n",
    "Sets do not support indexing because they are not ordered\n",
    ", and the elements are not stored in a specific order. '''\n",
    "\n",
    "thisset = {\"apple\", \"banana\", \"cherry\"} \n",
    "\n",
    "for i in range(len(thisset)):\n",
    "    print(thisset[i])"
   ]
  },
  {
   "cell_type": "code",
   "execution_count": 10,
   "metadata": {},
   "outputs": [
    {
     "name": "stdout",
     "output_type": "stream",
     "text": [
      "True\n"
     ]
    }
   ],
   "source": [
    "thisset = {\"apple\", \"banana\", \"cherry\"}\n",
    "\n",
    "print(\"banana\" in thisset)"
   ]
  },
  {
   "cell_type": "code",
   "execution_count": 6,
   "metadata": {},
   "outputs": [
    {
     "name": "stdout",
     "output_type": "stream",
     "text": [
      "{'Honda', 'Kawasaki', 'Suzuki', 'Ducati', 'Yamaha', 'Bullet', 'Harley Davidson'}\n"
     ]
    }
   ],
   "source": [
    "bike = {\"Harley Davidson\", \"Honda\", \"Yamaha\", \"Ducati\", \"Kawasaki\", \"Suzuki\",\"Honda\"} \n",
    "\n",
    "bike.add(\"Bullet\") \n",
    "print(bike)\n",
    "\n",
    "\n",
    "# set are unorder an it do not allow duplcate "
   ]
  },
  {
   "cell_type": "code",
   "execution_count": 14,
   "metadata": {},
   "outputs": [
    {
     "name": "stdout",
     "output_type": "stream",
     "text": [
      "{'pineapple', 'apple', 'banana', 'papaya', 'mango', 'cherry'}\n"
     ]
    }
   ],
   "source": [
    "thisset = {\"apple\", \"banana\", \"cherry\"}\n",
    "tropical = {\"pineapple\", \"mango\", \"papaya\"} \n",
    "\n",
    "thisset.update(tropical) \n",
    "print(thisset)"
   ]
  },
  {
   "cell_type": "code",
   "execution_count": 6,
   "metadata": {},
   "outputs": [
    {
     "name": "stdout",
     "output_type": "stream",
     "text": [
      "{'banana', 'orange', 'apple', 'cherry', 'kiwi'}\n"
     ]
    }
   ],
   "source": [
    "# Add elements of a list to at set:\n",
    "\n",
    "thisset = {\"apple\", \"banana\", \"cherry\"}\n",
    "mylist = [\"kiwi\", \"orange\",\"apple\"]\n",
    "\n",
    "thisset.update(mylist)\n",
    "print(thisset)"
   ]
  },
  {
   "cell_type": "code",
   "execution_count": 18,
   "metadata": {},
   "outputs": [
    {
     "name": "stdout",
     "output_type": "stream",
     "text": [
      "{'cherry', 'apple'}\n"
     ]
    }
   ],
   "source": [
    "thisset = {\"apple\", \"bike\", \"cherry\"}\n",
    "\n",
    "thisset.remove(\"bike\")\n",
    "\n",
    "print(thisset)"
   ]
  },
  {
   "cell_type": "code",
   "execution_count": 8,
   "metadata": {},
   "outputs": [
    {
     "name": "stdout",
     "output_type": "stream",
     "text": [
      "<class 'tuple'>\n"
     ]
    },
    {
     "ename": "AttributeError",
     "evalue": "'tuple' object has no attribute 'remove'",
     "output_type": "error",
     "traceback": [
      "\u001b[1;31m---------------------------------------------------------------------------\u001b[0m",
      "\u001b[1;31mAttributeError\u001b[0m                            Traceback (most recent call last)",
      "\u001b[1;32me:\\Python\\5.sets&dictionary&matchCase.ipynb Cell 14\u001b[0m line \u001b[0;36m5\n\u001b[0;32m      <a href='vscode-notebook-cell:/e%3A/Python/5.sets%26dictionary%26matchCase.ipynb#Y112sZmlsZQ%3D%3D?line=0'>1</a>\u001b[0m thisset \u001b[39m=\u001b[39m (\u001b[39m\"\u001b[39m\u001b[39mapple\u001b[39m\u001b[39m\"\u001b[39m, \u001b[39m\"\u001b[39m\u001b[39mbike\u001b[39m\u001b[39m\"\u001b[39m, \u001b[39m\"\u001b[39m\u001b[39mcherry\u001b[39m\u001b[39m\"\u001b[39m)   \u001b[39m# <-- check tuple are immutable  \u001b[39;00m\n\u001b[0;32m      <a href='vscode-notebook-cell:/e%3A/Python/5.sets%26dictionary%26matchCase.ipynb#Y112sZmlsZQ%3D%3D?line=2'>3</a>\u001b[0m \u001b[39mprint\u001b[39m(\u001b[39mtype\u001b[39m(thisset))\n\u001b[1;32m----> <a href='vscode-notebook-cell:/e%3A/Python/5.sets%26dictionary%26matchCase.ipynb#Y112sZmlsZQ%3D%3D?line=4'>5</a>\u001b[0m thisset\u001b[39m.\u001b[39;49mremove(\u001b[39m\"\u001b[39m\u001b[39mbike\u001b[39m\u001b[39m\"\u001b[39m)\n\u001b[0;32m      <a href='vscode-notebook-cell:/e%3A/Python/5.sets%26dictionary%26matchCase.ipynb#Y112sZmlsZQ%3D%3D?line=6'>7</a>\u001b[0m \u001b[39mprint\u001b[39m(thisset)\n",
      "\u001b[1;31mAttributeError\u001b[0m: 'tuple' object has no attribute 'remove'"
     ]
    }
   ],
   "source": [
    "thisset = (\"apple\", \"bike\", \"cherry\")   # <-- check tuple are immutable  \n",
    "\n",
    "print(type(thisset))\n",
    "\n",
    "thisset.remove(\"bike\")\n",
    "\n",
    "print(thisset)"
   ]
  },
  {
   "cell_type": "code",
   "execution_count": 7,
   "metadata": {},
   "outputs": [
    {
     "name": "stdout",
     "output_type": "stream",
     "text": [
      "set()\n"
     ]
    }
   ],
   "source": [
    "thisset = {\"apple\", \"banana\", \"cherry\"}\n",
    "\n",
    "thisset.clear()\n",
    "\n",
    "print(thisset)"
   ]
  },
  {
   "cell_type": "code",
   "execution_count": 8,
   "metadata": {},
   "outputs": [],
   "source": [
    "thisset = {\"apple\", \"banana\", \"cherry\"}\n",
    "del thisset"
   ]
  },
  {
   "cell_type": "code",
   "execution_count": 9,
   "metadata": {},
   "outputs": [
    {
     "data": {
      "text/plain": [
       "{1, 2, 3, 'a', 'b', 'c'}"
      ]
     },
     "execution_count": 9,
     "metadata": {},
     "output_type": "execute_result"
    }
   ],
   "source": [
    "set1 = {\"a\", \"b\" , \"c\"}\n",
    "set2 = {1, 2, 3} \n",
    "\n",
    "set1.union(set2)"
   ]
  },
  {
   "cell_type": "code",
   "execution_count": 23,
   "metadata": {},
   "outputs": [
    {
     "name": "stdout",
     "output_type": "stream",
     "text": [
      "{1, 2, 897, 'a', 365, 'c', 'b'}\n"
     ]
    }
   ],
   "source": [
    "set1 = {\"a\", \"b\" , \"c\"}\n",
    "set2 = {1, 2, 365,897}\n",
    "\n",
    "set1.update(set2)\n",
    "print(set1)  # set is unordered "
   ]
  },
  {
   "cell_type": "code",
   "execution_count": 11,
   "metadata": {},
   "outputs": [
    {
     "name": "stdout",
     "output_type": "stream",
     "text": [
      "<class 'set'>\n",
      "{65, 1, 33, 456, 78, 2354, 22, 23, 87, 56}\n",
      "65\n",
      "None\n",
      "{1, 33, 456, 78, 22, 23, 87, 56}\n",
      "{56, 1, 22}\n",
      "{1, 33, 66, 99, 456, 44, 78, 22, 23, 87, 56}\n",
      "True\n",
      "{1, 33, 456, 78, 22, 23, 87, 56}\n"
     ]
    }
   ],
   "source": [
    "#set \n",
    "# set is mutable but  it not allowed repetation / dublicate \n",
    "\n",
    "set={23,56,78,87,65,2354,2354,456,33,33,87,87,78,1,1,22}\n",
    "\n",
    "set2={1,56,99,66,44,22,22}\n",
    "\n",
    "print(type(set)) \n",
    "print(set)\n",
    "\n",
    "print(set.pop())\n",
    "print(set.remove(2354))\n",
    "print(set)\n",
    "\n",
    "print(set.intersection(set2))  #56,1 ,22 ,it will give you op that common between both set \n",
    "\n",
    "print(set.union(set2))   # it will give you all value in both set \n",
    "\n",
    "print(set.__contains__(456))\n",
    "print(set)"
   ]
  },
  {
   "cell_type": "markdown",
   "metadata": {},
   "source": [
    "## Dictionary"
   ]
  },
  {
   "cell_type": "code",
   "execution_count": 12,
   "metadata": {},
   "outputs": [
    {
     "data": {
      "text/plain": [
       "dict"
      ]
     },
     "execution_count": 12,
     "metadata": {},
     "output_type": "execute_result"
    }
   ],
   "source": [
    "# Not alow duplicate members.\n",
    "\n",
    "a={}\n",
    "type(a)  "
   ]
  },
  {
   "cell_type": "code",
   "execution_count": 13,
   "metadata": {},
   "outputs": [
    {
     "name": "stdout",
     "output_type": "stream",
     "text": [
      "{'mh': 'mubai', 'DL': 'Delhi', 'kn': 'banglore', 'gj': 'gandhinagr'}\n",
      "<class 'dict'>\n",
      "{'jay': 90, 'akashh': 91, 'akansha': 78, 'om': 56}\n",
      "<class 'dict'>\n"
     ]
    }
   ],
   "source": [
    "city={\"mh\":\"mubai\",\"DL\":\"Delhi\",\"kn\":\"banglore\",\"gj\":\"gandhinagr\"} \n",
    "print(city)\n",
    "print(type(city))      \n",
    "\n",
    "\n",
    "marks={\"jay\":90,\"akashh\":91,\"akansha\":78,\"om\":56}\n",
    "print(marks)\n",
    "print(type(marks))"
   ]
  },
  {
   "cell_type": "code",
   "execution_count": 14,
   "metadata": {},
   "outputs": [
    {
     "name": "stdout",
     "output_type": "stream",
     "text": [
      "<class 'dict'>\n",
      "mubai\n"
     ]
    }
   ],
   "source": [
    "city={\"mh\":\"mubai\",\"DL\":\"Delhi\",\"kn\":\"banglore\",\"gujrat\":\"gandhinagr\"} \n",
    "# print(city)\n",
    "print(type(city)) \n",
    "\n",
    "print(city[\"mh\"])  \n",
    "\n"
   ]
  },
  {
   "cell_type": "code",
   "execution_count": 15,
   "metadata": {},
   "outputs": [
    {
     "name": "stdout",
     "output_type": "stream",
     "text": [
      "{'mh': 'mubai', 'DL': 'Delhi', 'kn': 'banglore', 'gujrat': 'gandhinagr'}\n",
      "{'mh': 'mubai', 'DL': 'Delhi', 'kn': 'banglore', 'gujrat': 'gandhinagr', 'up': 'lucknow'}\n"
     ]
    }
   ],
   "source": [
    "city={\"mh\":\"mubai\",\"DL\":\"Delhi\",\"kn\":\"banglore\",\"gujrat\":\"gandhinagr\"}  \n",
    "print(city) \n",
    "\n",
    "city[\"up\"]='lucknow' \n",
    "print(city)"
   ]
  },
  {
   "cell_type": "code",
   "execution_count": 16,
   "metadata": {},
   "outputs": [
    {
     "name": "stdout",
     "output_type": "stream",
     "text": [
      "{'jay': 90, 'akashh': 91, 'akansha': 78, 'om': 56, 'snehal': 98}\n",
      "98\n"
     ]
    }
   ],
   "source": [
    "marks={\"jay\":90,\"akashh\":91,\"akansha\":78,\"om\":56} \n",
    "marks[\"snehal\"]=98 \n",
    "\n",
    "print(marks) \n",
    "print(marks[\"snehal\"])"
   ]
  },
  {
   "cell_type": "code",
   "execution_count": 19,
   "metadata": {},
   "outputs": [
    {
     "name": "stdout",
     "output_type": "stream",
     "text": [
      "90\n",
      "None\n"
     ]
    }
   ],
   "source": [
    "print(marks.get(\"jay\") )\n",
    "\n",
    "print(marks.get(\"jayraj \"))  #<<-- it will not give you error "
   ]
  },
  {
   "cell_type": "code",
   "execution_count": 20,
   "metadata": {},
   "outputs": [
    {
     "ename": "KeyError",
     "evalue": "'jayraj '",
     "output_type": "error",
     "traceback": [
      "\u001b[1;31m---------------------------------------------------------------------------\u001b[0m",
      "\u001b[1;31mKeyError\u001b[0m                                  Traceback (most recent call last)",
      "Cell \u001b[1;32mIn[20], line 1\u001b[0m\n\u001b[1;32m----> 1\u001b[0m \u001b[38;5;28mprint\u001b[39m(\u001b[43mmarks\u001b[49m\u001b[43m[\u001b[49m\u001b[38;5;124;43m\"\u001b[39;49m\u001b[38;5;124;43mjayraj \u001b[39;49m\u001b[38;5;124;43m\"\u001b[39;49m\u001b[43m]\u001b[49m) \n",
      "\u001b[1;31mKeyError\u001b[0m: 'jayraj '"
     ]
    }
   ],
   "source": [
    "print(marks[\"jayraj \"]) "
   ]
  },
  {
   "cell_type": "code",
   "execution_count": 25,
   "metadata": {},
   "outputs": [
    {
     "name": "stdout",
     "output_type": "stream",
     "text": [
      "dict_keys(['jay', 'akashh', 'akansha', 'om', 'snehal'])\n",
      "dict_values([90, 91, 78, 56, 98])\n"
     ]
    }
   ],
   "source": [
    "print(marks.keys())   # it will give you all keys\n",
    "print(marks.values())  # it will give you all val "
   ]
  },
  {
   "cell_type": "code",
   "execution_count": 26,
   "metadata": {},
   "outputs": [
    {
     "name": "stdout",
     "output_type": "stream",
     "text": [
      "dict_items([('jay', 90), ('akashh', 91), ('akansha', 78), ('om', 56), ('snehal', 98)])\n"
     ]
    }
   ],
   "source": [
    "print(marks.items())   # <<-- it will give all separate keys and val in one tuple "
   ]
  },
  {
   "cell_type": "code",
   "execution_count": 21,
   "metadata": {},
   "outputs": [
    {
     "name": "stdout",
     "output_type": "stream",
     "text": [
      "{'brand': 'Ford', 'model': 'Mustang', 'year': 1964}\n",
      "Ford\n"
     ]
    }
   ],
   "source": [
    "thisdict = {\n",
    "  \"brand\": \"Ford\",\n",
    "  \"model\": \"Mustang\",\n",
    "  \"year\": 1964 ,\n",
    "   \"year\": 1964,\n",
    "   \"model\": \"Mustang\"        # check dicionary dont allow repetation \n",
    "} \n",
    "\n",
    "print(thisdict) \n",
    "print(thisdict[\"brand\"]) "
   ]
  },
  {
   "cell_type": "code",
   "execution_count": 23,
   "metadata": {},
   "outputs": [
    {
     "name": "stdout",
     "output_type": "stream",
     "text": [
      "{'brand': 'Ford', 'model': 'Mustang', 'year': 2024}\n"
     ]
    }
   ],
   "source": [
    "thisdict = {\n",
    "  \"brand\": \"Ford\",\n",
    "  \"model\": \"Mustang\",\n",
    "  \"year\": 1964,\n",
    "  \"year\": 2022,\n",
    "  \"year\":2024      # duplicate val will overwrite existing val \n",
    "}\n",
    "print(thisdict)"
   ]
  },
  {
   "cell_type": "code",
   "execution_count": 24,
   "metadata": {},
   "outputs": [
    {
     "name": "stdout",
     "output_type": "stream",
     "text": [
      "{'brand': 'cheverlet', 'model': 'camero'}\n"
     ]
    }
   ],
   "source": [
    "thisdict = {\n",
    "  \"brand\": \"Ford\",\n",
    "  \"model\": \"Mustang\",\n",
    "  \"brand\":\"cheverlet\",\n",
    "  \"model\": \"camero\"  # duplicate val will overwrite existing val \n",
    "}\n",
    "print(thisdict)"
   ]
  },
  {
   "cell_type": "code",
   "execution_count": 25,
   "metadata": {},
   "outputs": [
    {
     "name": "stdout",
     "output_type": "stream",
     "text": [
      "2\n"
     ]
    }
   ],
   "source": [
    "print(len(thisdict))"
   ]
  },
  {
   "cell_type": "code",
   "execution_count": 27,
   "metadata": {},
   "outputs": [
    {
     "name": "stdout",
     "output_type": "stream",
     "text": [
      "['red', 'white', 'blue']\n",
      "red\n"
     ]
    }
   ],
   "source": [
    "thisdict = {\n",
    "  \"brand\": \"Ford\",\n",
    "  \"electric\": False,\n",
    "  \"year\": 1964,\n",
    "  \"colors\": [\"red\", \"white\", \"blue\"]\n",
    "} \n",
    "\n",
    "print(thisdict[\"colors\"]) \n",
    "print(thisdict[\"colors\"][0]) "
   ]
  },
  {
   "cell_type": "code",
   "execution_count": 47,
   "metadata": {},
   "outputs": [
    {
     "name": "stdout",
     "output_type": "stream",
     "text": [
      "{'name': 'John', 'age': 36, 'country': 'Norway'}\n"
     ]
    }
   ],
   "source": [
    "thisdict = dict(name = \"John\", \n",
    "                age = 36, \n",
    "                country = \"Norway\")\n",
    "print(thisdict)"
   ]
  },
  {
   "cell_type": "code",
   "execution_count": 29,
   "metadata": {},
   "outputs": [
    {
     "name": "stdout",
     "output_type": "stream",
     "text": [
      "dict_keys(['brand', 'model', 'year'])\n",
      "dict_keys(['brand', 'model', 'year', 'color', 'average'])\n",
      "dict_values(['Ford', 'Mustang', 1964, 'white', 21])\n"
     ]
    }
   ],
   "source": [
    "car = {\n",
    "\"brand\": \"Ford\",\n",
    "\"model\": \"Mustang\",\n",
    "\"year\": 1964\n",
    "}\n",
    "\n",
    "x = car.keys()\n",
    "\n",
    "print(x) #before the change\n",
    "\n",
    "car[\"color\"] = \"white\" \n",
    "car[\"average\"]=21\n",
    "\n",
    "print(x) #after the change \n",
    "\n",
    "y= car.values() \n",
    "print(y)"
   ]
  },
  {
   "cell_type": "code",
   "execution_count": 55,
   "metadata": {},
   "outputs": [
    {
     "name": "stdout",
     "output_type": "stream",
     "text": [
      "yes\n"
     ]
    }
   ],
   "source": [
    "car = {\n",
    "\"brand\": \"Ford\",\n",
    "\"model\": \"Mustang\",\n",
    "\"year\": 1964\n",
    "}\n",
    "\n",
    "if \"brand\" in car :\n",
    "    print(\"yes\")"
   ]
  },
  {
   "cell_type": "code",
   "execution_count": 30,
   "metadata": {},
   "outputs": [
    {
     "name": "stdout",
     "output_type": "stream",
     "text": [
      "{'brand': 'Ford', 'model': 'mahindra', 'year': 1964}\n"
     ]
    }
   ],
   "source": [
    "# chanage items \n",
    "car = {\n",
    "\"brand\": \"Ford\",\n",
    "\"model\": \"Mustang\",\n",
    "\"year\": 1964\n",
    "} \n",
    "\n",
    "car[\"model\"]=\"mahindra\" \n",
    "\n",
    "print(car)"
   ]
  },
  {
   "cell_type": "code",
   "execution_count": 60,
   "metadata": {},
   "outputs": [],
   "source": [
    "car.update({\"year\":2035})"
   ]
  },
  {
   "cell_type": "code",
   "execution_count": 61,
   "metadata": {},
   "outputs": [
    {
     "name": "stdout",
     "output_type": "stream",
     "text": [
      "{'brand': 'Ford', 'model': 'Mustang', 'year': 1964, 'city': 'mumbai'}\n"
     ]
    }
   ],
   "source": [
    "#add item\n",
    "\n",
    "car = {\n",
    "\"brand\": \"Ford\",\n",
    "\"model\": \"Mustang\",\n",
    "\"year\": 1964\n",
    "}  \n",
    "\n",
    "car[\"city\"]=\"mumbai\"\n",
    "print(car)"
   ]
  },
  {
   "cell_type": "code",
   "execution_count": 34,
   "metadata": {},
   "outputs": [
    {
     "name": "stdout",
     "output_type": "stream",
     "text": [
      "{'brand': 'Ford', 'model': 'Mustang', 'year': 1964, 'city': 'mumbai', 'color': 'red'}\n",
      "brand\n",
      "model\n",
      "year\n",
      "city\n",
      "color\n"
     ]
    }
   ],
   "source": [
    "car = {\n",
    "\"brand\": \"Ford\",\n",
    "\"model\": \"Mustang\",\n",
    "\"year\": 1964\n",
    "}  \n",
    "\n",
    "car[\"city\"]=\"mumbai\"\n",
    "car.update({'color':\"red\"})\n",
    "print(car) \n",
    "\n",
    "for i in car.keys():\n",
    "    print(i)"
   ]
  },
  {
   "cell_type": "code",
   "execution_count": 67,
   "metadata": {},
   "outputs": [
    {
     "name": "stdout",
     "output_type": "stream",
     "text": [
      "('brand', 'Ford')\n",
      "('model', 'Mustang')\n",
      "('year', 1964)\n",
      "('city', 'mumbai')\n",
      "('color', 'red')\n"
     ]
    }
   ],
   "source": [
    "for i in car.items() :\n",
    "    print(i)"
   ]
  },
  {
   "cell_type": "code",
   "execution_count": 35,
   "metadata": {},
   "outputs": [
    {
     "name": "stdout",
     "output_type": "stream",
     "text": [
      "{'brand': 'Ford', 'year': 1964, 'city': 'mumbai', 'color': 'red'}\n"
     ]
    }
   ],
   "source": [
    "car.pop(\"model\")\n",
    "print(car)"
   ]
  },
  {
   "cell_type": "code",
   "execution_count": 36,
   "metadata": {},
   "outputs": [
    {
     "name": "stdout",
     "output_type": "stream",
     "text": [
      "{'brand': 'Ford', 'year': 1964, 'city': 'mumbai'}\n"
     ]
    }
   ],
   "source": [
    "del car[\"color\"]\n",
    "print(car)\n"
   ]
  },
  {
   "cell_type": "code",
   "execution_count": 73,
   "metadata": {},
   "outputs": [],
   "source": [
    "car.clear()  # it will delete whole dictionary "
   ]
  },
  {
   "cell_type": "code",
   "execution_count": null,
   "metadata": {},
   "outputs": [],
   "source": [
    "# loop is disctionary "
   ]
  },
  {
   "cell_type": "code",
   "execution_count": 75,
   "metadata": {},
   "outputs": [
    {
     "name": "stdout",
     "output_type": "stream",
     "text": [
      "dict_items([('brand', 'Ford'), ('model', 'Mustang'), ('year', 1964), ('city', 'mumbai'), ('color', 'red')])\n",
      "dict_keys(['brand', 'model', 'year', 'city', 'color'])\n",
      "dict_values(['Ford', 'Mustang', 1964, 'mumbai', 'red'])\n"
     ]
    }
   ],
   "source": [
    "print(car.items())\n",
    "print(car.keys())\n",
    "print(car.values())"
   ]
  },
  {
   "cell_type": "code",
   "execution_count": 77,
   "metadata": {},
   "outputs": [
    {
     "name": "stdout",
     "output_type": "stream",
     "text": [
      "{'brand': 'Ford', 'model': 'Mustang', 'year': 1964, 'city': 'mumbai', 'color': 'red'}\n"
     ]
    }
   ],
   "source": [
    "car_analysis=car.copy() \n",
    "print(car_analysis)"
   ]
  },
  {
   "cell_type": "code",
   "execution_count": 79,
   "metadata": {},
   "outputs": [
    {
     "name": "stdout",
     "output_type": "stream",
     "text": [
      "{'brand': 'Ford', 'model': 'Mustang', 'year': 1964, 'city': 'mumbai', 'color': 'red'}\n"
     ]
    }
   ],
   "source": [
    "car_info=dict(car) \n",
    "print(car_info)"
   ]
  },
  {
   "cell_type": "code",
   "execution_count": 37,
   "metadata": {},
   "outputs": [],
   "source": [
    "# Create a dictionary that contain three dictionaries:\n",
    "\n",
    "\n",
    "family = {\n",
    "  \"child1\" : {\"name\" : \"Emil\",\"year\" : 2004 },\n",
    "  \"child2\" : {\"name\" : \"Tobias\", \"year\" : 2007},\n",
    "  \"child3\" : {\"name\" : \"Linus\",\"year\" : 2011}\n",
    "}"
   ]
  },
  {
   "cell_type": "code",
   "execution_count": 39,
   "metadata": {},
   "outputs": [
    {
     "name": "stdout",
     "output_type": "stream",
     "text": [
      "{'car1': {'name': 'scorpio', 'color': 'white', 'avg': 11}, 'car2': {'name': 'baleno', 'color': 'red', 'avg': 19}, 'car3': {'name': 'defender', 'color': 'black', 'avg': 7}}\n",
      "{'name': 'scorpio', 'color': 'white', 'avg': 11}\n",
      "{'name': 'baleno', 'color': 'red', 'avg': 19}\n",
      "{'name': 'defender', 'color': 'black', 'avg': 7}\n"
     ]
    }
   ],
   "source": [
    "cars= {\n",
    "    \"car1\":{\"name\":\"scorpio\",\"color\":\"white\",\"avg\":11} ,\n",
    "    \"car2\":{\"name\":\"baleno\",\"color\":\"red\",\"avg\":19}  ,\n",
    "    \"car3\":{\"name\":\"defender\",\"color\":\"black\",\"avg\":7}     \n",
    "} \n",
    "print(cars) \n",
    "\n",
    "#or \n",
    "\n",
    "for i in cars.values():\n",
    "    print(i)\n"
   ]
  },
  {
   "cell_type": "code",
   "execution_count": 48,
   "metadata": {},
   "outputs": [
    {
     "name": "stdout",
     "output_type": "stream",
     "text": [
      "{'car1': {'name': 'scorpio', 'color': 'white', 'avg': 11}, 'car2': {'name': 'baleno', 'color': 'red', 'avg': 19}, 'car3': {'name': 'defender', 'color': 'black', 'avg': 7}}\n"
     ]
    }
   ],
   "source": [
    "# Create three dictionaries, then create one dictionary that will contain the other three dictionaries:\n",
    "\n",
    "car1={\"name\":\"scorpio\",\"color\":\"white\",\"avg\":11} \n",
    "car2={\"name\":\"baleno\",\"color\":\"red\",\"avg\":19}  \n",
    "car3={\"name\":\"defender\",\"color\":\"black\",\"avg\":7}    \n",
    " \n",
    " \n",
    "cars={\"car1\":car1 ,\n",
    "      \"car2\":car2 ,\n",
    "      \"car3\":car3 } \n",
    "\n",
    "\n",
    "\n",
    "print(cars) \n",
    "\n",
    "# for i in cars:\n",
    "#       print(i)\n",
    "\n",
    "# for i in cars.values():\n",
    "#       print(i)\n",
    "\n"
   ]
  },
  {
   "cell_type": "code",
   "execution_count": 106,
   "metadata": {},
   "outputs": [
    {
     "name": "stdout",
     "output_type": "stream",
     "text": [
      "scorpio\n",
      "11\n",
      "baleno\n",
      "black\n"
     ]
    }
   ],
   "source": [
    "print(cars[\"car1\"][\"name\"] )\n",
    "print(cars[\"car1\"][\"avg\"] )\n",
    "print(cars[\"car2\"][\"name\"] )\n",
    "print(cars[\"car3\"][\"color\"] )"
   ]
  },
  {
   "cell_type": "code",
   "execution_count": 99,
   "metadata": {},
   "outputs": [
    {
     "name": "stdout",
     "output_type": "stream",
     "text": [
      "{'child1': {'name': 'Emil', 'year': 2004}, 'child2': {'name': 'Tobias', 'year': 2007}, 'child3': {'name': 'Linus', 'year': 2011}}\n"
     ]
    }
   ],
   "source": [
    "child1 = {\n",
    "  \"name\" : \"Emil\",\n",
    "  \"year\" : 2004\n",
    "}\n",
    "child2 = {\n",
    "  \"name\" : \"Tobias\",\n",
    "  \"year\" : 2007\n",
    "}\n",
    "child3 = {\n",
    "  \"name\" : \"Linus\",\n",
    "  \"year\" : 2011\n",
    "}\n",
    "\n",
    "myfamily = {\n",
    "  \"child1\" : child1,\n",
    "  \"child2\" : child2,\n",
    "  \"child3\" : child3\n",
    "} \n",
    "\n",
    "print(myfamily)"
   ]
  },
  {
   "cell_type": "code",
   "execution_count": null,
   "metadata": {},
   "outputs": [],
   "source": []
  },
  {
   "cell_type": "markdown",
   "metadata": {},
   "source": [
    "#### Match Case"
   ]
  },
  {
   "cell_type": "code",
   "execution_count": 41,
   "metadata": {},
   "outputs": [
    {
     "name": "stdout",
     "output_type": "stream",
     "text": [
      "One\n"
     ]
    }
   ],
   "source": [
    "def check_no(a):\n",
    "    \n",
    "    match a:\n",
    "        \n",
    "        case 0:\n",
    "            print(\"Zero\")\n",
    "        case 1:\n",
    "            print(\"One\")\n",
    "        case _:\n",
    "            print(\"Other\") \n",
    "    \n",
    "    \n",
    "    \n",
    "\n",
    "num=int(input(\"enter the input \"))\n",
    "\n",
    "check_no(num)"
   ]
  },
  {
   "cell_type": "code",
   "execution_count": 49,
   "metadata": {},
   "outputs": [
    {
     "name": "stdout",
     "output_type": "stream",
     "text": [
      " you are inside my function  of case 5 \n",
      " 1st word narendra  and 2nd word modi is :narendra  modi \n"
     ]
    }
   ],
   "source": [
    "a = int(input(\" enter a number to match : \")) \n",
    "\n",
    "match a : \n",
    "    \n",
    "    case 1 :\n",
    "        print(\"you are in match case of case no 1 \\nwhich print 1 to 10\")  \n",
    "        for i in range(1,11) :\n",
    "            print(i)\n",
    "        \n",
    "    case 2 :\n",
    "        print(\"you are in case 2\") \n",
    "        \n",
    "        no = 2 \n",
    "        \n",
    "        for i in range(1,11) :\n",
    "            print(f\"{no} X {i} = {no*1}\")\n",
    "        \n",
    "        \n",
    "        \n",
    "    case 3:\n",
    "        line= input(\"enter a line to print \")\n",
    "        print(line) \n",
    "        \n",
    "        \n",
    "    case 4:\n",
    "        \n",
    "        def my_fun(num1,num2):\n",
    "            \n",
    "            print(\" you are inside my function  of case 4 \")\n",
    "            result= num1*num2 \n",
    "            return result \n",
    "\n",
    "\n",
    "        no1=int(input(\"enter the first number \"))\n",
    "        no2=int(input(\"enter the second  number \")) \n",
    "        \n",
    "\n",
    "        solution=my_fun(no1,no2)\n",
    "        print(f' sum of {no1} and {no2} is :{solution} ')  \n",
    "        \n",
    "    case 5:\n",
    "        \n",
    "        def my_fun(word1,word2):\n",
    "            \n",
    "            print(\" you are inside my function  of case 5 \")\n",
    "            result= word1 +\" \" +word2 \n",
    "            return result \n",
    "\n",
    "\n",
    "        no1=input(\"enter the first name \")\n",
    "        no2=input(\"enter the second  name  \")\n",
    "        \n",
    "\n",
    "        solution=my_fun(no1,no2)\n",
    "        print(f' 1st word {no1} and 2nd word {no2} is :{solution} ')  \n",
    "        \n",
    "       \n",
    "    case _:                                                  # if it not match anythin it will print res msg \n",
    "        print(\" sry , your match case it is not mathing anything \")  \n",
    "        \n",
    "   \n",
    "    \n",
    "    "
   ]
  },
  {
   "cell_type": "code",
   "execution_count": 44,
   "metadata": {},
   "outputs": [
    {
     "name": "stdout",
     "output_type": "stream",
     "text": [
      "The number is even.\n"
     ]
    }
   ],
   "source": [
    "\n",
    "num = int(input(\"Enter a number: \"))\n",
    "\n",
    "match num % 2:\n",
    "    case 0:\n",
    "        print(\"The number is even.\")\n",
    "    case 1:\n",
    "        print(\"The number is odd.\")\n"
   ]
  },
  {
   "cell_type": "code",
   "execution_count": 46,
   "metadata": {},
   "outputs": [
    {
     "name": "stdout",
     "output_type": "stream",
     "text": [
      "Result: 75.0\n"
     ]
    }
   ],
   "source": [
    "operation = input(\"Enter an operation (+, -, *, /): \")\n",
    "num1 = float(input(\"Enter the first number: \"))\n",
    "num2 = float(input(\"Enter the second number: \"))\n",
    "\n",
    "match operation:\n",
    "    case '+':\n",
    "        result = num1 + num2\n",
    "    case '-':\n",
    "        result = num1 - num2\n",
    "    case '*':\n",
    "        result = num1 * num2\n",
    "    case '/':\n",
    "        result = num1 / num2\n",
    "    case _:\n",
    "        result = \"Invalid operation\"\n",
    "\n",
    "print(f\"Result: {result}\")\n"
   ]
  }
 ],
 "metadata": {
  "kernelspec": {
   "display_name": "Python 3",
   "language": "python",
   "name": "python3"
  },
  "language_info": {
   "codemirror_mode": {
    "name": "ipython",
    "version": 3
   },
   "file_extension": ".py",
   "mimetype": "text/x-python",
   "name": "python",
   "nbconvert_exporter": "python",
   "pygments_lexer": "ipython3",
   "version": "3.12.0"
  }
 },
 "nbformat": 4,
 "nbformat_minor": 2
}
