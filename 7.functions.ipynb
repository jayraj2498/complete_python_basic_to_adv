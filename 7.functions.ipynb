{
 "cells": [
  {
   "cell_type": "code",
   "execution_count": 2,
   "metadata": {},
   "outputs": [],
   "source": [
    "# define functions \n",
    "def fun():\n",
    "        fun()"
   ]
  },
  {
   "cell_type": "code",
   "execution_count": 3,
   "metadata": {},
   "outputs": [
    {
     "name": "stdout",
     "output_type": "stream",
     "text": [
      " hi everyone i am in def function \n"
     ]
    }
   ],
   "source": [
    "\n",
    "# fun without parameter and return statment \n",
    "\n",
    "def fun():\n",
    "    print(\" hi everyone i am in fun function \")\n",
    "    \n",
    "    \n",
    "fun()  #<---- here we are calling function \n",
    "    "
   ]
  },
  {
   "cell_type": "code",
   "execution_count": 10,
   "metadata": {},
   "outputs": [
    {
     "name": "stdout",
     "output_type": "stream",
     "text": [
      "Hello, akash\n"
     ]
    }
   ],
   "source": [
    "# fun with parameter and without return statement\n",
    "\n",
    "def greet(name):  # Here, 'name' is a parameter\n",
    "    print(f\"Hello, {name}\") \n",
    "    \n",
    "    \n",
    "greet(\"akash\")  # Here, \"Alice\" is an argument"
   ]
  },
  {
   "cell_type": "code",
   "execution_count": 7,
   "metadata": {},
   "outputs": [
    {
     "data": {
      "text/plain": [
       "' iam in my_fun() with return statment'"
      ]
     },
     "execution_count": 7,
     "metadata": {},
     "output_type": "execute_result"
    }
   ],
   "source": [
    "# function with return statment and without pareameter \n",
    "\n",
    "def my_fun():\n",
    "    return \" iam in my_fun() with return statment\"\n",
    "\n",
    "\n",
    "my_fun()  "
   ]
  },
  {
   "cell_type": "code",
   "execution_count": 8,
   "metadata": {},
   "outputs": [
    {
     "name": "stdout",
     "output_type": "stream",
     "text": [
      "my name is sachin and my age is 42\n"
     ]
    },
    {
     "data": {
      "text/plain": [
       "' hello everyone'"
      ]
     },
     "execution_count": 8,
     "metadata": {},
     "output_type": "execute_result"
    }
   ],
   "source": [
    "# function with return statement and parameter \n",
    "\n",
    "def my_fun( name,age):\n",
    "    \n",
    "    print(f\"my name is {name} and my age is {age}\") \n",
    "    return \" hello everyone\"\n",
    "    \n",
    "my_fun(\"sachin\",42)"
   ]
  },
  {
   "cell_type": "code",
   "execution_count": 4,
   "metadata": {},
   "outputs": [
    {
     "name": "stdout",
     "output_type": "stream",
     "text": [
      " you are inside my function \n",
      " sum of 15 and 4 is :60 \n"
     ]
    }
   ],
   "source": [
    "def my_fun(num1,num2):\n",
    "    print(\" you are inside my function \")\n",
    "    result= num1*num2 \n",
    "    return result \n",
    "\n",
    "\n",
    "no1=int(input(\"enter the first number \"))\n",
    "no2=int(input(\"enter the second  number \"))\n",
    "\n",
    "solution=my_fun(no1,no2)\n",
    "print(f' sum of {no1} and {no2} is :{solution} ')\n"
   ]
  },
  {
   "cell_type": "code",
   "execution_count": 9,
   "metadata": {},
   "outputs": [
    {
     "name": "stdout",
     "output_type": "stream",
     "text": [
      " your are in simple intrest function \n",
      " the simple intrest for principle amount:1150000 \n",
      " with intrest rate of 1%\n",
      " for the years 2 is solution ::276000.0\n"
     ]
    }
   ],
   "source": [
    "def simple_intrest(pa:int,ri:int,tp:int):\n",
    "    print(\" your are in simple intrest function \") \n",
    "    \n",
    "    result= pa*ri*(tp*12)/100\n",
    "    return result\n",
    "    \n",
    "    \n",
    "    \n",
    "    \n",
    "    \n",
    "    \n",
    "ip1= int(input(\" enter the principle amount \")) \n",
    "ip2=int(input(\" enter the rate of intrest \"))\n",
    "ip3=int(input(\" enter the amount period for years \"))\n",
    "\n",
    "solution=simple_intrest(ip1,ip2,ip3)\n",
    "print(f\" the simple intrest for principle amount:{ip1} \\n with intrest rate of {ip2}%\\n for the years {ip3} is solution ::{solution}\")\n",
    "    \n",
    "    "
   ]
  },
  {
   "cell_type": "code",
   "execution_count": 1,
   "metadata": {},
   "outputs": [
    {
     "name": "stdout",
     "output_type": "stream",
     "text": [
      " your are in simple intrest function \n",
      " the simple intrest for principle amount:1000000 \n",
      " with intrest rate of 10%\n",
      " for the years 1 is solution ::100000.0\n"
     ]
    }
   ],
   "source": [
    "# reguale  SI \n",
    "\n",
    "def simple_intrest(pa:int,ri:int,tp:int):\n",
    "    print(\" your are in simple intrest function \") \n",
    "    \n",
    "    result= pa*ri*tp/100\n",
    "    return result\n",
    "    \n",
    "    \n",
    "    \n",
    "    \n",
    "    \n",
    "    \n",
    "ip1= int(input(\" enter the principle amount \")) \n",
    "ip2=int(input(\" enter the rate of intrest \"))\n",
    "ip3=int(input(\" enter the amount period for years \"))\n",
    "\n",
    "solution=simple_intrest(ip1,ip2,ip3)\n",
    "print(f\" the simple intrest for principle amount:{ip1} \\n with intrest rate of {ip2}%\\n for the years {ip3} is solution ::{solution}\")\n",
    "    "
   ]
  },
  {
   "cell_type": "code",
   "execution_count": 11,
   "metadata": {},
   "outputs": [
    {
     "name": "stdout",
     "output_type": "stream",
     "text": [
      "Narendra Modi \n"
     ]
    }
   ],
   "source": [
    "def my_fun(word1,word2):\n",
    "    result= word1 +\" \"+ word2\n",
    "    # print(f\"{result}\")\n",
    "    return result \n",
    "\n",
    "\n",
    "\n",
    "\n",
    "\n",
    "\n",
    "ip1 = str(input(\" enter the name1 \")) \n",
    "ip2=str(input(\" enter the name \")) \n",
    "\n",
    "\n",
    "sol= my_fun(ip1,ip2)\n",
    "print(sol)\n"
   ]
  },
  {
   "cell_type": "code",
   "execution_count": 20,
   "metadata": {},
   "outputs": [
    {
     "name": "stdout",
     "output_type": "stream",
     "text": [
      "odd:3\n"
     ]
    }
   ],
   "source": [
    "def even_odd(ip):\n",
    "    if ip%2==0:\n",
    "        print(f\"even :{ip}\")\n",
    "    else:\n",
    "        print(f\"odd:{ip}\")\n",
    "    \n",
    "    \n",
    "ip=int(input(\"enter the number \"))\n",
    "even_odd(ip)"
   ]
  },
  {
   "cell_type": "code",
   "execution_count": 22,
   "metadata": {},
   "outputs": [
    {
     "name": "stdout",
     "output_type": "stream",
     "text": [
      " hi akash\n",
      " hi modi\n"
     ]
    }
   ],
   "source": [
    "# default parameter \n",
    "\n",
    "def my_funtion(name=\"modi\"):\n",
    "    print(f\" hi {name}\")\n",
    "    \n",
    "    \n",
    "\n",
    "my_funtion(\"akash\")\n",
    "my_funtion()    #<---- by deafault\n",
    "    "
   ]
  },
  {
   "cell_type": "code",
   "execution_count": 4,
   "metadata": {},
   "outputs": [
    {
     "name": "stdout",
     "output_type": "stream",
     "text": [
      " hi akshay Kumar\n",
      "narendra modi\n"
     ]
    }
   ],
   "source": [
    "name=\"narendra modi\"\n",
    "\n",
    "def my_fun(name):\n",
    "    print(f\" hi {name}\")\n",
    "    \n",
    "    \n",
    "my_fun('akshay Kumar')  \n",
    "\n",
    "print(name)    # global name "
   ]
  },
  {
   "cell_type": "code",
   "execution_count": 24,
   "metadata": {},
   "outputs": [
    {
     "name": "stdout",
     "output_type": "stream",
     "text": [
      "Emil Refsnes\n",
      "Tobias Refsnes\n",
      "Linus Refsnes\n",
      "narendra modi Refsnes\n"
     ]
    }
   ],
   "source": [
    "def my_function(fname=\"narendra modi\"):\n",
    "  print(fname + \" Refsnes\")\n",
    "\n",
    "my_function(\"Emil\")\n",
    "my_function(\"Tobias\")\n",
    "my_function(\"Linus\")\n",
    "my_function()"
   ]
  },
  {
   "cell_type": "code",
   "execution_count": 26,
   "metadata": {},
   "outputs": [
    {
     "ename": "TypeError",
     "evalue": "my_function() missing 1 required positional argument: 'lname'",
     "output_type": "error",
     "traceback": [
      "\u001b[1;31m---------------------------------------------------------------------------\u001b[0m",
      "\u001b[1;31mTypeError\u001b[0m                                 Traceback (most recent call last)",
      "\u001b[1;32me:\\Python\\6.functions.ipynb Cell 13\u001b[0m line \u001b[0;36m4\n\u001b[0;32m      <a href='vscode-notebook-cell:/e%3A/Python/6.functions.ipynb#X43sZmlsZQ%3D%3D?line=0'>1</a>\u001b[0m \u001b[39mdef\u001b[39;00m \u001b[39mmy_function\u001b[39m(fname, lname):\n\u001b[0;32m      <a href='vscode-notebook-cell:/e%3A/Python/6.functions.ipynb#X43sZmlsZQ%3D%3D?line=1'>2</a>\u001b[0m   \u001b[39mprint\u001b[39m(fname \u001b[39m+\u001b[39m \u001b[39m\"\u001b[39m\u001b[39m \u001b[39m\u001b[39m\"\u001b[39m \u001b[39m+\u001b[39m lname)\n\u001b[1;32m----> <a href='vscode-notebook-cell:/e%3A/Python/6.functions.ipynb#X43sZmlsZQ%3D%3D?line=3'>4</a>\u001b[0m my_function(\u001b[39m\"\u001b[39;49m\u001b[39mEmil\u001b[39;49m\u001b[39m\"\u001b[39;49m)\n",
      "\u001b[1;31mTypeError\u001b[0m: my_function() missing 1 required positional argument: 'lname'"
     ]
    }
   ],
   "source": [
    "def my_function(fname, lname):\n",
    "  print(fname + \" \" + lname)\n",
    "\n",
    "my_function(\"Emil\")     # it will require 2 argument other wise it will givw you an error "
   ]
  },
  {
   "cell_type": "code",
   "execution_count": 29,
   "metadata": {},
   "outputs": [
    {
     "name": "stdout",
     "output_type": "stream",
     "text": [
      "154\n"
     ]
    }
   ],
   "source": [
    "def my_arg(*arg):\n",
    "    a=sum(arg)\n",
    "    print(a)\n",
    "\n",
    "    \n",
    "    \n",
    "my_arg(22,33,44,55)"
   ]
  },
  {
   "cell_type": "code",
   "execution_count": 30,
   "metadata": {},
   "outputs": [
    {
     "name": "stdout",
     "output_type": "stream",
     "text": [
      "(['sita', 'gita', 'ram', 'sham', 'india'],)\n"
     ]
    }
   ],
   "source": [
    "def my_arg(*word):\n",
    "    a=word\n",
    "    print(a)\n",
    "\n",
    "    \n",
    "    \n",
    "my_arg([\"sita\",\"gita\",\"ram\",\"sham\",\"india\"])"
   ]
  },
  {
   "cell_type": "code",
   "execution_count": 15,
   "metadata": {},
   "outputs": [
    {
     "name": "stdout",
     "output_type": "stream",
     "text": [
      "sita\n",
      "gita\n",
      "ram\n",
      "sham\n",
      "india\n"
     ]
    }
   ],
   "source": [
    "def my_arg(*word):\n",
    "    for i in word:\n",
    "        print(i)\n",
    "\n",
    "    \n",
    "    \n",
    "my_arg(\"sita\",\"gita\",\"ram\",\"sham\",\"india\")"
   ]
  },
  {
   "cell_type": "code",
   "execution_count": 18,
   "metadata": {},
   "outputs": [
    {
     "name": "stdout",
     "output_type": "stream",
     "text": [
      "(['sita', 'gita', 'ram', 'sham', 'india'], ['aus', 'india', 'eng'], ['oneday', 't20', 'test'])\n"
     ]
    }
   ],
   "source": [
    "def my_arg(*word):\n",
    "    for i in word:\n",
    "        print(i)\n",
    "\n",
    "    \n",
    "    \n",
    "name=[\"sita\",\"gita\",\"ram\",\"sham\",\"india\"] , [\"aus\",\"india\",\"eng\"] ,[\"oneday\",\"t20\",\"test\"]\n",
    "\n",
    "my_arg(name)"
   ]
  },
  {
   "cell_type": "code",
   "execution_count": 32,
   "metadata": {},
   "outputs": [
    {
     "name": "stdout",
     "output_type": "stream",
     "text": [
      " the total sum is:6\n",
      " the total sum is:50\n"
     ]
    }
   ],
   "source": [
    "def add_numbers(*args):\n",
    "    total = sum(args)\n",
    "    print(f\" the total sum is:{total}\")\n",
    "\n",
    "# Calling the function with different numbers of arguments\n",
    "add_numbers(1, 2, 3)  \n",
    "add_numbers(5, 10, 15, 20) "
   ]
  },
  {
   "cell_type": "code",
   "execution_count": 3,
   "metadata": {},
   "outputs": [
    {
     "name": "stdout",
     "output_type": "stream",
     "text": [
      "The youngest child is   ('Emil', 'Tobias', 'Linus')\n"
     ]
    }
   ],
   "source": [
    "def my_function(*kids):\n",
    "  print(f\"The youngest child is   {kids}\")\n",
    "\n",
    "my_function(\"Emil\", \"Tobias\", \"Linus\")"
   ]
  },
  {
   "cell_type": "code",
   "execution_count": 2,
   "metadata": {},
   "outputs": [
    {
     "name": "stdout",
     "output_type": "stream",
     "text": [
      " the youngedt child is Tobias\n"
     ]
    }
   ],
   "source": [
    "def my_function(*kids):\n",
    "  print(f\" the youngedt child is {kids[1]}\")\n",
    "\n",
    "my_function(\"Emil\", \"Tobias\", \"Linus\")"
   ]
  },
  {
   "cell_type": "code",
   "execution_count": 22,
   "metadata": {},
   "outputs": [
    {
     "name": "stdout",
     "output_type": "stream",
     "text": [
      "The youngest child is jay\n"
     ]
    }
   ],
   "source": [
    "# You can also send arguments with the key = value syntax.\n",
    "\n",
    "def my_function(child3, child2, child1):\n",
    "  print(\"The youngest child is \" + child3)\n",
    "\n",
    "my_function(child1 = \"shiva\", child2 = \"ajay\", child3 = \"jay\")"
   ]
  },
  {
   "cell_type": "code",
   "execution_count": 1,
   "metadata": {},
   "outputs": [
    {
     "name": "stdout",
     "output_type": "stream",
     "text": [
      "His last name is Kumar\n"
     ]
    }
   ],
   "source": [
    "# If you do not know how many keyword arguments that will be passed into your function, \n",
    "# add two asterisk: ** before the parameter name in the function definition\n",
    "\n",
    "\n",
    "def my_function(**kid):\n",
    "  print(\"His last name is \" + kid[\"lname\"])\n",
    "\n",
    "my_function(fname = \"akshay\", lname = \"Kumar\")"
   ]
  },
  {
   "cell_type": "code",
   "execution_count": 28,
   "metadata": {},
   "outputs": [
    {
     "name": "stdout",
     "output_type": "stream",
     "text": [
      " your first namr is jay\n"
     ]
    }
   ],
   "source": [
    "def my_fun(**arg):\n",
    "    print(f\" your first namr is {arg['f_name']}\")\n",
    "    \n",
    "    \n",
    "    \n",
    "my_fun(f_name= 'jay' , l_name=\"roy\")"
   ]
  },
  {
   "cell_type": "code",
   "execution_count": 2,
   "metadata": {},
   "outputs": [
    {
     "name": "stdout",
     "output_type": "stream",
     "text": [
      " your first namr is jay\n",
      " your last name is roy\n"
     ]
    }
   ],
   "source": [
    "def my_fun(**kwargs):\n",
    "    print(f\" your first namr is {kwargs['f_name']}\")\n",
    "    print(f\" your last name is {kwargs['l_name']}\")\n",
    "    \n",
    "    \n",
    "    \n",
    "my_fun(f_name= 'jay' , l_name=\"roy\")"
   ]
  },
  {
   "cell_type": "code",
   "execution_count": 49,
   "metadata": {},
   "outputs": [
    {
     "name": "stdout",
     "output_type": "stream",
     "text": [
      "f_name=narendra\n",
      "m_name=dmodar\n",
      "l_name=modi\n"
     ]
    }
   ],
   "source": [
    "def my_family(**arg):\n",
    "    for key , value  in arg.items():\n",
    "        print(\"%s=%s\" %(key,value) )\n",
    "    \n",
    "    \n",
    "    \n",
    "    \n",
    "    \n",
    "my_family(f_name=\"narendra\",m_name=\"dmodar\",l_name=\"modi\")"
   ]
  },
  {
   "cell_type": "code",
   "execution_count": 4,
   "metadata": {},
   "outputs": [
    {
     "name": "stdout",
     "output_type": "stream",
     "text": [
      " key->name , val->jay\n",
      " key->place , val->nashik\n",
      " key->country , val->india\n"
     ]
    }
   ],
   "source": [
    "# keyword arguments   \n",
    "# it is given by double ** \n",
    "# in argument all the parameter is in the Key and val  , so we can acess it is in the form dictionary \n",
    "\n",
    "def funct(**kwargs) : \n",
    "    for key, val in kwargs.items(): \n",
    "        print(f\" key->{key} , val->{val}\") \n",
    "        \n",
    "\n",
    "funct(name=\"jay\", place=\"nashik\" , country= \"india\")"
   ]
  },
  {
   "cell_type": "code",
   "execution_count": 30,
   "metadata": {},
   "outputs": [
    {
     "name": "stdout",
     "output_type": "stream",
     "text": [
      "I am from Sweden\n",
      "I am from India\n",
      "I am from USA\n",
      "I am from Brazil\n"
     ]
    }
   ],
   "source": [
    "def my_function(country = \"USA\"):\n",
    "  print(\"I am from \" + country)\n",
    "\n",
    "my_function(\"Sweden\")\n",
    "my_function(\"India\")\n",
    "my_function()  #<--- \n",
    "my_function(\"Brazil\")"
   ]
  },
  {
   "cell_type": "code",
   "execution_count": 32,
   "metadata": {},
   "outputs": [
    {
     "name": "stdout",
     "output_type": "stream",
     "text": [
      "mubai\n",
      "banglore\n",
      "surat\n",
      "delhi\n",
      "noida\n"
     ]
    }
   ],
   "source": [
    "def my_function(city):\n",
    "    for i in city:\n",
    "        print(i)\n",
    "\n",
    "city=['mubai','banglore','surat','delhi','noida']\n",
    "\n",
    "my_function(city)"
   ]
  },
  {
   "cell_type": "code",
   "execution_count": 40,
   "metadata": {},
   "outputs": [
    {
     "data": {
      "text/plain": [
       "72"
      ]
     },
     "execution_count": 40,
     "metadata": {},
     "output_type": "execute_result"
    }
   ],
   "source": [
    "def my_fun(a=9):\n",
    "    return 8*a \n",
    "\n",
    "my_fun(5)\n",
    "my_fun(2)\n",
    "my_fun(3)\n",
    "my_fun()"
   ]
  },
  {
   "cell_type": "code",
   "execution_count": 47,
   "metadata": {},
   "outputs": [
    {
     "name": "stdout",
     "output_type": "stream",
     "text": [
      "0\n",
      "5\n",
      "10\n",
      "15\n",
      "20\n",
      "0\n",
      "5\n",
      "0\n",
      "5\n",
      "10\n",
      "0\n",
      "5\n",
      "10\n",
      "15\n",
      "20\n"
     ]
    }
   ],
   "source": [
    "# do check \n",
    "\n",
    "def my_fun(a=5):\n",
    "    for i in range(a):\n",
    "        print(i * 5)\n",
    "\n",
    "my_fun(5)\n",
    "my_fun(2)\n",
    "my_fun(3)\n",
    "my_fun()"
   ]
  },
  {
   "cell_type": "code",
   "execution_count": 6,
   "metadata": {},
   "outputs": [
    {
     "name": "stdout",
     "output_type": "stream",
     "text": [
      "your name is jay\n",
      "your qualification is:AIengineer\n",
      "your  follow next:phd\n",
      "\n",
      "your name is akash\n",
      "your qualification is:civil enginner\n",
      "your  follow next:civil service\n"
     ]
    }
   ],
   "source": [
    "def fun(name,qualification,n_p):\n",
    "    print(f\"your name is {name}\")\n",
    "    print(f\"your qualification is:{qualification}\")\n",
    "    print(f\"your  follow next:{n_p}\")\n",
    "    \n",
    "fun(name=\"jay\",qualification=\"AIengineer\",n_p=\"phd\")   #these is keyward argument \n",
    "print()\n",
    "fun(\"akash\",\"civil enginner\",\"civil service\")"
   ]
  },
  {
   "cell_type": "code",
   "execution_count": 50,
   "metadata": {},
   "outputs": [
    {
     "name": "stdout",
     "output_type": "stream",
     "text": [
      "my name is :jay\n",
      "my father name is :dharmen\n",
      "my mother name is:sunita\n",
      "\n",
      "my name is :aka\n",
      "my father name is :sandip\n",
      "my mother name is:swati\n",
      "\n",
      "my name is :rus\n",
      "my father name is :ganesh\n",
      "my mother name is:jyoti\n",
      "\n",
      "my name is :jay\n",
      "my father name is :dharmen\n",
      "my mother name is:sunita\n"
     ]
    }
   ],
   "source": [
    "def family(name=\"jayr\",f_name=\"dharmen\",m_name=\"sunita\"):  # these is default parameter \n",
    "    print(f\"my name is :{name[0:3]}\")\n",
    "    print(f\"my father name is :{f_name}\")\n",
    "    print(f\"my mother name is:{m_name}\")\n",
    "    \n",
    "family()    #<---- by default\n",
    "print()\n",
    "family(\"akash\",\"sandip\",\"swati\")\n",
    "print()\n",
    "family(\"rushikesh\",\"ganesh\",\"jyoti\")\n",
    "print()\n",
    "family()      #<--- by default "
   ]
  },
  {
   "cell_type": "code",
   "execution_count": 52,
   "metadata": {},
   "outputs": [
    {
     "name": "stdout",
     "output_type": "stream",
     "text": [
      "Mango\n",
      "Pineapple\n",
      "Banana\n",
      "Cherry\n",
      "Apple\n"
     ]
    }
   ],
   "source": [
    "def func(set):\n",
    "    for i in set:\n",
    "        print(i)\n",
    "\n",
    "set = {\"Apple\", \"Banana\", \"Mango\", \"Cherry\", \"Pineapple\",\"Apple\"}\n",
    "\n",
    "\n",
    "func(set)"
   ]
  },
  {
   "cell_type": "code",
   "execution_count": 51,
   "metadata": {},
   "outputs": [
    {
     "name": "stdout",
     "output_type": "stream",
     "text": [
      "Apple\n",
      "Banana\n",
      "Mango\n",
      "Cherry\n",
      "Pineapple\n"
     ]
    }
   ],
   "source": [
    "def func(list1):\n",
    "    for i in list1:\n",
    "        print(i)\n",
    "\n",
    "list1 = [ \"Apple\", \"Banana\", \"Mango\", \"Cherry\", \"Pineapple\" ]\n",
    "\n",
    "func(list1)"
   ]
  },
  {
   "cell_type": "markdown",
   "metadata": {},
   "source": [
    "#### Local varible and Global Variable"
   ]
  },
  {
   "cell_type": "code",
   "execution_count": 5,
   "metadata": {},
   "outputs": [
    {
     "name": "stdout",
     "output_type": "stream",
     "text": [
      " we are inside in my function\n",
      " if we want to access the name var in my_function we can acees it here Bcoz it is local variable /Actor/:-tom cruise\n",
      " we are outside of my_function if i want to acees thee name1 varisble i can acees it here look  we can acces it anywhere we want :-shone smith\n",
      "=============================================================================\n"
     ]
    },
    {
     "ename": "NameError",
     "evalue": "name 'actor' is not defined",
     "output_type": "error",
     "traceback": [
      "\u001b[1;31m---------------------------------------------------------------------------\u001b[0m",
      "\u001b[1;31mNameError\u001b[0m                                 Traceback (most recent call last)",
      "Cell \u001b[1;32mIn[5], line 15\u001b[0m\n\u001b[0;32m     13\u001b[0m \u001b[38;5;28mprint\u001b[39m(\u001b[38;5;124mf\u001b[39m\u001b[38;5;124m\"\u001b[39m\u001b[38;5;124m we are outside of my_function if i want to acees thee name1 varisble i can acees it here look  we can acces it anywhere we want :-\u001b[39m\u001b[38;5;132;01m{\u001b[39;00mactor1\u001b[38;5;132;01m}\u001b[39;00m\u001b[38;5;124m\"\u001b[39m) \n\u001b[0;32m     14\u001b[0m \u001b[38;5;28mprint\u001b[39m(\u001b[38;5;124m\"\u001b[39m\u001b[38;5;124m=============================================================================\u001b[39m\u001b[38;5;124m\"\u001b[39m)\n\u001b[1;32m---> 15\u001b[0m \u001b[38;5;28mprint\u001b[39m(\u001b[38;5;124mf\u001b[39m\u001b[38;5;124m\"\u001b[39m\u001b[38;5;124m but if i want to access the loacl var which is name i would\u001b[39m\u001b[38;5;124m'\u001b[39m\u001b[38;5;124mnt able to access it here \u001b[39m\u001b[38;5;132;01m{\u001b[39;00m\u001b[43mactor\u001b[49m\u001b[38;5;132;01m}\u001b[39;00m\u001b[38;5;124m\"\u001b[39m) \u001b[38;5;66;03m# error\u001b[39;00m\n",
      "\u001b[1;31mNameError\u001b[0m: name 'actor' is not defined"
     ]
    }
   ],
   "source": [
    "actor1=\"shone smith\"  # <---- golbal var \n",
    "\n",
    "def my_function():\n",
    "    \n",
    "    actor=\"tom cruise\"  # <---- Local variable\n",
    "    print(\" we are inside in my function\")\n",
    "    print(f\" if we want to access the name var in my_function we can acees it here Bcoz it is local variable /Actor/:-{actor}\")\n",
    "    \n",
    "    \n",
    "    \n",
    "my_function()  # function Call \n",
    "\n",
    "print(f\" we are outside of my_function if i want to acees thee name1 varisble i can acees it here look  we can acces it anywhere we want :-{actor1}\") \n",
    "print(\"=============================================================================\")\n",
    "print(f\" but if i want to access the loacl var which is name i would'nt able to access it here {actor}\") # error\n",
    "\n",
    "\n",
    "    \n",
    "    \n",
    "    \n"
   ]
  },
  {
   "cell_type": "code",
   "execution_count": 6,
   "metadata": {},
   "outputs": [
    {
     "name": "stdout",
     "output_type": "stream",
     "text": [
      "we are inside in my_function now \n",
      "we can asscess f_name:narendra ==which is local valible \n",
      "and age:62== which is global variable \n",
      "my age is 62\n"
     ]
    },
    {
     "ename": "NameError",
     "evalue": "name 'f_name' is not defined",
     "output_type": "error",
     "traceback": [
      "\u001b[1;31m---------------------------------------------------------------------------\u001b[0m",
      "\u001b[1;31mNameError\u001b[0m                                 Traceback (most recent call last)",
      "Cell \u001b[1;32mIn[6], line 11\u001b[0m\n\u001b[0;32m      8\u001b[0m my_function()  \n\u001b[0;32m     10\u001b[0m \u001b[38;5;28mprint\u001b[39m(\u001b[38;5;124mf\u001b[39m\u001b[38;5;124m\"\u001b[39m\u001b[38;5;124mmy age is \u001b[39m\u001b[38;5;132;01m{\u001b[39;00mage\u001b[38;5;132;01m}\u001b[39;00m\u001b[38;5;124m\"\u001b[39m)\n\u001b[1;32m---> 11\u001b[0m \u001b[38;5;28mprint\u001b[39m(\u001b[38;5;124mf\u001b[39m\u001b[38;5;124m\"\u001b[39m\u001b[38;5;124mmy name is \u001b[39m\u001b[38;5;132;01m{\u001b[39;00m\u001b[43mf_name\u001b[49m\u001b[38;5;132;01m}\u001b[39;00m\u001b[38;5;124m\"\u001b[39m) \u001b[38;5;66;03m## <--- error \u001b[39;00m\n",
      "\u001b[1;31mNameError\u001b[0m: name 'f_name' is not defined"
     ]
    }
   ],
   "source": [
    "def my_function():\n",
    "    f_name=\"narendra\"\n",
    "    print(f\"we are inside in my_function now \")\n",
    "    print(f\"we can asscess f_name:{f_name} ==which is local valible \\nand age:{age}== which is global variable \")\n",
    "    \n",
    "    \n",
    "age=62   \n",
    "my_function()  \n",
    "\n",
    "print(f\"my age is {age}\")\n",
    "print(f\"my name is {f_name}\") ## <--- error \n",
    "    "
   ]
  },
  {
   "cell_type": "code",
   "execution_count": null,
   "metadata": {},
   "outputs": [],
   "source": [
    "def new_fun(*args , **kwargs):\n",
    "    for val in args :\n",
    "        print(f\" Positional argument val is {val}\") \n",
    "    \n",
    "    for key , value in kwargs.items(): \n",
    "        print(f\" key {key} : {value}\") \n",
    "    "
   ]
  },
  {
   "cell_type": "code",
   "execution_count": 7,
   "metadata": {},
   "outputs": [
    {
     "name": "stdout",
     "output_type": "stream",
     "text": [
      "  postional argument val is 1 \n",
      "  postional argument val is 23 \n",
      "  postional argument val is 46 \n",
      "  postional argument val is 67 \n",
      "  postional argument val is data_science \n",
      " key = PM  val =modi \n",
      " key = country  val =India \n"
     ]
    }
   ],
   "source": [
    "def post_key_arg(*args,**kwargs) : \n",
    "    for data in args :\n",
    "        print(f\"  postional argument val is {data} \") \n",
    "        \n",
    "    for key , val  in kwargs.items(): \n",
    "        print(f\" key = {key}  val ={val} \" ) \n",
    "        \n",
    "        \n",
    "\n",
    "\n",
    "post_key_arg(1,23,46,67,\"data_science\",PM=\"modi\" , country=\"India\")"
   ]
  },
  {
   "cell_type": "code",
   "execution_count": null,
   "metadata": {},
   "outputs": [],
   "source": []
  },
  {
   "cell_type": "code",
   "execution_count": 4,
   "metadata": {},
   "outputs": [
    {
     "name": "stdout",
     "output_type": "stream",
     "text": [
      "hello\n",
      "hello again\n"
     ]
    }
   ],
   "source": [
    "# Python program to illustrate \n",
    "# functions \n",
    "def hello(): \n",
    "   print(\"hello\") \n",
    "   print(\"hello again\") \n",
    "   \n",
    "   \n",
    "# calling function \n",
    "hello()"
   ]
  },
  {
   "cell_type": "code",
   "execution_count": 8,
   "metadata": {},
   "outputs": [
    {
     "name": "stdout",
     "output_type": "stream",
     "text": [
      "Started\n",
      "56\n"
     ]
    }
   ],
   "source": [
    "\n",
    "\n",
    "# Python program to illustrate  \n",
    "# function with main \n",
    "def getInteger(): \n",
    "   result = int(input(\"Enter integer no here: \")) \n",
    "   return result \n",
    "   \n",
    "def Main(): \n",
    "   print(\"Started\") \n",
    "   \n",
    "   # calling the getInteger function and  \n",
    "   # storing its returned value in the output variable \n",
    "   output = getInteger()      \n",
    "   print(output) \n",
    "   \n",
    "# now we are required to tell Python  \n",
    "# for 'Main' function existence \n",
    "if __name__==\"__main__\": \n",
    "   Main()"
   ]
  },
  {
   "cell_type": "code",
   "execution_count": 6,
   "metadata": {},
   "outputs": [
    {
     "name": "stdout",
     "output_type": "stream",
     "text": [
      "895.0\n"
     ]
    }
   ],
   "source": [
    "\n",
    "\n",
    "# Python program to illustrate \n",
    "# math module \n",
    "import math \n",
    "   \n",
    "def Main(): \n",
    "   num = -895\n",
    "   \n",
    "   # fabs is used to get the absolute  \n",
    "   # value of a decimal \n",
    "   num = math.fabs(num) \n",
    "   print(num) \n",
    "       \n",
    "       \n",
    "if __name__==\"__main__\": \n",
    "   Main()"
   ]
  },
  {
   "cell_type": "code",
   "execution_count": null,
   "metadata": {},
   "outputs": [],
   "source": []
  },
  {
   "cell_type": "markdown",
   "metadata": {},
   "source": [
    "#### namespace"
   ]
  },
  {
   "cell_type": "code",
   "execution_count": null,
   "metadata": {},
   "outputs": [],
   "source": [
    "# var1 is in the global namespace \n",
    "var1 = 5\n",
    "def some_func():\n",
    " \n",
    "    # var2 is in the local namespace \n",
    "    var2 = 6\n",
    "    def some_inner_func():\n",
    " \n",
    "        # var3 is in the nested local \n",
    "        # namespace\n",
    "        var3 = 7"
   ]
  },
  {
   "cell_type": "code",
   "execution_count": 7,
   "metadata": {},
   "outputs": [
    {
     "name": "stdout",
     "output_type": "stream",
     "text": [
      "6\n"
     ]
    }
   ],
   "source": [
    "\n",
    "\n",
    "# Python program processing\n",
    "# global variable\n",
    " \n",
    "count = 5\n",
    "def some_method():\n",
    "    global count\n",
    "    count = count + 1\n",
    "    print(count)\n",
    "    \n",
    "    \n",
    "some_method()"
   ]
  },
  {
   "cell_type": "code",
   "execution_count": 10,
   "metadata": {},
   "outputs": [
    {
     "name": "stdout",
     "output_type": "stream",
     "text": [
      "Inside some_func\n",
      "Inside inner function, value of var: {10}\n"
     ]
    }
   ],
   "source": [
    "# Python program showing\n",
    "# a scope of object\n",
    " \n",
    "def some_func():\n",
    "    print(\"Inside some_func\")\n",
    "    def some_inner_func():\n",
    "        var = 10\n",
    "        print(f\"Inside inner function, value of var:\",{var})\n",
    "    some_inner_func()\n",
    "    print(f\"Try printing var from outer function: \",{var})  # <== these will not get executed \n",
    "    \n",
    "some_func()"
   ]
  },
  {
   "cell_type": "code",
   "execution_count": 9,
   "metadata": {},
   "outputs": [
    {
     "name": "stdout",
     "output_type": "stream",
     "text": [
      "45\n"
     ]
    }
   ],
   "source": [
    "s = 1 + 2 + 3 + \\\n",
    "    4 + 5 + 6 + \\\n",
    "    7 + 8 + 9\n",
    "    \n",
    "print(s)"
   ]
  },
  {
   "cell_type": "code",
   "execution_count": 8,
   "metadata": {},
   "outputs": [
    {
     "name": "stdout",
     "output_type": "stream",
     "text": [
      "Logging on to geeksforgeeks...\n",
      "All set !\n"
     ]
    }
   ],
   "source": [
    "\n",
    "site = 'gfg'\n",
    " \n",
    "if site == 'gfg':\n",
    "    print('Logging on to geeksforgeeks...')\n",
    "else:\n",
    "    print('retype the URL.')\n",
    "print('All set !')"
   ]
  },
  {
   "cell_type": "code",
   "execution_count": null,
   "metadata": {},
   "outputs": [],
   "source": []
  },
  {
   "cell_type": "markdown",
   "metadata": {},
   "source": [
    "### function practise \n"
   ]
  },
  {
   "cell_type": "code",
   "execution_count": 8,
   "metadata": {},
   "outputs": [
    {
     "name": "stdout",
     "output_type": "stream",
     "text": [
      "Todays tempreture is 13.333333333333334\n"
     ]
    }
   ],
   "source": [
    "def check_temp(temp,unit) : \n",
    "    if unit =='C' :\n",
    "        return  temp * 9/5 + 32  # c to F\n",
    "    \n",
    "    if unit =='F' :\n",
    "        return (temp-32)*5/9  # f to C  \n",
    "    \n",
    "    else : \n",
    "        return False \n",
    "    \n",
    "    \n",
    "temp = int(input(\"enter the tempreture\")) \n",
    "unit = str(input(\"enter the unit for temp C or F \"))  \n",
    "\n",
    "final_op =check_temp(temp,unit)  \n",
    "\n",
    "print(f\"Todays tempreture is {final_op}\") "
   ]
  },
  {
   "cell_type": "code",
   "execution_count": 13,
   "metadata": {},
   "outputs": [
    {
     "name": "stdout",
     "output_type": "stream",
     "text": [
      "False\n",
      "True\n"
     ]
    }
   ],
   "source": [
    "def is_str_pass(password) : \n",
    "    \"this is func to check pass is storng  or not\" \n",
    "    \n",
    "    if len(password) < 8 :\n",
    "        return False \n",
    "    \n",
    "    if not any(char.isdigit()  for char in password) :\n",
    "        return False \n",
    "    \n",
    "    if not any(char.islower() for char in password) :\n",
    "        return False \n",
    "    \n",
    "    if not any(char.isupper() for char in password) : \n",
    "        return False  \n",
    "    \n",
    "    if not any(char in \"@#%$&*()_+!\" for char in password) : \n",
    "        return False    \n",
    "    \n",
    "    \n",
    "    return True \n",
    "    \n",
    "    \n",
    "\n",
    "print(is_str_pass('JAYrai'))  \n",
    "\n",
    "print(is_str_pass('JAYraj@#%123')) \n",
    "    "
   ]
  },
  {
   "cell_type": "code",
   "execution_count": 18,
   "metadata": {},
   "outputs": [
    {
     "name": "stdout",
     "output_type": "stream",
     "text": [
      "total cost of all item  you have purchesed is 1500\n"
     ]
    }
   ],
   "source": [
    "def cal_toatal_cost_item(cart) :\n",
    "    \n",
    "    final_cost = 0 \n",
    "    for cost in cart :\n",
    "        final_cost+=cost[\"price\"]*cost[\"quantity\"] \n",
    "    return final_cost \n",
    "         \n",
    "        \n",
    "\n",
    "cart= [ \n",
    "       {\"name\":\"apple\" ,\"price\":50 , \"quantity\":4 },\n",
    "       {\"name\":\"orange\" ,\"price\":100 , \"quantity\":2 },\n",
    "       {\"name\":\"book\" ,\"price\":1000, \"quantity\":1 },\n",
    "       {\"name\":\"bat\" ,\"price\":10 , \"quantity\":10 }\n",
    "]\n",
    "\n",
    "\n",
    "item_price=cal_toatal_cost_item(cart) \n",
    "\n",
    "print(f\"total cost of all item  you have purchesed is {item_price}\")"
   ]
  },
  {
   "cell_type": "code",
   "execution_count": null,
   "metadata": {},
   "outputs": [],
   "source": []
  },
  {
   "cell_type": "code",
   "execution_count": null,
   "metadata": {},
   "outputs": [],
   "source": []
  },
  {
   "cell_type": "code",
   "execution_count": null,
   "metadata": {},
   "outputs": [],
   "source": []
  },
  {
   "cell_type": "code",
   "execution_count": null,
   "metadata": {},
   "outputs": [],
   "source": []
  },
  {
   "cell_type": "code",
   "execution_count": null,
   "metadata": {},
   "outputs": [],
   "source": []
  },
  {
   "cell_type": "code",
   "execution_count": null,
   "metadata": {},
   "outputs": [],
   "source": []
  }
 ],
 "metadata": {
  "kernelspec": {
   "display_name": "Python 3",
   "language": "python",
   "name": "python3"
  },
  "language_info": {
   "codemirror_mode": {
    "name": "ipython",
    "version": 3
   },
   "file_extension": ".py",
   "mimetype": "text/x-python",
   "name": "python",
   "nbconvert_exporter": "python",
   "pygments_lexer": "ipython3",
   "version": "3.12.0"
  }
 },
 "nbformat": 4,
 "nbformat_minor": 2
}
