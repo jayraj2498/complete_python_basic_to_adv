{
 "cells": [
  {
   "cell_type": "code",
   "execution_count": 6,
   "metadata": {},
   "outputs": [
    {
     "name": "stdout",
     "output_type": "stream",
     "text": [
      "hello everyone how the thing is going today all well? \n",
      "\n",
      "i thing everyone should have to be happy cause the movement of happyness is come from our mind if we control that \n",
      "everyone will happy from internally right .\n"
     ]
    }
   ],
   "source": [
    "file= open('xyz.txt','r') \n",
    "\n",
    "data=file.read()\n",
    "\n",
    "print(data)\n",
    "\n",
    "file.close()"
   ]
  },
  {
   "cell_type": "code",
   "execution_count": null,
   "metadata": {},
   "outputs": [],
   "source": []
  },
  {
   "cell_type": "code",
   "execution_count": 4,
   "metadata": {},
   "outputs": [
    {
     "name": "stdout",
     "output_type": "stream",
     "text": [
      "select * from pizza_sales ;\n",
      "\n",
      "-- select total no pizza sales \n",
      "\n",
      "select sum(total_price) as total_revenue \n",
      "from pizza_sales ;\n",
      "\n",
      "-- select avg order per value \n",
      "\n",
      "select\tsum(total_price) / count(distinct order_id)  as avg_order_value \n",
      "from Pizza_sales ;\n",
      "\n",
      "-- Total Quantity of pizzas sold \n",
      "\n",
      "select sum(quantity) as total_pizza_sold \n",
      "from pizza_sales ; \n",
      "\n",
      "\n",
      "-- \n",
      "\n",
      "select * from pizza_sales ;\n",
      "\n",
      "-- total order placed \n",
      "\n",
      "select count(distinct order_id ) as total_order_placed_till_now \n",
      "from pizza_sales\n",
      "\n",
      "\n",
      "--- avg pizza  per order \n",
      "\n",
      "select sum(quantity) / count(distinct order_id) as avg_pizza_sold_per_order \n",
      "from pizza_sales\n",
      "\t\n",
      "\n",
      "\n",
      "--- Daily Trend for total order per day \n",
      "\n",
      "select DATENAME(DW , order_date) as order_day , count(distinct order_id) as total_orders_per_day \n",
      "from pizza_sales\n",
      "group by DATENAME(DW , order_date) ; \n",
      "\n",
      "--- hourly sales trend of pizza \n",
      "\n",
      "\n",
      "select datepart(hour,order_time) as orders_hours , count(distinct order_id) as total_order_per_hours \n",
      "from pizza_sales \n",
      "group by datepart(hour,order_time) \n",
      "order by datepart(hour,order_time) asc ; \n",
      "\n",
      "\n",
      "--- monthly trend for sales order\n",
      "\n",
      "SELECT\n",
      "    DATEPART(YEAR, order_date) AS order_year,\n",
      "    DATEPART(MONTH, order_date) AS order_month,\n",
      "    COUNT(DISTINCT order_id) AS total_orders_per_month\n",
      "FROM\n",
      "    pizza_sales\n",
      "GROUP BY  \n",
      "    DATEPART(YEAR, order_date),\n",
      "    DATEPART(MONTH, order_date)\n",
      "ORDER BY\n",
      "    order_year,\n",
      "    order_month;\n",
      "\n",
      "use [Pizza_sales_db ];\n",
      "\tselect * from pizza_sales ; \n",
      "\n",
      "select pizza_category , round(sum(total_price),2)as total_sales , round(sum(total_price)* 100 / (select sum(total_price) from pizza_sales),2)  as total_sales_percentage \n",
      "from pizza_sales\n",
      "group by pizza_category\n",
      "\n",
      "\n",
      "\n",
      "--- wrt particular month(octomber)  \n",
      "\n",
      "select pizza_category , round(sum(total_price),2)as total_sales_octomber  , round(sum(total_price)* 100 / (select sum(total_price) from pizza_sales),2)  as total_sales_percentage_for_octomber  \n",
      "from pizza_sales\n",
      "where month(order_date)= 10 \n",
      "group by pizza_category \n",
      "\n",
      "\n",
      "-- daily week dayas of sales trend in month of february \n",
      "\n",
      "select DATENAME(DW , order_date) as order_day , count(distinct order_id) as total_orders_per_day \n",
      "from pizza_sales\n",
      "where month(order_date)= 2\n",
      "group by DATENAME(DW , order_date) ; \n",
      "\n",
      "\n",
      "--- hourly sales trends of pizza where in month of january \n",
      "\n",
      "select datepart(hour,order_time) as orders_hours , count(distinct order_id) as total_order_per_hours \n",
      "from pizza_sales \n",
      "where month(order_date)= 1\n",
      "group by datepart(hour,order_time) \n",
      "order by datepart(hour,order_time) asc ; \n",
      "\n",
      "\n",
      "\n",
      "--- here it is total oreder in the 4th quarter \n",
      "\n",
      "select DATENAME(DW , order_date) as order_day , count(distinct order_id) as total_orders_per_day \n",
      "from pizza_sales\n",
      "where datepart(QUARTER,order_date)= 4\n",
      "group by DATENAME(DW , order_date) ; \n",
      "\n",
      "\n",
      "\n",
      "--- percentage of sales by pizza size \n",
      "\n",
      "select * from pizza_sales \n",
      "\n",
      "\n",
      "-- sales percentage of pizz by pizza size \n",
      "\n",
      "select  pizza_size, round(sum(total_price),2)as total_sales , round(sum(total_price)* 100 / (select sum(total_price) from pizza_sales),2)  as total_sales_percentage \n",
      "from pizza_sales\n",
      "group by  pizza_size \n",
      "order by total_sales desc \n",
      "\n",
      "\n",
      "-- sales percentage of pizza by category \n",
      "\n",
      "select pizza_category , round(sum(total_price),2) as total_sales , round(sum(total_price)*100 /(select sum(total_price) from pizza_sales),2 ) as sales_pizza_category \n",
      "from pizza_sales \n",
      "group by pizza_category\n",
      "order by total_sales desc  \n",
      "\n",
      "\n",
      "\n",
      "select pizza_category , round(sum(total_price),2) as total_sales , round(sum(total_price)*100 /(select sum(total_price) from pizza_sales),2 ) as sales_pizza_category \n",
      "from pizza_sales \n",
      "where datepart(QUARTER,order_date)= 4\n",
      "group by pizza_category\n",
      "order by total_sales desc ;\n",
      "\n",
      "\n",
      "\n",
      "\n",
      "use [Pizza_sales_db ];\n",
      "\tselect * from pizza_sales ; \n",
      "\n",
      "\n",
      "--- top 5 best selller total pizzas sold \n",
      "\n",
      "\n",
      "select top 5  pizza_name ,sum(quantity) as total_quantity \n",
      "from pizza_sales \n",
      "group by pizza_name \n",
      "order by sum(quantity) desc ;\n",
      "\n",
      "\n",
      "\n",
      "\n",
      "--- bottom  5 best selller total pizzas sold \n",
      "\n",
      "\n",
      "select top 5  pizza_name ,sum(quantity) as total_quantity \n",
      "from pizza_sales \n",
      "group by pizza_name \n",
      "order by sum(quantity)  ;\n",
      "\n",
      "\n",
      "-- how much sales is there in in hour time for a year with respect to category of pizza \n",
      "\n",
      "select datepart(hour,order_time) as time_sale  ,pizza_category, round(sum(total_price),2) as total_sale , round(sum(total_price)*100/(select sum(total_price) from pizza_sales),2) as total_percent_of_sale_by_size \n",
      "from pizza_sales \n",
      "group by datepart(hour,order_time) , pizza_category \n",
      "order by time_sale                                                                                             \n"
     ]
    }
   ],
   "source": [
    "file = open('e:\\SQL\\SQL_Project\\sql_project_6_pizza_sales\\pizza_sales.txt','r')\n",
    "\n",
    "data=file.read()\n",
    "\n",
    "print(data)\n",
    "\n",
    "file.close()"
   ]
  },
  {
   "cell_type": "code",
   "execution_count": null,
   "metadata": {},
   "outputs": [],
   "source": [
    "\"\"\"r= is open for reading \n",
    "\n",
    "w = open for writing \n",
    "\n",
    "a = open for appending \n",
    "\n",
    "+ = is open for updating \"\"\" \n",
    "\n",
    "\n",
    "\" rb \" == ' is open for reading in binary file ' \n",
    "\n",
    "\" rt \" == ' is open for reading in txt mode '"
   ]
  },
  {
   "cell_type": "code",
   "execution_count": 1,
   "metadata": {},
   "outputs": [],
   "source": [
    "# writing in txt file \n",
    "\n",
    "file=open('write.txt','w')\n",
    "\n",
    "file.write(\" hi everyone we are in write.txt file we crete it in python program and these file is automatically get created \")\n",
    "\n",
    "file.close()"
   ]
  },
  {
   "cell_type": "code",
   "execution_count": 1,
   "metadata": {},
   "outputs": [],
   "source": [
    "file=open(\"file_writing.txt\" ,'w')\n",
    "file.write(\" hi my name is xyz i am writing these these using python language \")\n",
    "file.close()"
   ]
  },
  {
   "cell_type": "code",
   "execution_count": 3,
   "metadata": {},
   "outputs": [],
   "source": [
    "# if you want to append another content in existing file then you have to use append menthod \n",
    "\n",
    "\n",
    "file=open(\"file_writing.txt\" ,'a')\n",
    "file.write(\" \\nnow we are using the append function through which we can add the content in existing file so, \\n by using we can add more content in file \")\n",
    "file.close()"
   ]
  },
  {
   "cell_type": "code",
   "execution_count": 2,
   "metadata": {},
   "outputs": [
    {
     "name": "stdout",
     "output_type": "stream",
     "text": [
      " hi my name is xyz i am writing these these using python language  noe we are using the append function through which we can add the content in existing file so, \n",
      " by using we can add more content in file  \n",
      "now we are using the append function through which we can add the content in existing file so, \n",
      " by using we can add more content in file \n"
     ]
    }
   ],
   "source": [
    "\n",
    "file=open(\"file_writing.txt\" ,'r') \n",
    "data=file.read() \n",
    "print(data)\n",
    "file.close()\n"
   ]
  },
  {
   "cell_type": "markdown",
   "metadata": {},
   "source": [
    "###  With statment  "
   ]
  },
  {
   "cell_type": "code",
   "execution_count": 4,
   "metadata": {},
   "outputs": [
    {
     "name": "stdout",
     "output_type": "stream",
     "text": [
      " hi my name is xyz i am writing these these using python language  noe we are using the append function through which we can add the content in existing file so, \n",
      " by using we can add more content in file  \n",
      "now we are using the append function through which we can add the content in existing file so, \n",
      " by using we can add more content in file \n"
     ]
    }
   ],
   "source": [
    "with open(\"file_writing.txt\"  ,'r') as f :\n",
    "    a=f.read() \n",
    "    print(a) \n",
    "    \n",
    "    \n",
    "    \n",
    "    # here we dont need to add f.close()"
   ]
  },
  {
   "cell_type": "code",
   "execution_count": 1,
   "metadata": {},
   "outputs": [
    {
     "name": "stdout",
     "output_type": "stream",
     "text": [
      "select * from pizza_sales ;\n",
      "\n",
      "-- select total no pizza sales \n",
      "\n",
      "select sum(total_price) as total_revenue \n",
      "from pizza_sales ;\n",
      "\n",
      "-- select avg order per value \n",
      "\n",
      "select\tsum(total_price) / count(distinct order_id)  as avg_order_value \n",
      "from Pizza_sales ;\n",
      "\n",
      "-- Total Quantity of pizzas sold \n",
      "\n",
      "select sum(quantity) as total_pizza_sold \n",
      "from pizza_sales ; \n",
      "\n",
      "\n",
      "-- \n",
      "\n",
      "select * from pizza_sales ;\n",
      "\n",
      "-- total order placed \n",
      "\n",
      "select count(distinct order_id ) as total_order_placed_till_now \n",
      "from pizza_sales\n",
      "\n",
      "\n",
      "--- avg pizza  per order \n",
      "\n",
      "select sum(quantity) / count(distinct order_id) as avg_pizza_sold_per_order \n",
      "from pizza_sales\n",
      "\t\n",
      "\n",
      "\n",
      "--- Daily Trend for total order per day \n",
      "\n",
      "select DATENAME(DW , order_date) as order_day , count(distinct order_id) as total_orders_per_day \n",
      "from pizza_sales\n",
      "group by DATENAME(DW , order_date) ; \n",
      "\n",
      "--- hourly sales trend of pizza \n",
      "\n",
      "\n",
      "select datepart(hour,order_time) as orders_hours , count(distinct order_id) as total_order_per_hours \n",
      "from pizza_sales \n",
      "group by datepart(hour,order_time) \n",
      "order by datepart(hour,order_time) asc ; \n",
      "\n",
      "\n",
      "--- monthly trend for sales order\n",
      "\n",
      "SELECT\n",
      "    DATEPART(YEAR, order_date) AS order_year,\n",
      "    DATEPART(MONTH, order_date) AS order_month,\n",
      "    COUNT(DISTINCT order_id) AS total_orders_per_month\n",
      "FROM\n",
      "    pizza_sales\n",
      "GROUP BY  \n",
      "    DATEPART(YEAR, order_date),\n",
      "    DATEPART(MONTH, order_date)\n",
      "ORDER BY\n",
      "    order_year,\n",
      "    order_month;\n",
      "\n",
      "use [Pizza_sales_db ];\n",
      "\tselect * from pizza_sales ; \n",
      "\n",
      "select pizza_category , round(sum(total_price),2)as total_sales , round(sum(total_price)* 100 / (select sum(total_price) from pizza_sales),2)  as total_sales_percentage \n",
      "from pizza_sales\n",
      "group by pizza_category\n",
      "\n",
      "\n",
      "\n",
      "--- wrt particular month(octomber)  \n",
      "\n",
      "select pizza_category , round(sum(total_price),2)as total_sales_octomber  , round(sum(total_price)* 100 / (select sum(total_price) from pizza_sales),2)  as total_sales_percentage_for_octomber  \n",
      "from pizza_sales\n",
      "where month(order_date)= 10 \n",
      "group by pizza_category \n",
      "\n",
      "\n",
      "-- daily week dayas of sales trend in month of february \n",
      "\n",
      "select DATENAME(DW , order_date) as order_day , count(distinct order_id) as total_orders_per_day \n",
      "from pizza_sales\n",
      "where month(order_date)= 2\n",
      "group by DATENAME(DW , order_date) ; \n",
      "\n",
      "\n",
      "--- hourly sales trends of pizza where in month of january \n",
      "\n",
      "select datepart(hour,order_time) as orders_hours , count(distinct order_id) as total_order_per_hours \n",
      "from pizza_sales \n",
      "where month(order_date)= 1\n",
      "group by datepart(hour,order_time) \n",
      "order by datepart(hour,order_time) asc ; \n",
      "\n",
      "\n",
      "\n",
      "--- here it is total oreder in the 4th quarter \n",
      "\n",
      "select DATENAME(DW , order_date) as order_day , count(distinct order_id) as total_orders_per_day \n",
      "from pizza_sales\n",
      "where datepart(QUARTER,order_date)= 4\n",
      "group by DATENAME(DW , order_date) ; \n",
      "\n",
      "\n",
      "\n",
      "--- percentage of sales by pizza size \n",
      "\n",
      "select * from pizza_sales \n",
      "\n",
      "\n",
      "-- sales percentage of pizz by pizza size \n",
      "\n",
      "select  pizza_size, round(sum(total_price),2)as total_sales , round(sum(total_price)* 100 / (select sum(total_price) from pizza_sales),2)  as total_sales_percentage \n",
      "from pizza_sales\n",
      "group by  pizza_size \n",
      "order by total_sales desc \n",
      "\n",
      "\n",
      "-- sales percentage of pizza by category \n",
      "\n",
      "select pizza_category , round(sum(total_price),2) as total_sales , round(sum(total_price)*100 /(select sum(total_price) from pizza_sales),2 ) as sales_pizza_category \n",
      "from pizza_sales \n",
      "group by pizza_category\n",
      "order by total_sales desc  \n",
      "\n",
      "\n",
      "\n",
      "select pizza_category , round(sum(total_price),2) as total_sales , round(sum(total_price)*100 /(select sum(total_price) from pizza_sales),2 ) as sales_pizza_category \n",
      "from pizza_sales \n",
      "where datepart(QUARTER,order_date)= 4\n",
      "group by pizza_category\n",
      "order by total_sales desc ;\n",
      "\n",
      "\n",
      "\n",
      "\n",
      "use [Pizza_sales_db ];\n",
      "\tselect * from pizza_sales ; \n",
      "\n",
      "\n",
      "--- top 5 best selller total pizzas sold \n",
      "\n",
      "\n",
      "select top 5  pizza_name ,sum(quantity) as total_quantity \n",
      "from pizza_sales \n",
      "group by pizza_name \n",
      "order by sum(quantity) desc ;\n",
      "\n",
      "\n",
      "\n",
      "\n",
      "--- bottom  5 best selller total pizzas sold \n",
      "\n",
      "\n",
      "select top 5  pizza_name ,sum(quantity) as total_quantity \n",
      "from pizza_sales \n",
      "group by pizza_name \n",
      "order by sum(quantity)  ;\n",
      "\n",
      "\n",
      "-- how much sales is there in in hour time for a year with respect to category of pizza \n",
      "\n",
      "select datepart(hour,order_time) as time_sale  ,pizza_category, round(sum(total_price),2) as total_sale , round(sum(total_price)*100/(select sum(total_price) from pizza_sales),2) as total_percent_of_sale_by_size \n",
      "from pizza_sales \n",
      "group by datepart(hour,order_time) , pizza_category \n",
      "order by time_sale                                                                                             \n"
     ]
    },
    {
     "name": "stderr",
     "output_type": "stream",
     "text": [
      "<>:1: SyntaxWarning: invalid escape sequence '\\S'\n",
      "<>:1: SyntaxWarning: invalid escape sequence '\\S'\n",
      "C:\\Users\\Jayraj\\AppData\\Local\\Temp\\ipykernel_13712\\28625986.py:1: SyntaxWarning: invalid escape sequence '\\S'\n",
      "  with open('e:\\SQL\\SQL_Project\\sql_project_6_pizza_sales\\pizza_sales.txt', 'r') as f :\n"
     ]
    }
   ],
   "source": [
    "with open('e:\\SQL\\SQL_Project\\sql_project_6_pizza_sales\\pizza_sales.txt', 'r') as f :\n",
    "    a=f.read()\n",
    "    print(a)"
   ]
  },
  {
   "cell_type": "code",
   "execution_count": 2,
   "metadata": {},
   "outputs": [
    {
     "name": "stdout",
     "output_type": "stream",
     "text": [
      "62\n"
     ]
    }
   ],
   "source": [
    "with open(\"xyz.txt\" , 'w') as f :\n",
    "    a=f.write(\" by using with statement we are writing in these xyz.txt file \")\n",
    "    print(a)"
   ]
  },
  {
   "cell_type": "code",
   "execution_count": 3,
   "metadata": {},
   "outputs": [],
   "source": [
    "with open('xyz.txt', 'a') as f :\n",
    "    f.write(\"hiiiiiiiiiiiiiiiiiiiiiiiiiiiiiiiiiiiiiiiiiiiiiiiiiiiiiiiiiiiiiiiiiiiiiiiiiiii\") \n",
    "    f.close()\n",
    "    "
   ]
  },
  {
   "cell_type": "code",
   "execution_count": 3,
   "metadata": {},
   "outputs": [
    {
     "name": "stdout",
     "output_type": "stream",
     "text": [
      " by using with statement we are writing in these xyz.txt file hiiiiiiiiiiiiiiiiiiiiiiiiiiiiiiiiiiiiiiiiiiiiiiiiiiiiiiiiiiiiiiiiiiiiiiiiiiii\n",
      " these is new line here 1\n"
     ]
    }
   ],
   "source": [
    "with open('xyz.txt' , 'r') as f:\n",
    "    a=f.read()\n",
    "    print(a)"
   ]
  },
  {
   "cell_type": "code",
   "execution_count": 2,
   "metadata": {},
   "outputs": [],
   "source": [
    "with open(\"xyz.txt\" , \"a\") as f :\n",
    "    f.write(\"\\n these is new line here 1\" )\n",
    "    "
   ]
  },
  {
   "cell_type": "code",
   "execution_count": 7,
   "metadata": {},
   "outputs": [],
   "source": [
    "with open(\"xyz.txt\" , \"a\") as f :\n",
    "    f.write(\"\\n these is 2nd new line here no 2 \" )"
   ]
  },
  {
   "cell_type": "code",
   "execution_count": 9,
   "metadata": {},
   "outputs": [
    {
     "name": "stdout",
     "output_type": "stream",
     "text": [
      " by using with statement we are writing in these xyz.txt file hiiiiiiiiiiiiiiiiiiiiiiiiiiiiiiiiiiiiiiiiiiiiiiiiiiiiiiiiiiiiiiiiiiiiiiiiiiii\n",
      " these is new line here 1\n",
      " these is 2nd new line here no 2 \n",
      " these is 2nd new line here no 2 \n"
     ]
    }
   ],
   "source": [
    "with open(\"xyz.txt\" , \"r\") as f :\n",
    "    all_line=f.read()\n",
    "    \n",
    "    print(all_line)"
   ]
  },
  {
   "cell_type": "code",
   "execution_count": 8,
   "metadata": {},
   "outputs": [
    {
     "name": "stdout",
     "output_type": "stream",
     "text": [
      " these word is present in file1\n"
     ]
    }
   ],
   "source": [
    "# write programe yo check \" 'language'\" word id present in  \"file_writing.txt\"  function \n",
    "\n",
    "file=open(\"file_writing.txt\")\n",
    "\n",
    "file1=file.read()\n",
    "\n",
    "if 'language' in file1:\n",
    "    print(\" these word is present in file1\")\n",
    "else:\n",
    "    print(\" these word is not present in these file \") "
   ]
  },
  {
   "cell_type": "code",
   "execution_count": 9,
   "metadata": {},
   "outputs": [
    {
     "name": "stdout",
     "output_type": "stream",
     "text": [
      " these word is not present in these file \n"
     ]
    }
   ],
   "source": [
    "\n",
    "file=open(\"file_writing.txt\")\n",
    "\n",
    "file.read()\n",
    "\n",
    "if 'language' in file:\n",
    "    print(\" these word is present in file1\")\n",
    "else:\n",
    "    print(\" these word is not present in these file \") "
   ]
  },
  {
   "cell_type": "code",
   "execution_count": 12,
   "metadata": {},
   "outputs": [],
   "source": [
    "def game():\n",
    "    return 890\n",
    "\n",
    "score=game()\n",
    "with open(\"class_marks.txt\") as f :\n",
    "   highscore=int(f.read()) \n",
    "\n",
    "if highscore<score:\n",
    "    with open(\"class_marks.txt\",'w') as f :\n",
    "        f.write(str(score))"
   ]
  },
  {
   "cell_type": "code",
   "execution_count": 13,
   "metadata": {},
   "outputs": [
    {
     "name": "stdout",
     "output_type": "stream",
     "text": [
      "new directory is created name is DL_folder\n"
     ]
    }
   ],
   "source": [
    "import os \n",
    "\n",
    "new_directory= \"DL_folder\"\n",
    "\n",
    "os.mkdir(new_directory )\n",
    "\n",
    "print(f\"new directory is created name is {new_directory}\")"
   ]
  },
  {
   "cell_type": "code",
   "execution_count": 15,
   "metadata": {},
   "outputs": [
    {
     "name": "stdout",
     "output_type": "stream",
     "text": [
      ".git\n",
      "1.python_basic.ipynb\n",
      "10.oops_concept.ipynb\n",
      "11.exception_handling.ipynb\n",
      "12.__name__==__main__.ipynb\n",
      "13.global_keyward_listC.ipynb\n",
      "14.requirement.txt\n",
      "14.virtual_environment.ipynb\n",
      "15.lamda_func.ipynb\n",
      "16.join_map_filter_reduce.ipynb\n",
      "17.flask.ipynb\n",
      "17.flask.py\n",
      "18.laibrary_mangement _system.ipynb\n",
      "2.operators_in_python.ipynb\n",
      "3.inputs_in_python.ipynb\n",
      "4.list&Tuple.ipynb\n",
      "5.sets&dictionary&matchCase.ipynb\n",
      "6.if_else_while_for.ipynb\n",
      "7.functions.ipynb\n",
      "8.file_input_output.ipynb\n",
      "9.opps.ipynb\n",
      "class_marks.txt\n",
      "cwh\n",
      "DL_folder\n",
      "file_writing.txt\n",
      "flask\n",
      "highscore.txt\n",
      "index.html\n",
      "modules\n",
      "practise_set\n",
      "python_notes\n",
      "Python_Projects_in_VS\n",
      "stremlit\n",
      "vr.py\n",
      "write.txt\n",
      "xyz.txt\n",
      "__main__\n",
      "__pycache__\n"
     ]
    }
   ],
   "source": [
    "# list of file and directory \n",
    "\n",
    "items=os.listdir('.')  \n",
    "\n",
    "for item in items :\n",
    "    print(item)"
   ]
  },
  {
   "cell_type": "code",
   "execution_count": 17,
   "metadata": {},
   "outputs": [
    {
     "name": "stdout",
     "output_type": "stream",
     "text": [
      "e:\\Python\\functions.ipynb\n"
     ]
    }
   ],
   "source": [
    "# we want to check the absolute path then \n",
    "\n",
    "relative_path =\"functions.ipynb\" \n",
    "\n",
    "absolute_path =os.path.abspath(relative_path) \n",
    "\n",
    "print(absolute_path)"
   ]
  },
  {
   "cell_type": "code",
   "execution_count": null,
   "metadata": {},
   "outputs": [],
   "source": []
  },
  {
   "cell_type": "code",
   "execution_count": null,
   "metadata": {},
   "outputs": [],
   "source": []
  }
 ],
 "metadata": {
  "kernelspec": {
   "display_name": "Python 3",
   "language": "python",
   "name": "python3"
  },
  "language_info": {
   "codemirror_mode": {
    "name": "ipython",
    "version": 3
   },
   "file_extension": ".py",
   "mimetype": "text/x-python",
   "name": "python",
   "nbconvert_exporter": "python",
   "pygments_lexer": "ipython3",
   "version": "3.12.0"
  }
 },
 "nbformat": 4,
 "nbformat_minor": 2
}
