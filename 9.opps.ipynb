{
 "cells": [
  {
   "cell_type": "code",
   "execution_count": 5,
   "metadata": {},
   "outputs": [
    {
     "ename": "IndentationError",
     "evalue": "expected an indented block after class definition on line 3 (134270244.py, line 5)",
     "output_type": "error",
     "traceback": [
      "\u001b[1;36m  Cell \u001b[1;32mIn [5], line 5\u001b[1;36m\u001b[0m\n\u001b[1;33m    obj=employe()\u001b[0m\n\u001b[1;37m    ^\u001b[0m\n\u001b[1;31mIndentationError\u001b[0m\u001b[1;31m:\u001b[0m expected an indented block after class definition on line 3\n"
     ]
    }
   ],
   "source": [
    "# create class name as employe \n",
    "\n",
    "class employe() :"
   ]
  },
  {
   "cell_type": "code",
   "execution_count": null,
   "metadata": {},
   "outputs": [],
   "source": [
    "class employe():\n",
    "    employe_name='xyz'"
   ]
  },
  {
   "cell_type": "code",
   "execution_count": 4,
   "metadata": {},
   "outputs": [
    {
     "data": {
      "text/plain": [
       "'xyz'"
      ]
     },
     "execution_count": 4,
     "metadata": {},
     "output_type": "execute_result"
    }
   ],
   "source": [
    "class employe():\n",
    "    employe_name='xyz'\n",
    "\n",
    "\n",
    "\n",
    "emp1=employe()   # crete object of class  \n",
    "emp1.employe_name"
   ]
  },
  {
   "cell_type": "code",
   "execution_count": 5,
   "metadata": {},
   "outputs": [],
   "source": [
    "# Class and Objects \n",
    "\n",
    "# 1. Classes are blueprint for creating an object\n",
    "# 2. Class is a prototype from which objects are created\n",
    "# 3. Object is an instance of a class\n",
    "# 4. Instance is a copy of the class with real values"
   ]
  },
  {
   "cell_type": "code",
   "execution_count": null,
   "metadata": {},
   "outputs": [],
   "source": [
    "# Object consists of - Identity,State, Behaviour\n",
    "\n",
    "# 1. State(Attributes) - Color of the car, Year of Manf, etc.   ( attribute of classes which can access by obj )\n",
    "# 2. Behaviour(Methods) - Different modes in a car like sports, traffic, etc.  ( method in class )\n",
    "# 3. Identity(name of object) - Name of the car     ( nmae of class )"
   ]
  },
  {
   "cell_type": "code",
   "execution_count": null,
   "metadata": {},
   "outputs": [],
   "source": [
    "# define a class \n",
    "\n",
    "class mahiindra:                 #class name(identity)\n",
    "    name=\"mahindra thar\" # these name is attribute of class (state)\n",
    "    \n",
    "    def car():                   # car() is behaviour(method) method is same as function \n",
    "        print(\"nowdays mahindra thar cell are acheving highest record\")"
   ]
  },
  {
   "cell_type": "code",
   "execution_count": 6,
   "metadata": {},
   "outputs": [
    {
     "name": "stdout",
     "output_type": "stream",
     "text": [
      " you are in the isro class \n"
     ]
    }
   ],
   "source": [
    "class isro() :\n",
    "    satelite=\"gaganyan\"\n",
    "    \n",
    "    print(f\" you are in the isro class \")\n",
    "    "
   ]
  },
  {
   "cell_type": "code",
   "execution_count": 7,
   "metadata": {},
   "outputs": [
    {
     "name": "stdout",
     "output_type": "stream",
     "text": [
      "gaganyan\n"
     ]
    }
   ],
   "source": [
    "# how to assinge object for isro class \n",
    "\n",
    "ind=isro()       # ind is object \n",
    "print(ind.satelite)      #here we are accsessing the name attribute of the class "
   ]
  },
  {
   "cell_type": "code",
   "execution_count": 13,
   "metadata": {},
   "outputs": [
    {
     "name": "stdout",
     "output_type": "stream",
     "text": [
      "comp\n",
      "comp\n"
     ]
    }
   ],
   "source": [
    "class sandip_f():\n",
    "    trade1=\"comp\"\n",
    "    trade2='electrical'\n",
    "    \n",
    "    def engg():\n",
    "        print( f\" you are in sandip_f class  with classs atribute \")\n",
    "        \n",
    "\n",
    "std1=sandip_f()\n",
    "std2=sandip_f()\n",
    "\n",
    "print(std1.trade1)    # we acsees same attribute var by using diff classes obj \n",
    "print(std2.trade1)"
   ]
  },
  {
   "cell_type": "code",
   "execution_count": 14,
   "metadata": {},
   "outputs": [
    {
     "data": {
      "text/plain": [
       "'electrical'"
      ]
     },
     "execution_count": 14,
     "metadata": {},
     "output_type": "execute_result"
    }
   ],
   "source": [
    "std1.trade2"
   ]
  },
  {
   "cell_type": "code",
   "execution_count": 15,
   "metadata": {},
   "outputs": [],
   "source": [
    "# self - is a refrence to the current   object\n",
    "# which is used to access the attributes of the class in a method  "
   ]
  },
  {
   "cell_type": "code",
   "execution_count": 1,
   "metadata": {},
   "outputs": [
    {
     "name": "stdout",
     "output_type": "stream",
     "text": [
      " you are in supercar class now in the method called car_name \n",
      " value is get passed to funtion is  Mahindra-Scorpio\n",
      "attribute having the value is  Mahindra-Scorpio\n"
     ]
    }
   ],
   "source": [
    "class supercar():\n",
    "    name =\"lamborghini\"\n",
    "    def car_name(self,name):\n",
    "        self.name=name \n",
    "        \n",
    "        print(\" you are in supercar class now in the method called car_name \")\n",
    "        print(f\" value is get passed to funtion is {name}\") \n",
    "        print(f\"attribute having the value is {self.name}\") \n",
    "        \n",
    "\n",
    "car1=supercar()\n",
    "car1.car_name(\" Mahindra-Scorpio\")\n",
    "\n",
    "# car1.car_name(\"scorpio\")"
   ]
  },
  {
   "cell_type": "code",
   "execution_count": 2,
   "metadata": {},
   "outputs": [
    {
     "data": {
      "text/plain": [
       "' Mahindra-Scorpio'"
      ]
     },
     "execution_count": 2,
     "metadata": {},
     "output_type": "execute_result"
    }
   ],
   "source": [
    "car1.name  "
   ]
  },
  {
   "cell_type": "code",
   "execution_count": 3,
   "metadata": {},
   "outputs": [
    {
     "data": {
      "text/plain": [
       "'lamborghini'"
      ]
     },
     "execution_count": 3,
     "metadata": {},
     "output_type": "execute_result"
    }
   ],
   "source": [
    "# if we assonge diff object for same class without giving any argument then .\n",
    "\n",
    "cars2=supercar()\n",
    "cars2.name      # by default we get "
   ]
  },
  {
   "cell_type": "code",
   "execution_count": 4,
   "metadata": {},
   "outputs": [
    {
     "data": {
      "text/plain": [
       "<bound method supercar.car_name of <__main__.supercar object at 0x00000277120B9F40>>"
      ]
     },
     "execution_count": 4,
     "metadata": {},
     "output_type": "execute_result"
    }
   ],
   "source": [
    "car3=supercar()\n",
    "car3.car_name"
   ]
  },
  {
   "cell_type": "code",
   "execution_count": 37,
   "metadata": {},
   "outputs": [
    {
     "name": "stdout",
     "output_type": "stream",
     "text": [
      " you are inside the country class \n",
      " You have selected Los_Angles \n",
      " by using method attrbute you have selected <bound method country.city of <__main__.country object at 0x0000021F19362950>>\n"
     ]
    }
   ],
   "source": [
    "# if we dont assinge self.name then ? \n",
    "\n",
    "class country:\n",
    "    city=\"New_York\"\n",
    "    def city(self ,city):\n",
    "        print( \" you are inside the country class \")\n",
    "        print(f\" You have selected {city} \")\n",
    "        print(f\" by using method attrbute you have selected {self.city}\")  # look \n",
    "    \n",
    "    \n",
    "    \n",
    "place=country()  \n",
    "\n",
    "place.city(\"Los_Angles\")"
   ]
  },
  {
   "cell_type": "code",
   "execution_count": 1,
   "metadata": {},
   "outputs": [
    {
     "name": "stdout",
     "output_type": "stream",
     "text": [
      "new_york\n",
      "you are in country function \n",
      "you selected == Los_angles\n",
      "by using attribute we use == new_york\n"
     ]
    }
   ],
   "source": [
    "class usa: \n",
    "    state=\"new_york\"\n",
    "    def country(self,state):\n",
    "        # self.state=state\n",
    "        print(\"you are in country function \")\n",
    "        print(f\"you selected == {state}\") \n",
    "        print(f\"by using attribute we use == {self.state}\")   # look \n",
    "        \n",
    "\n",
    "\n",
    "city=usa() \n",
    "print(city.state) # look  \n",
    "\n",
    "city.country(\"Los_angles\")"
   ]
  },
  {
   "cell_type": "code",
   "execution_count": 14,
   "metadata": {},
   "outputs": [
    {
     "name": "stdout",
     "output_type": "stream",
     "text": [
      " welcome  narendra modi you are working as  prime minister \n",
      "\n",
      " welcome akash you are working as software devloper\n",
      "\n",
      " welcome jayraj you are working as  AI Devloper\n",
      "\n",
      " welcome jayraj you are working as  backend devloper\n"
     ]
    }
   ],
   "source": [
    "class employe():\n",
    "    name='akash' \n",
    "    def say_hi(self,f_name):\n",
    "        self.name=f_name \n",
    "    def position(self, post):\n",
    "        print(f\" welcome {self.name} you are working as {post}\")\n",
    "        \n",
    "\n",
    "\n",
    "emp1=employe()\n",
    "emp1.say_hi(\" narendra modi\")        \n",
    "emp1.position(\" prime minister \") \n",
    "\n",
    "print()\n",
    "\n",
    "emp2=employe()\n",
    "emp2.position(\"software devloper\") \n",
    "\n",
    "print()\n",
    "\n",
    "emp1.say_hi(\"jayraj\")\n",
    "emp1.position(\" AI Devloper\") \n",
    "\n",
    "print()\n",
    "\n",
    "emp1.position(\" backend devloper\")  # look \"jayraj is saved last value as in say_hi() method \""
   ]
  },
  {
   "cell_type": "code",
   "execution_count": 46,
   "metadata": {},
   "outputs": [
    {
     "name": "stdout",
     "output_type": "stream",
     "text": [
      "the xuv700 car is best for all season bcoz it is suv model   \n",
      "\n",
      "the endevour car is best for all season bcoz it is regular model   \n",
      "the endevour car is best for all season bcoz it is lemozin model   \n",
      "\n",
      "the lamborghini car is best for all season bcoz it is hypercar model   \n"
     ]
    },
    {
     "data": {
      "text/plain": [
       "'endevour'"
      ]
     },
     "execution_count": 46,
     "metadata": {},
     "output_type": "execute_result"
    }
   ],
   "source": [
    "class car:\n",
    "    name=\"endevour\"\n",
    "    def funct(self,car_name):\n",
    "        self.name=car_name \n",
    "    def model_type(self,model):\n",
    "        self.model=model\n",
    "        print(f\"the {self.name} car is best for all season bcoz it is {self.model} model   \")\n",
    "            \n",
    "            \n",
    "my_car=car()\n",
    "my_car.funct(\"xuv700\")\n",
    "my_car.model_type(\"suv\") \n",
    "print()\n",
    "my_car1=car()\n",
    "my_car1.model_type(\"regular\")\n",
    "emp=car()\n",
    "emp.model_type(\"lemozin\")\n",
    "print()\n",
    "emp2=car()\n",
    "emp2.funct(\"lamborghini\")\n",
    "emp2.model_type(\"hypercar\") \n",
    "\n",
    "emp3=car()\n",
    "emp3.name               #<---watch here  by default you have assinge endevour "
   ]
  },
  {
   "cell_type": "markdown",
   "metadata": {},
   "source": [
    "__init__function - this is a constructor which is used to initialize the values of the class attributes. This function is invoked as soon as an object is created"
   ]
  },
  {
   "cell_type": "code",
   "execution_count": null,
   "metadata": {},
   "outputs": [],
   "source": [
    "#  as we creaet object __init__ also is get created  \n",
    "\n",
    "# Define a simple class\n",
    "class Car:\n",
    "    def __init__(self, make, model):\n",
    "        self.make = make  # Attribute\n",
    "        self.model = model  # Attribute\n",
    "\n",
    "    def display_info(self):\n",
    "        print(f\"{self.make} {self.model}\")\n"
   ]
  },
  {
   "cell_type": "code",
   "execution_count": 20,
   "metadata": {},
   "outputs": [
    {
     "name": "stdout",
     "output_type": "stream",
     "text": [
      " you have selcted company TATA and model is SAFARI\n"
     ]
    }
   ],
   "source": [
    "# define a simple class \n",
    "\n",
    "class car :\n",
    "    def __init__(self , make, model ) :\n",
    "        self.make=make   # attribute \n",
    "        self.model=model # attribute \n",
    "    def display_info(self):\n",
    "        print(f\" you have selcted company {self.make} and model is {self.model}\")\n",
    "        \n",
    "        \n",
    "select=car(\"TATA\",\"SAFARI\") \n",
    "\n",
    "select.display_info()"
   ]
  },
  {
   "cell_type": "code",
   "execution_count": 25,
   "metadata": {},
   "outputs": [
    {
     "name": "stdout",
     "output_type": "stream",
     "text": [
      "Toyota\n",
      "Accord\n"
     ]
    }
   ],
   "source": [
    "class car :\n",
    "    def __init__(self , make, model ) :\n",
    "        self.make=make   # attribute \n",
    "        self.model=model # attribute \n",
    "    def display_info(self):\n",
    "        print(f\" you have selcted company {self.make} and model is {self.model}\")\n",
    "\n",
    "\n",
    "\n",
    "\n",
    "\n",
    "# Create instances of the Car class\n",
    "car1 = car(\"Toyota\", \"Camry\")\n",
    "car2 = car(\"Honda\", \"Accord\")\n",
    "\n",
    "\n",
    "# Access attributes\n",
    "print(car1.make) \n",
    "print(car2.model) "
   ]
  },
  {
   "cell_type": "code",
   "execution_count": 26,
   "metadata": {},
   "outputs": [
    {
     "name": "stdout",
     "output_type": "stream",
     "text": [
      " you have selcted company Toyota and model is Camry\n",
      " you have selcted company Honda and model is Accord\n"
     ]
    }
   ],
   "source": [
    "car1.display_info() \n",
    "car2.display_info() "
   ]
  },
  {
   "cell_type": "code",
   "execution_count": 33,
   "metadata": {},
   "outputs": [
    {
     "name": "stdout",
     "output_type": "stream",
     "text": [
      "__init__ metod invoke\n",
      " hi my name is narendra my age is 62 i from gujrat city \n",
      "__init__ metod invoke\n",
      " hi my name is amit my age is 58 i from gujrat city \n"
     ]
    }
   ],
   "source": [
    "class person_info():\n",
    "    def __init__(self, name ,age, city):  #this is a constructor\n",
    "        print(\"__init__ metod invoke\")\n",
    "        self.name=name\n",
    "        self.age=age \n",
    "        self.city=city \n",
    "    def display_info(self):\n",
    "        print(f\" hi my name is {self.name} my age is {self.age} i from {self.city} city \")\n",
    "        \n",
    "\n",
    "p1=person_info('narendra','62','gujrat') #this will send the values to the __init__() which will store them in the respective attributes\n",
    "p1.display_info() \n",
    "\n",
    "p2=person_info('amit','58','gujrat')\n",
    "p2.display_info()"
   ]
  },
  {
   "cell_type": "code",
   "execution_count": 40,
   "metadata": {},
   "outputs": [
    {
     "name": "stdout",
     "output_type": "stream",
     "text": [
      "narendra\n",
      "62\n",
      "amit\n",
      "gujrat\n"
     ]
    }
   ],
   "source": [
    "for i in (p1.name ,p1.age,p2.name,p2.city):\n",
    "    print(i)"
   ]
  },
  {
   "cell_type": "code",
   "execution_count": 3,
   "metadata": {},
   "outputs": [
    {
     "data": {
      "text/plain": [
       "452.16"
      ]
     },
     "execution_count": 3,
     "metadata": {},
     "output_type": "execute_result"
    }
   ],
   "source": [
    "class Circle:\n",
    "    def __init__(self, radius):\n",
    "        self.radius = radius\n",
    "\n",
    "    def area(self):\n",
    "        return 3.14 * self.radius ** 2\n",
    "    \n",
    "    \n",
    "t1=Circle(12)\n",
    "t1.area()"
   ]
  },
  {
   "cell_type": "code",
   "execution_count": 6,
   "metadata": {},
   "outputs": [
    {
     "name": "stdout",
     "output_type": "stream",
     "text": [
      "you hav enter :\n",
      " lenght = 12 \n",
      " breath =89 \n",
      " height=78 \n"
     ]
    },
    {
     "data": {
      "text/plain": [
       "'area of rectangle is :83304'"
      ]
     },
     "execution_count": 6,
     "metadata": {},
     "output_type": "execute_result"
    }
   ],
   "source": [
    "# AREA of rectangle is \n",
    "\n",
    "\n",
    "class area:\n",
    "    def __init__(self, length , breath, height):\n",
    "        self.length=length\n",
    "        self.breath=breath \n",
    "        self.height=height\n",
    "    \n",
    "    def sol(self):\n",
    "        print(f\"you hav enter :\\n lenght = {self.length} \\n breath ={self.breath} \\n height={self.height} \")\n",
    "        return f\"area of rectangle is :{self.length*self.breath*self.height}\" \n",
    "    \n",
    "    \n",
    "a=area(12,89,78) \n",
    "a.sol()"
   ]
  },
  {
   "cell_type": "markdown",
   "metadata": {},
   "source": [
    "delete object proprties "
   ]
  },
  {
   "cell_type": "code",
   "execution_count": 43,
   "metadata": {},
   "outputs": [
    {
     "ename": "AttributeError",
     "evalue": "'person_info' object has no attribute 'name'",
     "output_type": "error",
     "traceback": [
      "\u001b[1;31m---------------------------------------------------------------------------\u001b[0m",
      "\u001b[1;31mAttributeError\u001b[0m                            Traceback (most recent call last)",
      "\u001b[1;32me:\\Python\\9.opps.ipynb Cell 25\u001b[0m line \u001b[0;36m1\n\u001b[1;32m----> <a href='vscode-notebook-cell:/e%3A/Python/9.opps.ipynb#X33sZmlsZQ%3D%3D?line=0'>1</a>\u001b[0m \u001b[39mprint\u001b[39m(p1\u001b[39m.\u001b[39;49mname) \n\u001b[0;32m      <a href='vscode-notebook-cell:/e%3A/Python/9.opps.ipynb#X33sZmlsZQ%3D%3D?line=2'>3</a>\u001b[0m \u001b[39mdel\u001b[39;00m p1\u001b[39m.\u001b[39mname \n\u001b[0;32m      <a href='vscode-notebook-cell:/e%3A/Python/9.opps.ipynb#X33sZmlsZQ%3D%3D?line=4'>5</a>\u001b[0m \u001b[39mprint\u001b[39m(p1\u001b[39m.\u001b[39mname)\n",
      "\u001b[1;31mAttributeError\u001b[0m: 'person_info' object has no attribute 'name'"
     ]
    }
   ],
   "source": [
    "print(p1.name) \n",
    "\n",
    "del p1.name \n",
    "\n",
    "print(p1.name)   # look "
   ]
  },
  {
   "cell_type": "code",
   "execution_count": 44,
   "metadata": {},
   "outputs": [
    {
     "ename": "AttributeError",
     "evalue": "'person_info' object has no attribute 'name'",
     "output_type": "error",
     "traceback": [
      "\u001b[1;31m---------------------------------------------------------------------------\u001b[0m",
      "\u001b[1;31mAttributeError\u001b[0m                            Traceback (most recent call last)",
      "\u001b[1;32me:\\Python\\9.opps.ipynb Cell 26\u001b[0m line \u001b[0;36m1\n\u001b[1;32m----> <a href='vscode-notebook-cell:/e%3A/Python/9.opps.ipynb#X40sZmlsZQ%3D%3D?line=0'>1</a>\u001b[0m p1\u001b[39m.\u001b[39;49mdisplay_info()\n",
      "\u001b[1;32me:\\Python\\9.opps.ipynb Cell 26\u001b[0m line \u001b[0;36m8\n\u001b[0;32m      <a href='vscode-notebook-cell:/e%3A/Python/9.opps.ipynb#X40sZmlsZQ%3D%3D?line=6'>7</a>\u001b[0m \u001b[39mdef\u001b[39;00m \u001b[39mdisplay_info\u001b[39m(\u001b[39mself\u001b[39m):\n\u001b[1;32m----> <a href='vscode-notebook-cell:/e%3A/Python/9.opps.ipynb#X40sZmlsZQ%3D%3D?line=7'>8</a>\u001b[0m     \u001b[39mprint\u001b[39m(\u001b[39mf\u001b[39m\u001b[39m\"\u001b[39m\u001b[39m hi my name is \u001b[39m\u001b[39m{\u001b[39;00m\u001b[39mself\u001b[39m\u001b[39m.\u001b[39mname\u001b[39m}\u001b[39;00m\u001b[39m my age is \u001b[39m\u001b[39m{\u001b[39;00m\u001b[39mself\u001b[39m\u001b[39m.\u001b[39mage\u001b[39m}\u001b[39;00m\u001b[39m i from \u001b[39m\u001b[39m{\u001b[39;00m\u001b[39mself\u001b[39m\u001b[39m.\u001b[39mcity\u001b[39m}\u001b[39;00m\u001b[39m city \u001b[39m\u001b[39m\"\u001b[39m)\n",
      "\u001b[1;31mAttributeError\u001b[0m: 'person_info' object has no attribute 'name'"
     ]
    }
   ],
   "source": [
    "p1.display_info()  # look \n",
    "\n",
    "#  error is AttributeError: 'person_info' object has no attribute 'name'"
   ]
  },
  {
   "cell_type": "code",
   "execution_count": 45,
   "metadata": {},
   "outputs": [
    {
     "name": "stdout",
     "output_type": "stream",
     "text": [
      " hi my name is amit my age is 58 i from gujrat city \n"
     ]
    }
   ],
   "source": [
    "p2.display_info()"
   ]
  },
  {
   "cell_type": "markdown",
   "metadata": {},
   "source": [
    "## inheritance"
   ]
  },
  {
   "cell_type": "code",
   "execution_count": 55,
   "metadata": {},
   "outputs": [],
   "source": [
    "class tree:  # parent class \n",
    "    def __init__ (self , name):\n",
    "        self.name=name \n",
    "        print(f\"you are inside parent function\")  \n",
    "        \n",
    "class apple(tree): # child class\n",
    "    pass   \n",
    "                "
   ]
  },
  {
   "cell_type": "code",
   "execution_count": 57,
   "metadata": {},
   "outputs": [
    {
     "name": "stdout",
     "output_type": "stream",
     "text": [
      "you are inside parent class \n",
      " hello youare in parent class and name is narendra modi\n"
     ]
    }
   ],
   "source": [
    "class tree:\n",
    "    def __init__ (self , name):\n",
    "        self.name=name \n",
    "        print(f\"you are inside parent class \") \n",
    "    \n",
    "    def display(self):\n",
    "        print(f\" hello you are in parent class and name is {self.name}\") \n",
    "        \n",
    "        \n",
    "        \n",
    "t1=tree(\"narendra modi\")\n",
    "t1.display()\n",
    "        \n",
    "    \n",
    "        \n",
    "class apple(tree):     # child class  # these apple class will inhert tree class property \n",
    "    print(\"you are inside the  child class\" ) \n",
    "   "
   ]
  },
  {
   "cell_type": "code",
   "execution_count": 59,
   "metadata": {},
   "outputs": [
    {
     "name": "stdout",
     "output_type": "stream",
     "text": [
      "you are inside parent class \n",
      " hello youare in parent class and name is  rahul gandhi\n"
     ]
    }
   ],
   "source": [
    "c1=apple(\" rahul gandhi\")       # we can acees all value from parent class \n",
    "c1.display()"
   ]
  },
  {
   "cell_type": "code",
   "execution_count": 7,
   "metadata": {},
   "outputs": [
    {
     "name": "stdout",
     "output_type": "stream",
     "text": [
      " you are inside child class \n",
      " youu are inside parent class now \n",
      "you are inside emp child class dis method()\n",
      " hi , employe name is sandip and employe age is 45\n"
     ]
    }
   ],
   "source": [
    "class person :\n",
    "    def __init__(self ,name) :\n",
    "        self.name=name\n",
    "        print(\" youu are inside parent class now \") \n",
    "        \n",
    "    def dis(self) :\n",
    "        print( f\" you are inside parent class  name is :{self.name}\")\n",
    "        \n",
    "        \n",
    "class emp(person):    # child class invoking properties of parent class \n",
    "    def __init__(self, name ,age):\n",
    "        print(\" you are inside child class \") \n",
    "        self.age=age\n",
    "        person.__init__(self,name)\n",
    "        \n",
    "        \n",
    "    def dis(self):\n",
    "        print(\"you are inside emp child class dis method()\")\n",
    "        print(f\" hi , employe name is {self.name} and employe age is {self.age}\")   \n",
    "        \n",
    "        \n",
    "        \n",
    "        \n",
    "        \n",
    "        \n",
    "e1=emp(\"sandip\",\"45\")\n",
    "e1.dis()\n",
    "        \n",
    " "
   ]
  },
  {
   "cell_type": "code",
   "execution_count": 69,
   "metadata": {},
   "outputs": [
    {
     "name": "stdout",
     "output_type": "stream",
     "text": [
      " youu are inside parent class now \n",
      " you are inside parent class  name is :akash\n"
     ]
    }
   ],
   "source": [
    "# only using parent class      \n",
    "e2= person(\"akash\")\n",
    "e2.dis()"
   ]
  },
  {
   "cell_type": "code",
   "execution_count": null,
   "metadata": {},
   "outputs": [],
   "source": [
    "class Person: #Parent Class\n",
    "    def __init__(self, name):\n",
    "        print(\"You are in Person __init__\")\n",
    "        self.name = name\n",
    "        print(\"Name is coming from Parent\")    \n",
    "    def display(self):\n",
    "        print(f\"Hello!! My name is {self.name}\")\n",
    "\n",
    "\n",
    "class emp(Person): #child class\n",
    "    def __init__(self, name, age):\n",
    "        print(\"You are inside child emp __init__\")\n",
    "        Person.__init__(self, name)\n",
    "        self.age = age\n",
    "        print(\"Age is coming from Child\")   \n",
    "    def display(self):\n",
    "        print(f\"Hello!! My name is {self.name} and I am {self.age} years old\")\n",
    "e1 = emp(\"Bhaskar\", 25)\n",
    "e1.display()"
   ]
  },
  {
   "cell_type": "code",
   "execution_count": 79,
   "metadata": {},
   "outputs": [
    {
     "name": "stdout",
     "output_type": "stream",
     "text": [
      " you are in child function now \n",
      " you are inside parent  person __init__\n",
      " name is coming from parent class\n",
      " we use age attribute self.age\n",
      " we are in display function of child class now name is = aksh and age is = 45\n"
     ]
    }
   ],
   "source": [
    "class person:\n",
    "    def __init__(self ,name ):  \n",
    "        print(\" you are inside parent  person __init__\") \n",
    "        self.name=name \n",
    "        print(\" name is coming from parent class\") \n",
    "        \n",
    "    def dis(self):\n",
    "        print(f\" we are in parent class and name is { self.name}\") \n",
    "        \n",
    "        \n",
    "                \n",
    "class emp(person):\n",
    "        def __init__(self, name ,age):\n",
    "            print(\" you are in child function now \")\n",
    "            person.__init__(self,name)\n",
    "            self.age=age \n",
    "            print(\" we use age attribute self.age\")\n",
    "            \n",
    "        def dis(self) :\n",
    "            print(f\" we are in display function of child class now name is = {self.name} and age is = {self.age}\") \n",
    "            \n",
    "            \n",
    "            \n",
    "output=emp(\"aksh\" , \"45\") \n",
    "output.dis()"
   ]
  },
  {
   "cell_type": "markdown",
   "metadata": {},
   "source": [
    "### super function = #super will make the child class inherit  all the properties of parent   \n",
    "                               "
   ]
  },
  {
   "cell_type": "code",
   "execution_count": 87,
   "metadata": {},
   "outputs": [
    {
     "name": "stdout",
     "output_type": "stream",
     "text": [
      " you are in parent class whose name is india \n",
      " we are in the child class famous \n",
      " __init__ method is invoke of child famous class \n",
      "__init__ method invoke india parent class \n",
      " print we assinge attribute here  parent class over here \n",
      "child class method is completed  here \n",
      " you are in showcase method of child class \n",
      "in Maharashtra state we have Nashik city it famous for its grapes fruit which we get best quality  \n",
      "              from Trambak area \n"
     ]
    }
   ],
   "source": [
    "class india:\n",
    "    print(\" you are in parent class whose name is india \") \n",
    "    def __init__(self,state , city):\n",
    "        print(\"__init__ method invoke india parent class \")\n",
    "        self.state=state \n",
    "        self.city=city \n",
    "        print(\" print we assinge attribute here  parent class over here \")\n",
    "        \n",
    "    def show(self):\n",
    "        print( f\" we are in show method now we can asses her state{self.state} and {self.city}\") \n",
    "        \n",
    "        \n",
    "class famous(india):\n",
    "    print(\" we are in the child class famous \") \n",
    "    def __init__(self, state, city,fruit , place):\n",
    "        print(\" __init__ method is invoke of child famous class \")\n",
    "        super().__init__(state,city)  \n",
    "        self.fruit=fruit \n",
    "        self.place=place\n",
    "        print(\"child class method is completed  here \") \n",
    "        \n",
    "        \n",
    "    def showcase(self):\n",
    "        print(\" you are in showcase method of child class \")\n",
    "        print(f'''in {self.state} state we have {self.city} city it famous for its {self.fruit} fruit which we get best quality  \n",
    "              from {self.place} area ''' ) \n",
    "        \n",
    "        \n",
    "f1=famous('Maharashtra' ,'Nashik' ,'grapes' ,'Trambak')\n",
    "f1.showcase()\n",
    "\n",
    "\n"
   ]
  },
  {
   "cell_type": "code",
   "execution_count": 88,
   "metadata": {},
   "outputs": [
    {
     "name": "stdout",
     "output_type": "stream",
     "text": [
      "__init__ method invoke india parent class \n",
      " print we assinge attribute here  parent class over here \n",
      " we are in show method now we can asses her stateUttarPradesh and Varanasi\n"
     ]
    }
   ],
   "source": [
    "f2=india(\"UttarPradesh\" ,\"Varanasi\")\n",
    "f2.show()"
   ]
  },
  {
   "cell_type": "code",
   "execution_count": 90,
   "metadata": {},
   "outputs": [
    {
     "ename": "TypeError",
     "evalue": "famous.__init__() missing 2 required positional arguments: 'fruit' and 'place'",
     "output_type": "error",
     "traceback": [
      "\u001b[1;31m---------------------------------------------------------------------------\u001b[0m",
      "\u001b[1;31mTypeError\u001b[0m                                 Traceback (most recent call last)",
      "\u001b[1;32me:\\Python\\9.opps.ipynb Cell 41\u001b[0m line \u001b[0;36m1\n\u001b[1;32m----> <a href='vscode-notebook-cell:/e%3A/Python/9.opps.ipynb#X46sZmlsZQ%3D%3D?line=0'>1</a>\u001b[0m f3\u001b[39m=\u001b[39mfamous(\u001b[39m\"\u001b[39;49m\u001b[39mpanjab\u001b[39;49m\u001b[39m\"\u001b[39;49m,\u001b[39m\"\u001b[39;49m\u001b[39mjalandhar\u001b[39;49m\u001b[39m\"\u001b[39;49m)\n\u001b[0;32m      <a href='vscode-notebook-cell:/e%3A/Python/9.opps.ipynb#X46sZmlsZQ%3D%3D?line=2'>3</a>\u001b[0m f3\u001b[39m.\u001b[39mshowcase()\n",
      "\u001b[1;31mTypeError\u001b[0m: famous.__init__() missing 2 required positional arguments: 'fruit' and 'place'"
     ]
    }
   ],
   "source": [
    "f3=famous(\"panjab\",\"jalandhar\")\n",
    "\n",
    "f3.showcase()   # TypeError: famous.__init__() missing 2 required positional arguments: 'fruit' and 'place' "
   ]
  },
  {
   "cell_type": "code",
   "execution_count": 8,
   "metadata": {},
   "outputs": [
    {
     "name": "stdout",
     "output_type": "stream",
     "text": [
      "your are inside child class of car (invoked)\n",
      "your are inside class car parent class (invoked)\n",
      "here weare using logic of super function \n",
      "hi my name is jayraj and my car brand is lamborghini\n",
      "my car name is lamborghini aventador and which cost me 4.8cr in india \n",
      "i have choosed safron colour\n"
     ]
    }
   ],
   "source": [
    "#logic of super function \n",
    "class car_model:\n",
    "    def __init__(self,name,brand,country):\n",
    "        print(\"your are inside class car parent class (invoked)\")\n",
    "        print(\"here weare using logic of super function \")\n",
    "        self.name=name\n",
    "        self.brand=brand\n",
    "        self.country=country\n",
    "        \n",
    "    def show(self):\n",
    "        print(f\"hi my name is {self.name} and my car brand is {self.brand}\")\n",
    "        \n",
    "        \n",
    "        \n",
    "class car(car_model):\n",
    "    def __init__(self, name, brand,country,car_name,price,car_colour):\n",
    "        print(\"your are inside child class of car (invoked)\")\n",
    "        super().__init__(name,brand,country)\n",
    "        self.car_name=car_name\n",
    "        self.price=price\n",
    "        self.car_colour=car_colour \n",
    "        \n",
    "    def display(self):\n",
    "        print(f\"\"\"hi my name is {self.name} and my car brand is {self.brand}\n",
    "my car name is {self.car_name} and which cost me {self.price} in {self.country} \n",
    "i have choosed {self.car_colour} colour\"\"\") \n",
    "\n",
    "\n",
    "emp2=car(\"jayraj\",\"lamborghini\",\"india\",\"lamborghini aventador\",\"4.8cr\",\"safron\")\n",
    "emp2.display()"
   ]
  },
  {
   "cell_type": "code",
   "execution_count": 7,
   "metadata": {},
   "outputs": [
    {
     "name": "stdout",
     "output_type": "stream",
     "text": [
      " now you are in aeroplane class  which is parent class \n",
      " you are in type_p classs which is child classs \n",
      " you are in extra_type classs which is child classs \n",
      " __init__ metod invoked\n",
      "extra_type method is all completed \n",
      " you are in showcase function of child class \n",
      " plane name is Rafale model is fighter_jet and its range is 7000km/hr\n"
     ]
    }
   ],
   "source": [
    "class aeroplane :\n",
    "    print( \" now you are in aeroplane class  which is parent class \")\n",
    "    def __init__(self , name , model) :\n",
    "        print(\" __init__ metod invoked\") \n",
    "        self.name=name\n",
    "        self.model=model \n",
    "        \n",
    "    def show(self):\n",
    "        print( f\" we are in show function here name is {self.name} and model is {self.model}\")\n",
    "        \n",
    "\n",
    "class type_p(aeroplane):\n",
    "    print( \" you are in type_p classs which is child classs \")\n",
    "    def __init__(self, name, model,speed,):\n",
    "        aeroplane.__init__(self,name,model)\n",
    "        self.speed=speed \n",
    "        print(\"__init__ method is get completed here \")\n",
    "        \n",
    "    def showcase(self):\n",
    "        print(\" you are in showcase function of child class \")\n",
    "        print( f\" plane name is {self.name} model is {self.model} and speed is {self.speed}\") \n",
    "        \n",
    "        \n",
    "class extra_type(aeroplane):\n",
    "    print( \" you are in extra_type classs which is child classs \")\n",
    "    def __init__(self , name,model,range):\n",
    "        aeroplane.__init__(self,name,model)\n",
    "        self.range=range \n",
    "        print(\"extra_type method is all completed \") \n",
    "        \n",
    "    def show_all(self):\n",
    "        print(\" you are in showcase function of child class \")\n",
    "        print( f\" plane name is {self.name} model is {self.model} and its range is {self.range}\") \n",
    "     \n",
    "    \n",
    " \n",
    " \n",
    " \n",
    "t1=extra_type(\"Rafale\" , \"fighter_jet\" , \"7000km/hr\")\n",
    "t1.show_all()\n",
    "\n",
    "\n",
    "\n",
    "# you can acess differnt differnt child class with your requirement "
   ]
  },
  {
   "cell_type": "code",
   "execution_count": null,
   "metadata": {},
   "outputs": [],
   "source": [
    "class education :\n",
    "    print(\" your are in education parent classs now..\")\n",
    "    \n",
    "    def __init__(self , name, std) :\n",
    "        print(\"__init__ method invoke in education class \")\n",
    "        self.name=name\n",
    "        self.std=std \n",
    "        print( \" eduction class is completed \")\n",
    "        \n",
    "    def show(self):\n",
    "        print(\" you are in show methos now..\")\n",
    "        print(f\" your name is {self.name} and  stanard is {self.std }\")\n",
    "        \n",
    "    \n",
    "class info(education):\n",
    "    print(\"you are in info class which is child class \")\n",
    "    def __init__(self, name,std, marks):\n",
    "        print(\"__init__ metod invoke in info child class \")\n",
    "        super().__init__(name,std) \n",
    "        self.marks=marks \n",
    "        print(\"__init method is completed in info child class\")\n",
    "        \n",
    "    def showcase(self):\n",
    "        print(\"you are in shocase method of info child class \")\n",
    "        print(f\" your name is {self.name} and  stanard is {self.std }  and your marks is {self.marks}\") \n",
    "        \n",
    "        \n",
    "        \n",
    "\n",
    "    \n",
    "        \n",
    "        \n",
    "t1=info('narendra' ,'10th' ,'67%')\n",
    "t1.showcase()\n",
    "        "
   ]
  },
  {
   "cell_type": "code",
   "execution_count": 6,
   "metadata": {},
   "outputs": [
    {
     "name": "stdout",
     "output_type": "stream",
     "text": [
      " your are in education parent classs now..\n",
      "you are in info class which is child class \n",
      " you are in all_info child class now which have one parent/child class \n",
      "__init__ metod invoke in info child class \n",
      "__init__ method invoke in education class \n",
      " eduction class is completed \n",
      "__init method is completed in info child class\n",
      "you are in all_info child class now which have one parent/child class  & its method is completed here \n",
      " you are in sho_all function now here \n",
      " your name is narendra and  stanard is 10th  and your marks is 67% and difficult subject is physics\n"
     ]
    }
   ],
   "source": [
    "class education :\n",
    "    print(\" your are in education parent classs now..\")\n",
    "    \n",
    "    def __init__(self , name, std) :\n",
    "        print(\"__init__ method invoke in education class \")\n",
    "        self.name=name\n",
    "        self.std=std \n",
    "        print( \" eduction class is completed \")\n",
    "        \n",
    "    def show(self):\n",
    "        print(\" you are in show methos now..\")\n",
    "        print(f\" your name is {self.name} and  stanard is {self.std }\")\n",
    "        \n",
    "    \n",
    "class info(education):\n",
    "    print(\"you are in info class which is child class \")\n",
    "    def __init__(self, name,std, marks):\n",
    "        print(\"__init__ metod invoke in info child class \")\n",
    "        super().__init__(name,std) \n",
    "        self.marks=marks \n",
    "        print(\"__init method is completed in info child class\")\n",
    "        \n",
    "    def showcase(self):\n",
    "        print(\"you are in shocase method of info child class \")\n",
    "        print(f\" your name is {self.name} and  stanard is {self.std }  and your marks is {self.marks}\") \n",
    "        \n",
    "        \n",
    "        \n",
    "class all_info(info):\n",
    "    print(\" you are in all_info child class now which have one parent/child class \")\n",
    "    def __init__(self, name, std, marks,diff):\n",
    "        super().__init__(name, std, marks)\n",
    "        self.diff=diff \n",
    "        print(\"you are in all_info child class now which have one parent/child class  & its method is completed here \") \n",
    "        \n",
    "    def show_all(self):\n",
    "        print(\" you are in show_all function now here \")\n",
    "        print(f\" your name is {self.name} and  stanard is {self.std }  and your marks is {self.marks} and difficult subject is {self.diff}\") \n",
    "        \n",
    "        \n",
    "        \n",
    "\n",
    "    \n",
    "    \n",
    "t1=all_info('narendra' ,'10th' ,'67%' ,'physics')\n",
    "t1.show_all()   \n",
    "\n",
    "\n",
    "\n",
    "# here you in insert parent class in chlild class and same child class in another child class these itretion will proceed further as your requirement \n",
    "\n",
    "        "
   ]
  },
  {
   "cell_type": "markdown",
   "metadata": {},
   "source": [
    "### Encapsulation"
   ]
  },
  {
   "cell_type": "markdown",
   "metadata": {},
   "source": [
    "### Encapsulation is one of the four fundamental OOP concepts. It refers to the bundling of data (attributes) and methods (functions) that operate on the data   into a single unit, known as a class.\n",
    "### The main idea is to restrict access to some of an object's components. This means that the internal representation of an object is hidden from the outside."
   ]
  },
  {
   "cell_type": "code",
   "execution_count": 9,
   "metadata": {},
   "outputs": [
    {
     "name": "stdout",
     "output_type": "stream",
     "text": [
      " your total balance is 5000\n"
     ]
    }
   ],
   "source": [
    "class BankAccount:\n",
    "    def __init__(self, balance):\n",
    "        self.__balance = balance  # Private attribute\n",
    "\n",
    "    def get_balance(self):\n",
    "        return self.__balance\n",
    "\n",
    "    def deposit(self, amount):\n",
    "        self.__balance += amount\n",
    "        print(f\"your all total  balance  {self.__balance}  and your deposites  latest amount is {amount} \")\n",
    "\n",
    "    def withdraw(self, amount):\n",
    "        if amount <= self.__balance:\n",
    "            print(f\"  your total balnce was  {self.__balance} \")\n",
    "            self.__balance -= amount  \n",
    "            print(f\"  withdraw amount is {amount}  \\n now your total balnce is {self.__balance} \")\n",
    "            \n",
    "        else:\n",
    "            print(f\"you have Insufficient funds!  \\n your balance is {self.__balance} only \") \n",
    "            \n",
    "            \n",
    "t1=BankAccount(5000) \n",
    "t1.get_balance()  # i will print your bank account balance \n",
    "\n",
    "print(f\" your total balance is {t1.get_balance()}\")\n",
    "\n"
   ]
  },
  {
   "cell_type": "code",
   "execution_count": 10,
   "metadata": {},
   "outputs": [
    {
     "name": "stdout",
     "output_type": "stream",
     "text": [
      "your all total  balance  6000  and your deposites  latest amount is 1000 \n"
     ]
    }
   ],
   "source": [
    "# if you want to deposite some amount to your bank account then \n",
    "\n",
    "t1.deposit(1000) "
   ]
  },
  {
   "cell_type": "code",
   "execution_count": 11,
   "metadata": {},
   "outputs": [
    {
     "name": "stdout",
     "output_type": "stream",
     "text": [
      "  your total balnce was  6000 \n",
      "  withdraw amount is 5000  \n",
      " now your total balnce is 1000 \n"
     ]
    }
   ],
   "source": [
    "t1.withdraw(5000)"
   ]
  },
  {
   "cell_type": "code",
   "execution_count": 12,
   "metadata": {},
   "outputs": [
    {
     "name": "stdout",
     "output_type": "stream",
     "text": [
      " your bank balnce is :1000\n"
     ]
    }
   ],
   "source": [
    "print(f\" your bank balnce is :{t1.get_balance()}\")"
   ]
  },
  {
   "cell_type": "code",
   "execution_count": 13,
   "metadata": {},
   "outputs": [
    {
     "name": "stdout",
     "output_type": "stream",
     "text": [
      "you have Insufficient funds!  \n",
      " your balance is 1000 only \n"
     ]
    }
   ],
   "source": [
    "t1.withdraw(1500)"
   ]
  },
  {
   "cell_type": "code",
   "execution_count": null,
   "metadata": {},
   "outputs": [],
   "source": []
  },
  {
   "cell_type": "code",
   "execution_count": null,
   "metadata": {},
   "outputs": [],
   "source": []
  },
  {
   "cell_type": "code",
   "execution_count": null,
   "metadata": {},
   "outputs": [],
   "source": [
    "class BankAccount:\n",
    "    def __init__(self, balance):\n",
    "        self.__balance = balance  # Private attribute\n",
    "\n",
    "    def get_balance(self):\n",
    "        return self.__balance\n",
    "\n",
    "    def deposit(self, amount):\n",
    "        self.__balance += amount\n",
    "        print(f\"your all total  amount is {self.__balance}  and your deposites  latest amount is {amount} \")\n",
    "\n",
    "    def withdraw(self, amount):\n",
    "        if amount <= self.__balance:\n",
    "            print(f\" your  withdraw amount is {amount}  now your total balnce is {self.__balance} \")\n",
    "            self.__balance -= amount  \n",
    "            print(f\" deu to  withdraw amount is {amount}  now your total balnce is {self.__balance} \")\n",
    "            \n",
    "        else:\n",
    "            print(f\"you have Insufficient funds!  \\n your balance is {self.__balance} only \") \n",
    "            \n",
    "            \n",
    "t1=BankAccount(100) \n",
    "t1.get_balance()  # i will print your bank account balance \n",
    "\n",
    "print(f\" your total balance is {t1.get_balance()}\")\n"
   ]
  },
  {
   "cell_type": "code",
   "execution_count": null,
   "metadata": {},
   "outputs": [],
   "source": [
    "# Abstract Class/ Abstraction \n",
    "\n",
    "# Abstract function -> User will get to know \"What it does\" but not \"How it does\" \n",
    "\n",
    "# Abstract Class - A class that contains one or more of these abstract functions"
   ]
  },
  {
   "cell_type": "markdown",
   "metadata": {},
   "source": [
    "### Abstraction"
   ]
  },
  {
   "cell_type": "code",
   "execution_count": null,
   "metadata": {},
   "outputs": [],
   "source": [
    "#  Abstraction is the process of hiding the complex implementation details \n",
    "#  and showing only the essential features of an object."
   ]
  },
  {
   "cell_type": "code",
   "execution_count": null,
   "metadata": {},
   "outputs": [],
   "source": [
    "#  abstraction allows you to focus on what an object does rather than how it achieves it."
   ]
  },
  {
   "cell_type": "code",
   "execution_count": 14,
   "metadata": {},
   "outputs": [
    {
     "name": "stdout",
     "output_type": "stream",
     "text": [
      "78.5\n",
      "24\n"
     ]
    }
   ],
   "source": [
    "from abc import ABC, abstractmethod\n",
    "\n",
    "# Abstract class representing a Shape\n",
    "class Shape(ABC):\n",
    "    @abstractmethod\n",
    "    def calculate_area(self):\n",
    "        pass\n",
    "\n",
    "# Concrete subclass Circle\n",
    "class Circle(Shape):\n",
    "    def __init__(self, radius):\n",
    "        self.radius = radius\n",
    "\n",
    "    def calculate_area(self):\n",
    "        return 3.14 * self.radius ** 2\n",
    "\n",
    "# Concrete subclass Rectangle\n",
    "class Rectangle(Shape):\n",
    "    def __init__(self, length, width):\n",
    "        self.length = length\n",
    "        self.width = width\n",
    "\n",
    "    def calculate_area(self):\n",
    "        return self.length * self.width\n",
    "\n",
    "# Using abstraction to work with shapes\n",
    "circle = Circle(radius=5)\n",
    "rectangle = Rectangle(length=4, width=6)\n",
    "\n",
    "print(circle.calculate_area())    #\n",
    "print(rectangle.calculate_area())"
   ]
  },
  {
   "cell_type": "code",
   "execution_count": 21,
   "metadata": {},
   "outputs": [
    {
     "name": "stdout",
     "output_type": "stream",
     "text": [
      "Providing proper nutrition and creating a suitable habitat for lions.\n",
      "Maintaining a cold environment and providing fish for penguins.\n"
     ]
    }
   ],
   "source": [
    "class AnimalCare:\n",
    "    def take_care(self):\n",
    "        pass\n",
    "\n",
    "class LionCare(AnimalCare):\n",
    "    def take_care(self):\n",
    "        return \"Providing proper nutrition and creating a suitable habitat for lions.\"\n",
    "\n",
    "class PenguinCare(AnimalCare):\n",
    "    def take_care(self):\n",
    "        return \"Maintaining a cold environment and providing fish for penguins.\"\n",
    "\n",
    "# Visitors interact with the zoo exhibits (abstraction)\n",
    "lion_exhibit = LionCare()\n",
    "penguin_exhibit = PenguinCare()\n",
    "\n",
    "print(lion_exhibit.take_care())      \n",
    "print(penguin_exhibit.take_care())   \n"
   ]
  },
  {
   "cell_type": "code",
   "execution_count": 25,
   "metadata": {},
   "outputs": [
    {
     "name": "stdout",
     "output_type": "stream",
     "text": [
      "Car: Engine started.\n",
      "Car: Moving forward.\n",
      "Bike: Engine started.\n",
      "Bike: Moving forward.\n"
     ]
    }
   ],
   "source": [
    "from abc import ABC, abstractmethod\n",
    "\n",
    "class Vehicle(ABC):\n",
    "    @abstractmethod\n",
    "    def start_engine(self):\n",
    "        pass\n",
    "\n",
    "    @abstractmethod\n",
    "    def move_forward(self):\n",
    "        pass\n",
    "\n",
    "class Car(Vehicle):\n",
    "    def start_engine(self):\n",
    "        return \"Car: Engine started.\"\n",
    "\n",
    "    def move_forward(self):\n",
    "        return \"Car: Moving forward.\"\n",
    "\n",
    "class Bike(Vehicle):\n",
    "    def start_engine(self):\n",
    "        return \"Bike: Engine started.\"\n",
    "\n",
    "    def move_forward(self):\n",
    "        return \"Bike: Moving forward.\"\n",
    "\n",
    "# Using the vehicle interface (abstraction)\n",
    "my_car = Car()\n",
    "my_bike = Bike()\n",
    "\n",
    "print(my_car.start_engine())     \n",
    "print(my_car.move_forward())      \n",
    "\n",
    "print(my_bike.start_engine())     \n",
    "print(my_bike.move_forward())    \n"
   ]
  },
  {
   "cell_type": "markdown",
   "metadata": {},
   "source": [
    "### Encapsulation"
   ]
  },
  {
   "cell_type": "code",
   "execution_count": null,
   "metadata": {},
   "outputs": [],
   "source": [
    "# Encapsulation is the bundling of data (attributes) and the methods (functions)\n",
    "# that operate on the data into a single unit known as a class."
   ]
  },
  {
   "cell_type": "code",
   "execution_count": 16,
   "metadata": {},
   "outputs": [
    {
     "name": "stdout",
     "output_type": "stream",
     "text": [
      "John\n",
      "20\n",
      "20\n"
     ]
    }
   ],
   "source": [
    "class Student:\n",
    "    def __init__(self, name, age):\n",
    "        self.__name = name  \n",
    "        self.__age = age   \n",
    "\n",
    "    def get_name(self):\n",
    "        return self.__name\n",
    "\n",
    "    def get_age(self):\n",
    "        return self.__age\n",
    "\n",
    "    def set_age(self, new_age):\n",
    "        if 0 < new_age < 120:\n",
    "            self.__age = new_age\n",
    "        else:\n",
    "            print(\"Invalid age\")\n",
    "\n",
    "\n",
    "student1 = Student(\"John\", 20)\n",
    "\n",
    "\n",
    "print(student1.get_name())  \n",
    "print(student1.get_age())   \n",
    "\n",
    "# Attempting to modify age directly (which is prevented)\n",
    "student1.__age = 25\n",
    "print(student1.get_age())  \n"
   ]
  },
  {
   "cell_type": "code",
   "execution_count": 22,
   "metadata": {},
   "outputs": [
    {
     "name": "stdout",
     "output_type": "stream",
     "text": [
      "Jane is feeding the lion.\n",
      "Jane is feeding the penguin.\n"
     ]
    }
   ],
   "source": [
    "class Zookeeper:\n",
    "    def __init__(self, name):\n",
    "        self.__name = name \n",
    "\n",
    "    def feed_animal(self, animal):\n",
    "        return f\"{self.__name} is feeding the {animal}.\"\n",
    "\n",
    "\n",
    "zookeeper_jane = Zookeeper(\"Jane\")\n",
    "\n",
    "# Visitors interact with the zookeeper, not the details of care routines\n",
    "print(zookeeper_jane.feed_animal(\"lion\"))    \n",
    "print(zookeeper_jane.feed_animal(\"penguin\"))  \n"
   ]
  },
  {
   "cell_type": "markdown",
   "metadata": {},
   "source": [
    "### Polymorphism:"
   ]
  },
  {
   "cell_type": "code",
   "execution_count": null,
   "metadata": {},
   "outputs": [],
   "source": [
    "# Polymorphism allows objects of different types to be treated as objects of a common type. \n",
    "# It can be achieved through method overloading or method overriding."
   ]
  },
  {
   "cell_type": "code",
   "execution_count": 19,
   "metadata": {},
   "outputs": [
    {
     "name": "stdout",
     "output_type": "stream",
     "text": [
      "Woof!\n",
      "Meow!\n"
     ]
    }
   ],
   "source": [
    "class Animal:\n",
    "    pass\n",
    "\n",
    "class Dog(Animal):\n",
    "    speak = \"Woof!\"\n",
    "\n",
    "class Cat(Animal):\n",
    "    speak = \"Meow!\"\n",
    "\n",
    "# Instantiate objects directly\n",
    "dog_instance = Dog()\n",
    "cat_instance = Cat()\n",
    "\n",
    "# Access the speak attribute directly on instances\n",
    "print(dog_instance.speak)  \n",
    "print(cat_instance.speak) \n"
   ]
  },
  {
   "cell_type": "code",
   "execution_count": 20,
   "metadata": {},
   "outputs": [
    {
     "name": "stdout",
     "output_type": "stream",
     "text": [
      "Vroom!\n",
      "Vroom! (Bike version)\n"
     ]
    }
   ],
   "source": [
    "class Vehicle:\n",
    "    def make_sound(self):\n",
    "        pass\n",
    "\n",
    "class Car(Vehicle):\n",
    "    def make_sound(self):\n",
    "        return \"Vroom!\"\n",
    "\n",
    "class Bike(Vehicle):\n",
    "    def make_sound(self):\n",
    "        return \"Vroom! (Bike version)\"\n",
    "\n",
    "\n",
    "my_car = Car()\n",
    "my_bike = Bike()\n",
    "\n",
    "# Inline method calls without a separate function\n",
    "print(my_car.make_sound())   \n",
    "print(my_bike.make_sound())  \n"
   ]
  },
  {
   "cell_type": "markdown",
   "metadata": {},
   "source": [
    "###  Inheritance:"
   ]
  },
  {
   "cell_type": "code",
   "execution_count": null,
   "metadata": {},
   "outputs": [],
   "source": [
    "# Inheritance is a mechanism that allows a new class (subclass) \n",
    "# to inherit the properties and behaviors of an existing class (superclass). \n",
    "# The existing class is called the base class or superclass, and the new class is called the derived class or subclass"
   ]
  },
  {
   "cell_type": "code",
   "execution_count": null,
   "metadata": {},
   "outputs": [],
   "source": [
    "class Vehicle:\n",
    "    def __init__(self, brand):\n",
    "        self.brand = brand\n",
    "\n",
    "    def get_brand(self):\n",
    "        return self.brand\n",
    "\n",
    "class Car(Vehicle):\n",
    "    def __init__(self, brand, model):\n",
    "        super().__init__(brand)\n",
    "        self.model = model\n",
    "\n",
    "    def get_model(self):\n",
    "        return self.model\n"
   ]
  },
  {
   "cell_type": "code",
   "execution_count": 23,
   "metadata": {},
   "outputs": [
    {
     "name": "stdout",
     "output_type": "stream",
     "text": [
      "Lion\n",
      "Roar!\n"
     ]
    }
   ],
   "source": [
    "class Animal:\n",
    "    def __init__(self, species):\n",
    "        self.species = species\n",
    "\n",
    "    def get_species(self):\n",
    "        return self.species\n",
    "\n",
    "class BigCat(Animal):\n",
    "    def __init__(self, species, roar):\n",
    "        super().__init__(species)\n",
    "        self.roar = roar\n",
    "\n",
    "    def get_roar(self):\n",
    "        return self.roar\n",
    "\n",
    "class Lion(BigCat):\n",
    "    def __init__(self):\n",
    "        super().__init__(\"Lion\", \"Roar!\")\n",
    "\n",
    "# Inheritance hierarchy in the zoo\n",
    "lion = Lion()\n",
    "\n",
    "print(lion.get_species())  # Output: Lion\n",
    "print(lion.get_roar())     # Output: Roar!\n"
   ]
  }
 ],
 "metadata": {
  "kernelspec": {
   "display_name": "Python 3",
   "language": "python",
   "name": "python3"
  },
  "language_info": {
   "codemirror_mode": {
    "name": "ipython",
    "version": 3
   },
   "file_extension": ".py",
   "mimetype": "text/x-python",
   "name": "python",
   "nbconvert_exporter": "python",
   "pygments_lexer": "ipython3",
   "version": "3.12.0"
  }
 },
 "nbformat": 4,
 "nbformat_minor": 2
}
