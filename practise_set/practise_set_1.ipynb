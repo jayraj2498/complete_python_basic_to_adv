{
 "cells": [
  {
   "cell_type": "code",
   "execution_count": null,
   "metadata": {},
   "outputs": [],
   "source": [
    "# Write a programe to open file 1,2,3 .txt if any of these file are a msg\n",
    "# without existig the programe must be prented promting the same \n"
   ]
  },
  {
   "cell_type": "code",
   "execution_count": 1,
   "metadata": {},
   "outputs": [
    {
     "name": "stdout",
     "output_type": "stream",
     "text": [
      "these is 1.txt\n",
      "these is 2,txt \n",
      "these is 3.txt\n"
     ]
    }
   ],
   "source": [
    "def openfile(file):\n",
    "    with open(file,\"r\") as f :\n",
    "        print(f.read())\n",
    "        \n",
    "        \n",
    "openfile('1.txt')\n",
    "openfile('2.txt')\n",
    "openfile('3.txt')"
   ]
  },
  {
   "cell_type": "code",
   "execution_count": 4,
   "metadata": {},
   "outputs": [
    {
     "name": "stdout",
     "output_type": "stream",
     "text": [
      "these is 1.txt\n",
      "these file is not found:= 2.txt\n",
      "these is 3.txt\n"
     ]
    }
   ],
   "source": [
    "# now if we delete file no 2 then handle that exception  \n",
    "\n",
    "def openfile(file):\n",
    "    try:\n",
    "        with open(file,\"r\") as f:\n",
    "            print(f.read()) \n",
    "            \n",
    "    except FileNotFoundError :\n",
    "        print(f\"these file is not found:= {file}\")        \n",
    "        \n",
    "    \n",
    "\n",
    "        \n",
    "openfile('1.txt')\n",
    "openfile('2.txt')\n",
    "openfile('3.txt')"
   ]
  },
  {
   "cell_type": "code",
   "execution_count": null,
   "metadata": {},
   "outputs": [],
   "source": [
    "# write a prograem to print 3,4,7 element from the list "
   ]
  },
  {
   "cell_type": "code",
   "execution_count": 6,
   "metadata": {},
   "outputs": [
    {
     "name": "stdout",
     "output_type": "stream",
     "text": [
      "4 55\n",
      "5 75\n",
      "8 21\n"
     ]
    }
   ],
   "source": [
    "list=[34,56,78,32,55,75,89,23,21,99,20,88]\n",
    "\n",
    "for index, i in enumerate(list):\n",
    "    if index==4 or index==5 or index==8 :\n",
    "        print(index, i)"
   ]
  },
  {
   "cell_type": "code",
   "execution_count": 8,
   "metadata": {},
   "outputs": [
    {
     "name": "stdout",
     "output_type": "stream",
     "text": [
      "5th number is  55\n",
      "6th number is  75\n",
      "9th number is  21\n"
     ]
    }
   ],
   "source": [
    "list=[34,56,78,32,55,75,89,23,21,99,20,88]\n",
    "\n",
    "for index, i in enumerate(list):\n",
    "    if index==4 or index==5 or index==8 :\n",
    "        print(f\"{index+1}th number is  {i}\")"
   ]
  },
  {
   "cell_type": "code",
   "execution_count": null,
   "metadata": {},
   "outputs": [],
   "source": [
    "# \"Write a list comprehension to print a list which contains the multiplication table of a user-entered number.\""
   ]
  },
  {
   "cell_type": "code",
   "execution_count": 10,
   "metadata": {},
   "outputs": [
    {
     "name": "stdout",
     "output_type": "stream",
     "text": [
      "[5, 10, 15, 20, 25, 30, 35, 40, 45, 50]\n"
     ]
    }
   ],
   "source": [
    "num=int(input(\"enter the number\"))\n",
    "\n",
    "table = [num *i for i in range(1,11)]\n",
    "\n",
    "print(table)"
   ]
  },
  {
   "cell_type": "code",
   "execution_count": 12,
   "metadata": {},
   "outputs": [
    {
     "name": "stdout",
     "output_type": "stream",
     "text": [
      "5 X 1 =5\n",
      "5 X 2 =10\n",
      "5 X 3 =15\n",
      "5 X 4 =20\n",
      "5 X 5 =25\n",
      "5 X 6 =30\n",
      "5 X 7 =35\n",
      "5 X 8 =40\n",
      "5 X 9 =45\n",
      "5 X 10 =50\n"
     ]
    }
   ],
   "source": [
    "num=int(input(\"enter the number\"))  \n",
    "\n",
    "for i in  range(1,11):\n",
    "    print(f'{num} X {i} ={i*num}')"
   ]
  },
  {
   "cell_type": "code",
   "execution_count": 19,
   "metadata": {},
   "outputs": [
    {
     "name": "stdout",
     "output_type": "stream",
     "text": [
      "[8, 16, 24, 32, 40, 48, 56, 64, 72, 80]\n"
     ]
    }
   ],
   "source": [
    "# store  above table  in file  \n",
    "\n",
    "num=int(input(\"enter the number\"))  \n",
    "\n",
    "table=[num*i for i in range(1,11)]\n",
    "\n",
    "print(table)\n",
    "\n",
    "with open(\"table.txt\" ,\"a\") as f :\n",
    "    f.write(str(table)) \n",
    "    f.write('\\n')"
   ]
  },
  {
   "cell_type": "code",
   "execution_count": 14,
   "metadata": {},
   "outputs": [
    {
     "name": "stdout",
     "output_type": "stream",
     "text": [
      "division by zero\n"
     ]
    }
   ],
   "source": [
    "num1=int(input(\"enter the number\"))  \n",
    "num2=int(input(\"enter the number\"))  \n",
    "\n",
    "try :\n",
    "    result=num1/num2 \n",
    "    \n",
    "except ZeroDivisionError as e:\n",
    "    print(e)\n",
    "\n",
    "else:\n",
    "    print(result)"
   ]
  },
  {
   "cell_type": "code",
   "execution_count": null,
   "metadata": {},
   "outputs": [],
   "source": []
  },
  {
   "cell_type": "code",
   "execution_count": null,
   "metadata": {},
   "outputs": [],
   "source": []
  },
  {
   "cell_type": "code",
   "execution_count": null,
   "metadata": {},
   "outputs": [],
   "source": []
  },
  {
   "cell_type": "code",
   "execution_count": null,
   "metadata": {},
   "outputs": [],
   "source": []
  },
  {
   "cell_type": "code",
   "execution_count": null,
   "metadata": {},
   "outputs": [],
   "source": []
  },
  {
   "cell_type": "code",
   "execution_count": null,
   "metadata": {},
   "outputs": [],
   "source": []
  },
  {
   "cell_type": "code",
   "execution_count": null,
   "metadata": {},
   "outputs": [],
   "source": []
  },
  {
   "cell_type": "code",
   "execution_count": null,
   "metadata": {},
   "outputs": [],
   "source": []
  },
  {
   "cell_type": "code",
   "execution_count": null,
   "metadata": {},
   "outputs": [],
   "source": []
  },
  {
   "cell_type": "code",
   "execution_count": null,
   "metadata": {},
   "outputs": [],
   "source": []
  },
  {
   "cell_type": "code",
   "execution_count": null,
   "metadata": {},
   "outputs": [],
   "source": []
  },
  {
   "cell_type": "code",
   "execution_count": null,
   "metadata": {},
   "outputs": [],
   "source": []
  }
 ],
 "metadata": {
  "kernelspec": {
   "display_name": "Python 3",
   "language": "python",
   "name": "python3"
  },
  "language_info": {
   "codemirror_mode": {
    "name": "ipython",
    "version": 3
   },
   "file_extension": ".py",
   "mimetype": "text/x-python",
   "name": "python",
   "nbconvert_exporter": "python",
   "pygments_lexer": "ipython3",
   "version": "3.12.0"
  }
 },
 "nbformat": 4,
 "nbformat_minor": 2
}
